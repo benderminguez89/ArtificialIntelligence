{
  "cells": [
    {
      "cell_type": "markdown",
      "metadata": {
        "id": "view-in-github",
        "colab_type": "text"
      },
      "source": [
        "<a href=\"https://colab.research.google.com/github/benderminguez89/ArtificialIntelligence/blob/main/AI_FinalProj.ipynb\" target=\"_parent\"><img src=\"https://colab.research.google.com/assets/colab-badge.svg\" alt=\"Open In Colab\"/></a>"
      ]
    },
    {
      "cell_type": "markdown",
      "metadata": {
        "id": "EpLZ5UQkhFp9"
      },
      "source": [
        "# IMPORT LIBRARIES + LOAD DATASET"
      ]
    },
    {
      "cell_type": "code",
      "execution_count": 417,
      "metadata": {
        "id": "vTBluflKdQbo"
      },
      "outputs": [],
      "source": [
        "import pandas as pd\n",
        "import numpy as np\n",
        "\n",
        "import matplotlib.pyplot as plt\n",
        "\n",
        "from sklearn.linear_model import LogisticRegression\n",
        "from sklearn.tree import DecisionTreeClassifier\n",
        "from sklearn.model_selection import train_test_split, GridSearchCV\n",
        "from sklearn.preprocessing import LabelEncoder, OneHotEncoder, OrdinalEncoder, StandardScaler, MinMaxScaler, normalize\n",
        "from sklearn.compose import ColumnTransformer\n",
        "from sklearn.metrics import classification_report, accuracy_score, precision_score, recall_score, f1_score\n",
        "\n",
        "import tensorflow as tf\n",
        "from keras import models, layers, optimizers, regularizers\n",
        "\n",
        "names = ['age', 'workclass', 'fnlwgt', 'education', 'education-num', \n",
        "                 'marital-status', 'occupation', 'relationship', 'race', 'sex', \n",
        "                 'capital-gain', 'capital-loss', 'hours-per-week', \n",
        "                 'native-country', 'income']\n",
        "\n",
        "# Load data from URL\n",
        "url = \"http://archive.ics.uci.edu/ml/machine-learning-databases/adult/adult.data\"\n",
        "data = pd.read_csv(url, header=None, names=names, na_values=['?', ' ?'])"
      ]
    },
    {
      "cell_type": "markdown",
      "metadata": {
        "id": "xknj8Jn6hP9c"
      },
      "source": [
        "# EXPLORATORY DATA ANALYSIS"
      ]
    },
    {
      "cell_type": "code",
      "execution_count": 418,
      "metadata": {
        "colab": {
          "base_uri": "https://localhost:8080/",
          "height": 0
        },
        "id": "d42-XJ3ugai1",
        "outputId": "c46e900d-0381-43a9-b517-631b3e10b7b5"
      },
      "outputs": [
        {
          "output_type": "stream",
          "name": "stdout",
          "text": [
            "Shape of overall DataFrame: (32561, 15)\n",
            "\n",
            "NaN values:\n",
            "age                  0\n",
            "workclass         1836\n",
            "fnlwgt               0\n",
            "education            0\n",
            "education-num        0\n",
            "marital-status       0\n",
            "occupation        1843\n",
            "relationship         0\n",
            "race                 0\n",
            "sex                  0\n",
            "capital-gain         0\n",
            "capital-loss         0\n",
            "hours-per-week       0\n",
            "native-country     583\n",
            "income               0\n",
            "dtype: int64\n",
            "\n",
            "Shape of overall DataFrame: (30162, 15)\n",
            "\n",
            "NaN values:\n",
            "age               0\n",
            "workclass         0\n",
            "fnlwgt            0\n",
            "education         0\n",
            "education-num     0\n",
            "marital-status    0\n",
            "occupation        0\n",
            "relationship      0\n",
            "race              0\n",
            "sex               0\n",
            "capital-gain      0\n",
            "capital-loss      0\n",
            "hours-per-week    0\n",
            "native-country    0\n",
            "income            0\n",
            "dtype: int64\n",
            "       age      workclass  fnlwgt      education  education-num  \\\n",
            "8630    21        Private  117210   Some-college             10   \n",
            "20942   44        Private  214415   Some-college             10   \n",
            "9332    31        Private  131568            9th              5   \n",
            "20432   59        Private  127728   Some-college             10   \n",
            "21151   63   Self-emp-inc  110610           10th              6   \n",
            "...    ...            ...     ...            ...            ...   \n",
            "24917   31        Private  446512   Some-college             10   \n",
            "27079   57    Federal-gov   30030        HS-grad              9   \n",
            "4882    29        Private  206351           10th              6   \n",
            "2365    47        Private  184945   Some-college             10   \n",
            "3423    43        Private  218558      Bachelors             13   \n",
            "\n",
            "               marital-status          occupation    relationship    race  \\\n",
            "8630            Never-married               Sales       Own-child   White   \n",
            "20942               Separated      Prof-specialty       Unmarried   Black   \n",
            "9332            Never-married   Machine-op-inspct   Not-in-family   White   \n",
            "20432      Married-civ-spouse        Tech-support         Husband   White   \n",
            "21151      Married-civ-spouse     Farming-fishing         Husband   White   \n",
            "...                       ...                 ...             ...     ...   \n",
            "24917               Separated       Other-service       Unmarried   Black   \n",
            "27079      Married-civ-spouse        Craft-repair         Husband   Black   \n",
            "4882       Married-civ-spouse        Craft-repair         Husband   White   \n",
            "2365                Separated       Other-service   Not-in-family   Black   \n",
            "3423    Married-spouse-absent      Prof-specialty   Not-in-family   White   \n",
            "\n",
            "           sex  capital-gain  capital-loss  hours-per-week  native-country  \n",
            "8630      Male             0             0              45   United-States  \n",
            "20942   Female             0             0              40   United-States  \n",
            "9332      Male             0             0              40   United-States  \n",
            "20432     Male             0             0              40   United-States  \n",
            "21151     Male             0             0              50   United-States  \n",
            "...        ...           ...           ...             ...             ...  \n",
            "24917   Female             0             0              40   United-States  \n",
            "27079     Male             0             0              40   United-States  \n",
            "4882      Male          5013             0              40   United-States  \n",
            "2365    Female             0             0              35   United-States  \n",
            "3423      Male          3325             0              40   United-States  \n",
            "\n",
            "[19303 rows x 14 columns]\n",
            "\n",
            "\n",
            "Training set shape:\n",
            "features->(19303, 14)\n",
            "  target->(19303,)\n",
            "<class 'pandas.core.frame.DataFrame'>\n",
            "Int64Index: 19303 entries, 8630 to 3423\n",
            "Data columns (total 14 columns):\n",
            " #   Column          Non-Null Count  Dtype \n",
            "---  ------          --------------  ----- \n",
            " 0   age             19303 non-null  int64 \n",
            " 1   workclass       19303 non-null  object\n",
            " 2   fnlwgt          19303 non-null  int64 \n",
            " 3   education       19303 non-null  object\n",
            " 4   education-num   19303 non-null  int64 \n",
            " 5   marital-status  19303 non-null  object\n",
            " 6   occupation      19303 non-null  object\n",
            " 7   relationship    19303 non-null  object\n",
            " 8   race            19303 non-null  object\n",
            " 9   sex             19303 non-null  object\n",
            " 10  capital-gain    19303 non-null  int64 \n",
            " 11  capital-loss    19303 non-null  int64 \n",
            " 12  hours-per-week  19303 non-null  int64 \n",
            " 13  native-country  19303 non-null  object\n",
            "dtypes: int64(6), object(8)\n",
            "memory usage: 2.2+ MB\n",
            "\n",
            "\n",
            "Info:\n",
            "None\n",
            "Describe:\n",
            "                age        fnlwgt  education-num  capital-gain  capital-loss  \\\n",
            "count  19303.000000  1.930300e+04   19303.000000  19303.000000  19303.000000   \n",
            "mean      38.453505  1.903039e+05      10.126561   1096.440553     89.984873   \n",
            "std       13.089978  1.053323e+05       2.553620   7525.328175    408.904708   \n",
            "min       17.000000  1.376900e+04       1.000000      0.000000      0.000000   \n",
            "25%       28.000000  1.183005e+05       9.000000      0.000000      0.000000   \n",
            "50%       37.000000  1.784490e+05      10.000000      0.000000      0.000000   \n",
            "75%       47.000000  2.386640e+05      13.000000      0.000000      0.000000   \n",
            "max       90.000000  1.226583e+06      16.000000  99999.000000   4356.000000   \n",
            "\n",
            "       hours-per-week  \n",
            "count    19303.000000  \n",
            "mean        40.919961  \n",
            "std         12.053909  \n",
            "min          1.000000  \n",
            "25%         40.000000  \n",
            "50%         40.000000  \n",
            "75%         45.000000  \n",
            "max         99.000000  \n",
            "Correlations:\n",
            "                     age    fnlwgt  education-num  capital-gain  capital-loss  \\\n",
            "age             1.000000 -0.075032       0.043743      0.070523      0.067033   \n",
            "fnlwgt         -0.075032  1.000000      -0.036929      0.002508     -0.016410   \n",
            "education-num   0.043743 -0.036929       1.000000      0.125358      0.075862   \n",
            "capital-gain    0.070523  0.002508       0.125358      1.000000     -0.032065   \n",
            "capital-loss    0.067033 -0.016410       0.075862     -0.032065      1.000000   \n",
            "hours-per-week  0.094640 -0.019097       0.156896      0.084850      0.052647   \n",
            "\n",
            "                hours-per-week  \n",
            "age                   0.094640  \n",
            "fnlwgt               -0.019097  \n",
            "education-num         0.156896  \n",
            "capital-gain          0.084850  \n",
            "capital-loss          0.052647  \n",
            "hours-per-week        1.000000  \n",
            "\n",
            " <=50K    14498\n",
            " >50K      4805\n",
            "Name: income, dtype: int64\n"
          ]
        },
        {
          "output_type": "stream",
          "name": "stderr",
          "text": [
            "<ipython-input-418-e6feeaa8e620>:22: FutureWarning: The default value of numeric_only in DataFrame.corr is deprecated. In a future version, it will default to False. Select only valid columns or specify the value of numeric_only to silence this warning.\n",
            "  print(f'\\n\\nInfo:\\n{X_train.info()}\\nDescribe:\\n{X_train.describe()}\\nCorrelations:\\n{X_train.corr()}\\n\\n{y_train.value_counts()}')\n"
          ]
        }
      ],
      "source": [
        "print(f'Shape of overall DataFrame: {data.shape}\\n\\nNaN values:\\n{data.isna().sum()}')\n",
        "\n",
        "#dropping all NaN data\n",
        "non_NaN_df = data.dropna()\n",
        "print(f'\\nShape of overall DataFrame: {non_NaN_df.shape}\\n\\nNaN values:\\n{non_NaN_df.isna().sum()}')\n",
        "\n",
        "# Split the non-NaN dataset into three sets of training, validation, and testing data\n",
        "X_train, X_test, y_train, y_test = train_test_split(non_NaN_df.drop('income', axis=1), non_NaN_df['income'], test_size=0.2,  shuffle=True, random_state=42, stratify=non_NaN_df['income'])\n",
        "X_train, X_val, y_train, y_val = train_test_split(X_train, y_train, test_size= 0.2, shuffle=True, random_state=42, stratify = y_train)\n",
        "\n",
        "#original training, validation and testing datasets for updated preprocessing and feature engineering\n",
        "orig_X_train, orig_y_train = X_train, y_train\n",
        "orig_X_test, orig_y_test = X_test, y_test\n",
        "orig_X_val, orig_y_val = X_val, y_val\n",
        "\n",
        "pd.set_option('display.max_columns', None)\n",
        "print(X_train)\n",
        "\n",
        "pd.set_option('display.max_columns', None)\n",
        "\n",
        "print(f'\\n\\nTraining set shape:\\nfeatures->{X_train.shape}\\n  target->{y_train.shape}')\n",
        "print(f'\\n\\nInfo:\\n{X_train.info()}\\nDescribe:\\n{X_train.describe()}\\nCorrelations:\\n{X_train.corr()}\\n\\n{y_train.value_counts()}')"
      ]
    },
    {
      "cell_type": "code",
      "execution_count": 419,
      "metadata": {
        "colab": {
          "base_uri": "https://localhost:8080/",
          "height": 472
        },
        "id": "Sk4NqMXfjLFT",
        "outputId": "08c2a8b4-cd04-4b11-bc50-bf410d59438a"
      },
      "outputs": [
        {
          "output_type": "display_data",
          "data": {
            "text/plain": [
              "<Figure size 640x480 with 1 Axes>"
            ],
            "image/png": "[encoded data removed]"
          },
          "metadata": {}
        }
      ],
      "source": [
        "viz_df = X_train\n",
        "viz_df['income'] = y_train\n",
        "\n",
        "\n",
        "#bar chart of the age distribution\n",
        "plt.hist(viz_df['age'], bins=20, )\n",
        "plt.xlabel('Age')\n",
        "plt.ylabel('Count')\n",
        "plt.title('Age Distribution')\n",
        "plt.show()"
      ]
    },
    {
      "cell_type": "code",
      "execution_count": 420,
      "metadata": {
        "colab": {
          "base_uri": "https://localhost:8080/",
          "height": 590
        },
        "id": "tRNm07ZijOYz",
        "outputId": "55e46297-7e95-411f-da64-db45e756f68d"
      },
      "outputs": [
        {
          "output_type": "display_data",
          "data": {
            "text/plain": [
              "<Figure size 640x480 with 1 Axes>"
            ],
            "image/png": "[encoded data removed]"
          },
          "metadata": {}
        }
      ],
      "source": [
        "#bar chart of occupation and average capital gain\n",
        "cap_gain = viz_df.groupby(['occupation'])['capital-gain'].mean().sort_values()\n",
        "cap_gain.plot(kind='bar')\n",
        "plt.xticks(rotation=85)\n",
        "plt.xlabel('Average Capital Gain by Occupation')\n",
        "plt.ylabel('USD')\n",
        "plt.title('Occupation and Average Capital Gain')\n",
        "plt.show()"
      ]
    },
    {
      "cell_type": "code",
      "execution_count": 421,
      "metadata": {
        "colab": {
          "base_uri": "https://localhost:8080/",
          "height": 659
        },
        "id": "QP5HgKLOjQGj",
        "outputId": "e41f646e-08b0-44b1-caf5-56fc0baf8b1c"
      },
      "outputs": [
        {
          "output_type": "display_data",
          "data": {
            "text/plain": [
              "<Figure size 640x480 with 1 Axes>"
            ],
            "image/png": "[encoded data removed]"
          },
          "metadata": {}
        }
      ],
      "source": [
        "#pie chart of workclass proportions\n",
        "workclass_counts = viz_df['workclass'].value_counts()\n",
        "plt.pie(workclass_counts, labels=workclass_counts.index, autopct='%.2f', radius=2)\n",
        "plt.title('Workclass Proportions')\n",
        "plt.show()"
      ]
    },
    {
      "cell_type": "code",
      "execution_count": 422,
      "metadata": {
        "colab": {
          "base_uri": "https://localhost:8080/",
          "height": 576
        },
        "id": "8t9SO1wZjSAE",
        "outputId": "49abe581-5a88-460b-ec41-f572a831d559"
      },
      "outputs": [
        {
          "output_type": "display_data",
          "data": {
            "text/plain": [
              "<Figure size 640x480 with 1 Axes>"
            ],
            "image/png": "[encoded data removed]"
          },
          "metadata": {}
        }
      ],
      "source": [
        "# Group the data by workclass and sex\n",
        "grouped_data = viz_df.groupby(['workclass', 'sex']).size().unstack()\n",
        "\n",
        "# Calculate the total number of individuals for each sex education level\n",
        "total_counts = viz_df['workclass'].value_counts().sort_index()\n",
        "\n",
        "# Normalize the grouped data by dividing each row by the corresponding total count\n",
        "normalized_data = grouped_data.div(total_counts, axis=0)\n",
        "\n",
        "# Group the data by sex and education level\n",
        "grouped_data = viz_df.groupby(['workclass', 'sex']).size().unstack()\n",
        "\n",
        "# Plot a stacked bar chart of the grouped data\n",
        "grouped_data.plot(kind='bar')\n",
        "plt.xlabel('Workclass')\n",
        "plt.ylabel('Count')\n",
        "plt.title('Breakdown of Sex for Workclass')\n",
        "plt.show()"
      ]
    },
    {
      "cell_type": "code",
      "execution_count": 423,
      "metadata": {
        "colab": {
          "base_uri": "https://localhost:8080/",
          "height": 557
        },
        "id": "p1L_HAEHjT98",
        "outputId": "1e560467-62ce-447e-b6b1-c75870d10b2f"
      },
      "outputs": [
        {
          "output_type": "display_data",
          "data": {
            "text/plain": [
              "<Figure size 640x480 with 1 Axes>"
            ],
            "image/png": "[encoded data removed]"
          },
          "metadata": {}
        }
      ],
      "source": [
        "#bar chart of education level\n",
        "edu_counts = viz_df['education'].value_counts()\n",
        "plt.bar(edu_counts.index, edu_counts.values, width= 0.5)\n",
        "plt.xticks(rotation=80)\n",
        "plt.xlabel('Education Level')\n",
        "plt.ylabel('Count')\n",
        "plt.title('Education Level Distribution')\n",
        "plt.show()"
      ]
    },
    {
      "cell_type": "code",
      "execution_count": 424,
      "metadata": {
        "colab": {
          "base_uri": "https://localhost:8080/",
          "height": 475
        },
        "id": "Xbw20NCKjXYj",
        "outputId": "76e0731a-5768-4dda-8a16-9d1e8b06ea4a"
      },
      "outputs": [
        {
          "output_type": "display_data",
          "data": {
            "text/plain": [
              "<Figure size 640x480 with 1 Axes>"
            ],
            "image/png": "[encoded data removed]"
          },
          "metadata": {}
        }
      ],
      "source": [
        "# Group the data by education level and income level\n",
        "grouped_data = viz_df.groupby(['education-num', 'income']).size().unstack()\n",
        "\n",
        "# Calculate the total number of individuals for each education level\n",
        "total_counts = viz_df['education-num'].value_counts().sort_index()\n",
        "\n",
        "# Normalize the grouped data by dividing each row by the corresponding total count\n",
        "normalized_data = grouped_data.div(total_counts, axis=0)\n",
        "\n",
        "# Group the data by sex and education level\n",
        "grouped_data = viz_df.groupby(['education-num', 'sex']).size().unstack()\n",
        "\n",
        "# Plot a bar chart of the grouped data\n",
        "grouped_data.plot(kind='bar')\n",
        "plt.xlabel('Education Level')\n",
        "plt.ylabel('Count')\n",
        "plt.title('Breakdown of Sex for Education Level')\n",
        "plt.show()"
      ]
    },
    {
      "cell_type": "code",
      "execution_count": 425,
      "metadata": {
        "colab": {
          "base_uri": "https://localhost:8080/",
          "height": 479
        },
        "id": "C4_CGGm_jZMT",
        "outputId": "667f6ef1-cedf-4323-cd6b-75505859a55f"
      },
      "outputs": [
        {
          "output_type": "display_data",
          "data": {
            "text/plain": [
              "<Figure size 640x480 with 1 Axes>"
            ],
            "image/png": "[encoded data removed]"
          },
          "metadata": {}
        }
      ],
      "source": [
        "# Plot a bar chart of the normalized grouped data\n",
        "normalized_data.plot(kind='bar')\n",
        "plt.xticks(rotation=35)\n",
        "plt.xlabel('Education Level')\n",
        "plt.ylabel('Proportion of Individuals')\n",
        "plt.title('Education Level vs Income Level')\n",
        "plt.show()"
      ]
    },
    {
      "cell_type": "code",
      "execution_count": 426,
      "metadata": {
        "colab": {
          "base_uri": "https://localhost:8080/",
          "height": 512
        },
        "id": "ywvWl0bHjbGU",
        "outputId": "32198aa1-4d52-4dcf-c17e-5f99ab370287"
      },
      "outputs": [
        {
          "output_type": "display_data",
          "data": {
            "text/plain": [
              "<Figure size 640x480 with 1 Axes>"
            ],
            "image/png": "[encoded data removed]"
          },
          "metadata": {}
        }
      ],
      "source": [
        "# Group the data by sex and income\n",
        "grouped_data = viz_df.groupby(['sex', 'income']).size().unstack()\n",
        "\n",
        "# Plot a stacked bar chart of the grouped data\n",
        "grouped_data.plot(kind='bar')\n",
        "plt.xlabel('Sex')\n",
        "plt.ylabel('Count')\n",
        "plt.title('Relationship between Sex and Income')\n",
        "plt.show()"
      ]
    },
    {
      "cell_type": "code",
      "execution_count": 427,
      "metadata": {
        "id": "XiAAzadEj1_s"
      },
      "outputs": [],
      "source": [
        "def preprocess(feature_df):\n",
        "  ohe = OneHotEncoder(sparse=False)\n",
        "  oe = OrdinalEncoder()\n",
        "  std = StandardScaler()\n",
        "  mms = MinMaxScaler()\n",
        "\n",
        "  feature_df.drop('fnlwgt', inplace=True, axis=1)\n",
        "\n",
        "  ohe_attributes = ['workclass','marital-status','occupation','relationship','race','native-country']\n",
        "  oe_attributes = ['education','sex']\n",
        "  std_attributes = ['capital-gain', 'capital-loss']\n",
        "  mms_attributes = ['age']\n",
        "  pass_through = ['education-num','hours-per-week']\n",
        "\n",
        "  edu_levels = []\n",
        "  for level in range(len(pd.unique(viz_df['education']))):\n",
        "    edu_levels.append(level + 1 )\n",
        "\n",
        "  preprocessing = ColumnTransformer([('passthrough', 'passthrough', pass_through),('OHE',ohe, ohe_attributes),('OE',oe, oe_attributes), ('minMax', mms, mms_attributes),('std', StandardScaler(), std_attributes)])\n",
        "  \n",
        "  pprocessed = preprocessing.fit_transform(feature_df)\n",
        "\n",
        "  df_preprocessed = pd.DataFrame(pprocessed)\n",
        "\n",
        "  cols = len(df_preprocessed.columns)\n",
        "  i = 1\n",
        "  if cols < 88:\n",
        "    while cols < 88:\n",
        "      df_preprocessed[cols] = 0\n",
        "      cols += 1\n",
        "      i += 1\n",
        "  print(pprocessed)\n",
        "  return df_preprocessed\n",
        "\n",
        "def target_preprocess(target_df):\n",
        "  df_preprocessed = pd.Categorical(target_df).codes\n",
        "\n",
        "  return df_preprocessed"
      ]
    },
    {
      "cell_type": "code",
      "execution_count": 428,
      "metadata": {
        "colab": {
          "base_uri": "https://localhost:8080/",
          "height": 0
        },
        "id": "9s9gvtJrlIZ_",
        "outputId": "3199541b-4c7c-4828-926c-f91659861630"
      },
      "outputs": [
        {
          "output_type": "stream",
          "name": "stdout",
          "text": [
            "[[10.         45.          0.         ...  0.05479452 -0.14570381\n",
            "  -0.22006889]\n",
            " [10.         40.          0.         ...  0.36986301 -0.14570381\n",
            "  -0.22006889]\n",
            " [ 5.         40.          0.         ...  0.19178082 -0.14570381\n",
            "  -0.22006889]\n",
            " ...\n",
            " [ 6.         40.          0.         ...  0.16438356  0.5204638\n",
            "  -0.22006889]\n",
            " [10.         35.          0.         ...  0.4109589  -0.14570381\n",
            "  -0.22006889]\n",
            " [13.         40.          0.         ...  0.35616438  0.29614884\n",
            "  -0.22006889]]\n",
            "[[ 9.00000000e+00  4.00000000e+01  0.00000000e+00 ...  3.56164384e-01\n",
            "  -1.50149139e-01 -2.27845301e-01]\n",
            " [ 1.00000000e+01  4.00000000e+01  0.00000000e+00 ...  4.10958904e-02\n",
            "  -1.50149139e-01 -2.27845301e-01]\n",
            " [ 9.00000000e+00  5.00000000e+01  0.00000000e+00 ...  4.38356164e-01\n",
            "  -1.50149139e-01 -2.27845301e-01]\n",
            " ...\n",
            " [ 1.20000000e+01  3.50000000e+01  0.00000000e+00 ...  5.47945205e-01\n",
            "  -1.50149139e-01 -2.27845301e-01]\n",
            " [ 9.00000000e+00  4.00000000e+01  0.00000000e+00 ...  2.05479452e-01\n",
            "  -1.50149139e-01 -2.27845301e-01]\n",
            " [ 9.00000000e+00  4.00000000e+01  0.00000000e+00 ...  1.36986301e-01\n",
            "  -1.50149139e-01 -2.27845301e-01]]\n",
            "0     1     2    3    4    5    6    7    8    9    10   11   12   13   14   15   16   17   18   19   20   21   22   23   24   25   26   27   28   29   30   31   32   33   34   35   36   37   38   39   40   41   42   43   44   45   46   47   48   49   50   51   52   53   54   55   56   57   58   59   60   61   62   63   64   65   66   67   68   69   70   71   72   73   74   75   76   77   78   79   80   81   82    83   84        85         86         87\n",
            "9.0   40.0  0.0  0.0  1.0  0.0  0.0  0.0  0.0  0.0  0.0  1.0  0.0  0.0  0.0  0.0  0.0  0.0  1.0  0.0  0.0  0.0  0.0  0.0  0.0  0.0  0.0  0.0  0.0  0.0  1.0  0.0  0.0  0.0  0.0  0.0  0.0  0.0  0.0  0.0  1.0  0.0  0.0  0.0  0.0  0.0  0.0  0.0  0.0  0.0  0.0  0.0  0.0  0.0  0.0  0.0  0.0  0.0  0.0  0.0  0.0  0.0  0.0  0.0  0.0  0.0  0.0  0.0  0.0  0.0  0.0  0.0  0.0  0.0  0.0  0.0  0.0  0.0  0.0  1.0  0.0  0.0  11.0  1.0  0.410959  -0.145704  -0.220069  0     15\n",
            "                                                                                                                                                                                                                                                                                                                                                                                                                                       0.493151  -0.145704  -0.220069  0     12\n",
            "                                                                                                                                                                                                                                                                                                                                                                                                                                       0.219178  -0.145704  -0.220069  0     12\n",
            "                                                                                                                                                                                                                                                                                                                                                                                                                                       0.246575  -0.145704  -0.220069  0     12\n",
            "                                                                                                                                                                                                                                                                                                                                                                                                                                       0.273973  -0.145704  -0.220069  0     12\n",
            "                                                                                                                                                                                                                                                                                                                                                                                                                                                                             ..\n",
            "      42.0  0.0  0.0  1.0  0.0  0.0  0.0  0.0  0.0  0.0  1.0  0.0  0.0  0.0  0.0  0.0  0.0  1.0  0.0  0.0  0.0  0.0  0.0  0.0  0.0  0.0  0.0  0.0  0.0  1.0  0.0  0.0  0.0  0.0  0.0  0.0  0.0  0.0  0.0  1.0  0.0  0.0  0.0  0.0  0.0  0.0  0.0  0.0  0.0  0.0  0.0  0.0  0.0  0.0  0.0  0.0  0.0  0.0  0.0  0.0  0.0  0.0  0.0  0.0  0.0  0.0  0.0  0.0  0.0  0.0  0.0  0.0  0.0  0.0  0.0  0.0  0.0  0.0  1.0  0.0  0.0  11.0  1.0  0.424658  -0.145704  -0.220069  0      1\n",
            "                                                                                                                                                                                                                                                                                                                                                                                                                                       0.438356  -0.145704  -0.220069  0      1\n",
            "                                                                                                                                                                                                                                                                                                                                                                                                                                       0.465753  -0.145704  -0.220069  0      1\n",
            "                                                                                  1.0  0.0  0.0  0.0  0.0  0.0  0.0  0.0  0.0  0.0  0.0  0.0  0.0  0.0  1.0  0.0  0.0  0.0  0.0  0.0  0.0  0.0  0.0  0.0  1.0  0.0  0.0  0.0  0.0  0.0  0.0  0.0  0.0  0.0  0.0  0.0  0.0  0.0  0.0  0.0  0.0  0.0  0.0  0.0  0.0  0.0  0.0  0.0  0.0  0.0  0.0  0.0  0.0  0.0  0.0  0.0  0.0  0.0  0.0  0.0  0.0  0.0  0.0  1.0  0.0  0.0  11.0  1.0  0.287671  -0.145704  -0.220069  0      1\n",
            "16.0  99.0  1.0  0.0  0.0  0.0  0.0  0.0  0.0  0.0  0.0  0.0  0.0  1.0  0.0  0.0  0.0  0.0  0.0  0.0  0.0  0.0  0.0  0.0  0.0  1.0  0.0  0.0  0.0  0.0  0.0  1.0  0.0  0.0  0.0  0.0  0.0  0.0  0.0  0.0  1.0  0.0  0.0  0.0  0.0  0.0  0.0  0.0  0.0  0.0  0.0  0.0  0.0  0.0  0.0  0.0  0.0  0.0  0.0  0.0  0.0  0.0  0.0  0.0  0.0  0.0  0.0  0.0  0.0  0.0  0.0  0.0  0.0  0.0  0.0  0.0  0.0  0.0  0.0  1.0  0.0  0.0  10.0  0.0  0.232877  -0.145704  -0.220069  0      1\n",
            "Length: 17386, dtype: int64\n"
          ]
        },
        {
          "output_type": "stream",
          "name": "stderr",
          "text": [
            "/usr/local/lib/python3.10/dist-packages/sklearn/preprocessing/_encoders.py:868: FutureWarning: `sparse` was renamed to `sparse_output` in version 1.2 and will be removed in 1.4. `sparse_output` is ignored unless you leave `sparse` to its default value.\n",
            "  warnings.warn(\n",
            "/usr/local/lib/python3.10/dist-packages/sklearn/preprocessing/_encoders.py:868: FutureWarning: `sparse` was renamed to `sparse_output` in version 1.2 and will be removed in 1.4. `sparse_output` is ignored unless you leave `sparse` to its default value.\n",
            "  warnings.warn(\n"
          ]
        }
      ],
      "source": [
        "X_train_processed = preprocess(X_train)\n",
        "y_train_processed = target_preprocess(y_train)\n",
        "X_val_processed = preprocess(X_val)\n",
        "y_val_processed = target_preprocess(y_val)\n",
        "\n",
        "X_train_processed.head()\n",
        "\n",
        "print(X_train_processed.value_counts())"
      ]
    },
    {
      "cell_type": "markdown",
      "metadata": {
        "id": "06ojja-_mQEC"
      },
      "source": [
        "# RULE-BASED APPROACH"
      ]
    },
    {
      "cell_type": "code",
      "execution_count": 429,
      "metadata": {
        "colab": {
          "base_uri": "https://localhost:8080/",
          "height": 0
        },
        "id": "l8gWuiIpmUnS",
        "outputId": "8d0abf38-6ed4-4dab-c955-f46c9348e257"
      },
      "outputs": [
        {
          "output_type": "stream",
          "name": "stdout",
          "text": [
            "Accuracy: 0.7511396601740572\n",
            "Precision: 0.0\n",
            "Recall: 0.0\n"
          ]
        },
        {
          "output_type": "stream",
          "name": "stderr",
          "text": [
            "/usr/local/lib/python3.10/dist-packages/sklearn/metrics/_classification.py:1344: UndefinedMetricWarning: Precision is ill-defined and being set to 0.0 due to no predicted samples. Use `zero_division` parameter to control this behavior.\n",
            "  _warn_prf(average, modifier, msg_start, len(result))\n"
          ]
        }
      ],
      "source": [
        "# Define rule-based prediction function\n",
        "def rule_based_predict(X):\n",
        "    y_pred = []\n",
        "    for i in range(X.shape[0]):\n",
        "        row = X.iloc[i]\n",
        "        if row[\"sex\"] == \"Female\":\n",
        "            if row[\"education\"] in [\"Bachelors\", \"Masters\", \"Doctorate\"]:\n",
        "                y_pred.append(1)\n",
        "            elif row[\"education\"] in [\"Prof-school\", \"Assoc-acdm\", \"Assoc-voc\"]:\n",
        "                if row[\"age\"] > 30:\n",
        "                    y_pred.append(1)\n",
        "                else:\n",
        "                    y_pred.append(0)\n",
        "            else:\n",
        "                y_pred.append(0)\n",
        "        else:\n",
        "            if row[\"education\"] in [\"Bachelors\", \"Masters\", \"Doctorate\"]:\n",
        "                if row[\"age\"] > 30:\n",
        "                    y_pred.append(1)\n",
        "                else:\n",
        "                    y_pred.append(0)\n",
        "            elif row[\"education\"] in [\"Prof-school\", \"Assoc-acdm\", \"Assoc-voc\"]:\n",
        "                y_pred.append(1)\n",
        "            else:\n",
        "                y_pred.append(0)\n",
        "    return y_pred\n",
        "\n",
        "\n",
        "# Evaluate model performance\n",
        "y_pred = rule_based_predict(X_val)\n",
        "accuracy = accuracy_score(y_val_processed, y_pred)\n",
        "precision = precision_score(y_val_processed, y_pred)\n",
        "recall = recall_score(y_val_processed, y_pred)\n",
        "\n",
        "print(f\"Accuracy: {accuracy}\")\n",
        "print(f\"Precision: {precision}\")\n",
        "print(f\"Recall: {recall}\")"
      ]
    },
    {
      "cell_type": "markdown",
      "metadata": {
        "id": "WUfXBcl2pYHZ"
      },
      "source": [
        "# LOGISTIC CLASSIFICATION"
      ]
    },
    {
      "cell_type": "code",
      "execution_count": 430,
      "metadata": {
        "colab": {
          "base_uri": "https://localhost:8080/",
          "height": 0
        },
        "id": "LD_sFSVmpnMx",
        "outputId": "7a67c910-69bd-4370-8349-9962e4621a8d"
      },
      "outputs": [
        {
          "output_type": "stream",
          "name": "stdout",
          "text": [
            "Training Set Scoring before Tuning:\n",
            "              precision    recall  f1-score   support\n",
            "\n",
            "           0       0.93      0.88      0.90     15337\n",
            "           1       0.61      0.73      0.66      3966\n",
            "\n",
            "    accuracy                           0.85     19303\n",
            "   macro avg       0.77      0.81      0.78     19303\n",
            "weighted avg       0.86      0.85      0.85     19303\n",
            "\n",
            "Training Set Accuracy before Tuning: 0.8475366523338341\n",
            "Training Set Precision before Tuning: 0.6064516129032258\n",
            "Training Set Recall before Tuning: 0.734745335350479\n"
          ]
        },
        {
          "output_type": "stream",
          "name": "stderr",
          "text": [
            "/usr/local/lib/python3.10/dist-packages/sklearn/linear_model/_logistic.py:458: ConvergenceWarning: lbfgs failed to converge (status=1):\n",
            "STOP: TOTAL NO. of ITERATIONS REACHED LIMIT.\n",
            "\n",
            "Increase the number of iterations (max_iter) or scale the data as shown in:\n",
            "    https://scikit-learn.org/stable/modules/preprocessing.html\n",
            "Please also refer to the documentation for alternative solver options:\n",
            "    https://scikit-learn.org/stable/modules/linear_model.html#logistic-regression\n",
            "  n_iter_i = _check_optimize_result(\n"
          ]
        }
      ],
      "source": [
        "log_reg = LogisticRegression(random_state=42, max_iter=1000)\n",
        "\n",
        "log_reg.fit(X_train_processed, y_train_processed)\n",
        "\n",
        "y_pred = log_reg.predict(X_train_processed)\n",
        "\n",
        "cr = classification_report(y_pred, y_train_processed)\n",
        "ac = accuracy_score(y_pred, y_train_processed)\n",
        "pr = precision_score(y_pred, y_train_processed)\n",
        "rc = recall_score(y_pred, y_train_processed)\n",
        "print(f\"Training Set Scoring before Tuning:\\n{cr}\")\n",
        "\n",
        "print(f\"Training Set Accuracy before Tuning: {ac}\\nTraining Set Precision before Tuning: {pr}\\nTraining Set Recall before Tuning: {rc}\")"
      ]
    },
    {
      "cell_type": "markdown",
      "metadata": {
        "id": "FsStM1UO2nbj"
      },
      "source": []
    },
    {
      "cell_type": "markdown",
      "metadata": {
        "id": "YHfsoodywsWN"
      },
      "source": [
        "# HYPER TUNING LOGISTIC REGRESSION"
      ]
    },
    {
      "cell_type": "code",
      "execution_count": 431,
      "metadata": {
        "colab": {
          "base_uri": "https://localhost:8080/",
          "height": 0
        },
        "id": "ykwy_eXsrA7p",
        "outputId": "ee013af3-8847-43c3-eed0-3c1a734b0928"
      },
      "outputs": [
        {
          "output_type": "stream",
          "name": "stderr",
          "text": [
            "/usr/local/lib/python3.10/dist-packages/sklearn/linear_model/_logistic.py:458: ConvergenceWarning: lbfgs failed to converge (status=1):\n",
            "STOP: TOTAL NO. of ITERATIONS REACHED LIMIT.\n",
            "\n",
            "Increase the number of iterations (max_iter) or scale the data as shown in:\n",
            "    https://scikit-learn.org/stable/modules/preprocessing.html\n",
            "Please also refer to the documentation for alternative solver options:\n",
            "    https://scikit-learn.org/stable/modules/linear_model.html#logistic-regression\n",
            "  n_iter_i = _check_optimize_result(\n",
            "/usr/local/lib/python3.10/dist-packages/sklearn/linear_model/_logistic.py:458: ConvergenceWarning: lbfgs failed to converge (status=1):\n",
            "STOP: TOTAL NO. of ITERATIONS REACHED LIMIT.\n",
            "\n",
            "Increase the number of iterations (max_iter) or scale the data as shown in:\n",
            "    https://scikit-learn.org/stable/modules/preprocessing.html\n",
            "Please also refer to the documentation for alternative solver options:\n",
            "    https://scikit-learn.org/stable/modules/linear_model.html#logistic-regression\n",
            "  n_iter_i = _check_optimize_result(\n",
            "/usr/local/lib/python3.10/dist-packages/sklearn/linear_model/_logistic.py:458: ConvergenceWarning: lbfgs failed to converge (status=1):\n",
            "STOP: TOTAL NO. of ITERATIONS REACHED LIMIT.\n",
            "\n",
            "Increase the number of iterations (max_iter) or scale the data as shown in:\n",
            "    https://scikit-learn.org/stable/modules/preprocessing.html\n",
            "Please also refer to the documentation for alternative solver options:\n",
            "    https://scikit-learn.org/stable/modules/linear_model.html#logistic-regression\n",
            "  n_iter_i = _check_optimize_result(\n",
            "/usr/local/lib/python3.10/dist-packages/sklearn/linear_model/_logistic.py:458: ConvergenceWarning: lbfgs failed to converge (status=1):\n",
            "STOP: TOTAL NO. of ITERATIONS REACHED LIMIT.\n",
            "\n",
            "Increase the number of iterations (max_iter) or scale the data as shown in:\n",
            "    https://scikit-learn.org/stable/modules/preprocessing.html\n",
            "Please also refer to the documentation for alternative solver options:\n",
            "    https://scikit-learn.org/stable/modules/linear_model.html#logistic-regression\n",
            "  n_iter_i = _check_optimize_result(\n",
            "/usr/local/lib/python3.10/dist-packages/sklearn/linear_model/_logistic.py:458: ConvergenceWarning: lbfgs failed to converge (status=1):\n",
            "STOP: TOTAL NO. of ITERATIONS REACHED LIMIT.\n",
            "\n",
            "Increase the number of iterations (max_iter) or scale the data as shown in:\n",
            "    https://scikit-learn.org/stable/modules/preprocessing.html\n",
            "Please also refer to the documentation for alternative solver options:\n",
            "    https://scikit-learn.org/stable/modules/linear_model.html#logistic-regression\n",
            "  n_iter_i = _check_optimize_result(\n",
            "/usr/local/lib/python3.10/dist-packages/sklearn/linear_model/_logistic.py:458: ConvergenceWarning: lbfgs failed to converge (status=1):\n",
            "STOP: TOTAL NO. of ITERATIONS REACHED LIMIT.\n",
            "\n",
            "Increase the number of iterations (max_iter) or scale the data as shown in:\n",
            "    https://scikit-learn.org/stable/modules/preprocessing.html\n",
            "Please also refer to the documentation for alternative solver options:\n",
            "    https://scikit-learn.org/stable/modules/linear_model.html#logistic-regression\n",
            "  n_iter_i = _check_optimize_result(\n",
            "/usr/local/lib/python3.10/dist-packages/sklearn/linear_model/_logistic.py:458: ConvergenceWarning: lbfgs failed to converge (status=1):\n",
            "STOP: TOTAL NO. of ITERATIONS REACHED LIMIT.\n",
            "\n",
            "Increase the number of iterations (max_iter) or scale the data as shown in:\n",
            "    https://scikit-learn.org/stable/modules/preprocessing.html\n",
            "Please also refer to the documentation for alternative solver options:\n",
            "    https://scikit-learn.org/stable/modules/linear_model.html#logistic-regression\n",
            "  n_iter_i = _check_optimize_result(\n",
            "/usr/local/lib/python3.10/dist-packages/sklearn/linear_model/_logistic.py:458: ConvergenceWarning: lbfgs failed to converge (status=1):\n",
            "STOP: TOTAL NO. of ITERATIONS REACHED LIMIT.\n",
            "\n",
            "Increase the number of iterations (max_iter) or scale the data as shown in:\n",
            "    https://scikit-learn.org/stable/modules/preprocessing.html\n",
            "Please also refer to the documentation for alternative solver options:\n",
            "    https://scikit-learn.org/stable/modules/linear_model.html#logistic-regression\n",
            "  n_iter_i = _check_optimize_result(\n",
            "/usr/local/lib/python3.10/dist-packages/sklearn/linear_model/_logistic.py:458: ConvergenceWarning: lbfgs failed to converge (status=1):\n",
            "STOP: TOTAL NO. of ITERATIONS REACHED LIMIT.\n",
            "\n",
            "Increase the number of iterations (max_iter) or scale the data as shown in:\n",
            "    https://scikit-learn.org/stable/modules/preprocessing.html\n",
            "Please also refer to the documentation for alternative solver options:\n",
            "    https://scikit-learn.org/stable/modules/linear_model.html#logistic-regression\n",
            "  n_iter_i = _check_optimize_result(\n",
            "/usr/local/lib/python3.10/dist-packages/sklearn/linear_model/_logistic.py:458: ConvergenceWarning: lbfgs failed to converge (status=1):\n",
            "STOP: TOTAL NO. of ITERATIONS REACHED LIMIT.\n",
            "\n",
            "Increase the number of iterations (max_iter) or scale the data as shown in:\n",
            "    https://scikit-learn.org/stable/modules/preprocessing.html\n",
            "Please also refer to the documentation for alternative solver options:\n",
            "    https://scikit-learn.org/stable/modules/linear_model.html#logistic-regression\n",
            "  n_iter_i = _check_optimize_result(\n",
            "/usr/local/lib/python3.10/dist-packages/sklearn/linear_model/_logistic.py:458: ConvergenceWarning: lbfgs failed to converge (status=1):\n",
            "STOP: TOTAL NO. of ITERATIONS REACHED LIMIT.\n",
            "\n",
            "Increase the number of iterations (max_iter) or scale the data as shown in:\n",
            "    https://scikit-learn.org/stable/modules/preprocessing.html\n",
            "Please also refer to the documentation for alternative solver options:\n",
            "    https://scikit-learn.org/stable/modules/linear_model.html#logistic-regression\n",
            "  n_iter_i = _check_optimize_result(\n",
            "/usr/local/lib/python3.10/dist-packages/sklearn/linear_model/_logistic.py:458: ConvergenceWarning: lbfgs failed to converge (status=1):\n",
            "STOP: TOTAL NO. of ITERATIONS REACHED LIMIT.\n",
            "\n",
            "Increase the number of iterations (max_iter) or scale the data as shown in:\n",
            "    https://scikit-learn.org/stable/modules/preprocessing.html\n",
            "Please also refer to the documentation for alternative solver options:\n",
            "    https://scikit-learn.org/stable/modules/linear_model.html#logistic-regression\n",
            "  n_iter_i = _check_optimize_result(\n",
            "/usr/local/lib/python3.10/dist-packages/sklearn/linear_model/_logistic.py:458: ConvergenceWarning: lbfgs failed to converge (status=1):\n",
            "STOP: TOTAL NO. of ITERATIONS REACHED LIMIT.\n",
            "\n",
            "Increase the number of iterations (max_iter) or scale the data as shown in:\n",
            "    https://scikit-learn.org/stable/modules/preprocessing.html\n",
            "Please also refer to the documentation for alternative solver options:\n",
            "    https://scikit-learn.org/stable/modules/linear_model.html#logistic-regression\n",
            "  n_iter_i = _check_optimize_result(\n",
            "/usr/local/lib/python3.10/dist-packages/sklearn/linear_model/_logistic.py:458: ConvergenceWarning: lbfgs failed to converge (status=1):\n",
            "STOP: TOTAL NO. of ITERATIONS REACHED LIMIT.\n",
            "\n",
            "Increase the number of iterations (max_iter) or scale the data as shown in:\n",
            "    https://scikit-learn.org/stable/modules/preprocessing.html\n",
            "Please also refer to the documentation for alternative solver options:\n",
            "    https://scikit-learn.org/stable/modules/linear_model.html#logistic-regression\n",
            "  n_iter_i = _check_optimize_result(\n",
            "/usr/local/lib/python3.10/dist-packages/sklearn/linear_model/_logistic.py:458: ConvergenceWarning: lbfgs failed to converge (status=1):\n",
            "STOP: TOTAL NO. of ITERATIONS REACHED LIMIT.\n",
            "\n",
            "Increase the number of iterations (max_iter) or scale the data as shown in:\n",
            "    https://scikit-learn.org/stable/modules/preprocessing.html\n",
            "Please also refer to the documentation for alternative solver options:\n",
            "    https://scikit-learn.org/stable/modules/linear_model.html#logistic-regression\n",
            "  n_iter_i = _check_optimize_result(\n",
            "/usr/local/lib/python3.10/dist-packages/sklearn/model_selection/_validation.py:378: FitFailedWarning: \n",
            "60 fits failed out of a total of 90.\n",
            "The score on these train-test partitions for these parameters will be set to nan.\n",
            "If these failures are not expected, you can try to debug them by setting error_score='raise'.\n",
            "\n",
            "Below are more details about the failures:\n",
            "--------------------------------------------------------------------------------\n",
            "30 fits failed with the following error:\n",
            "Traceback (most recent call last):\n",
            "  File \"/usr/local/lib/python3.10/dist-packages/sklearn/model_selection/_validation.py\", line 686, in _fit_and_score\n",
            "    estimator.fit(X_train, y_train, **fit_params)\n",
            "  File \"/usr/local/lib/python3.10/dist-packages/sklearn/linear_model/_logistic.py\", line 1160, in fit\n",
            "    self._validate_params()\n",
            "  File \"/usr/local/lib/python3.10/dist-packages/sklearn/base.py\", line 600, in _validate_params\n",
            "    validate_parameter_constraints(\n",
            "  File \"/usr/local/lib/python3.10/dist-packages/sklearn/utils/_param_validation.py\", line 97, in validate_parameter_constraints\n",
            "    raise InvalidParameterError(\n",
            "sklearn.utils._param_validation.InvalidParameterError: The 'penalty' parameter of LogisticRegression must be a str among {'l2', 'l1', 'elasticnet', 'none' (deprecated)} or None. Got 'None' instead.\n",
            "\n",
            "--------------------------------------------------------------------------------\n",
            "30 fits failed with the following error:\n",
            "Traceback (most recent call last):\n",
            "  File \"/usr/local/lib/python3.10/dist-packages/sklearn/model_selection/_validation.py\", line 686, in _fit_and_score\n",
            "    estimator.fit(X_train, y_train, **fit_params)\n",
            "  File \"/usr/local/lib/python3.10/dist-packages/sklearn/linear_model/_logistic.py\", line 1162, in fit\n",
            "    solver = _check_solver(self.solver, self.penalty, self.dual)\n",
            "  File \"/usr/local/lib/python3.10/dist-packages/sklearn/linear_model/_logistic.py\", line 54, in _check_solver\n",
            "    raise ValueError(\n",
            "ValueError: Solver lbfgs supports only 'l2' or 'none' penalties, got l1 penalty.\n",
            "\n",
            "  warnings.warn(some_fits_failed_message, FitFailedWarning)\n",
            "/usr/local/lib/python3.10/dist-packages/sklearn/model_selection/_search.py:952: UserWarning: One or more of the test scores are non-finite: [       nan        nan 0.85225587        nan        nan 0.85287656\n",
            "        nan        nan 0.85225458        nan        nan 0.85121917\n",
            "        nan        nan 0.85204862        nan        nan 0.85018355]\n",
            "  warnings.warn(\n"
          ]
        },
        {
          "output_type": "stream",
          "name": "stdout",
          "text": [
            "Best hyperparameters: {'C': 0.5, 'penalty': 'l2'}\n",
            "Mean cross-validation score: 0.8528765594996728\n"
          ]
        }
      ],
      "source": [
        "param_grid = {'C': [0.1, 0.5, 1, 3, 6, 10],\n",
        "              'penalty': ['None', 'l1','l2']\n",
        "             }\n",
        "\n",
        "grid_search = GridSearchCV(log_reg, param_grid=param_grid, cv=5, scoring='accuracy')\n",
        "grid_search.fit(X_val_processed, y_val_processed)\n",
        "\n",
        "print(f\"Best hyperparameters: {grid_search.best_params_}\")\n",
        "print(f\"Mean cross-validation score: {grid_search.best_score_}\")"
      ]
    },
    {
      "cell_type": "markdown",
      "metadata": {
        "id": "ObgF6jMTw2sP"
      },
      "source": [
        "# LOGREG VALIDATION"
      ]
    },
    {
      "cell_type": "code",
      "execution_count": 432,
      "metadata": {
        "colab": {
          "base_uri": "https://localhost:8080/",
          "height": 0
        },
        "id": "nbBXAScUtIMQ",
        "outputId": "27649856-5f1f-4891-e33e-9dc3e22ef8ad"
      },
      "outputs": [
        {
          "output_type": "stream",
          "name": "stdout",
          "text": [
            "Validation Set Scoring after Tuning:\n",
            "              precision    recall  f1-score   support\n",
            "\n",
            "           0       0.88      0.93      0.91      3625\n",
            "           1       0.75      0.63      0.68      1201\n",
            "\n",
            "    accuracy                           0.86      4826\n",
            "   macro avg       0.82      0.78      0.80      4826\n",
            "weighted avg       0.85      0.86      0.85      4826\n",
            "\n",
            "Validation Set Accuracy before Tuning: 0.855781185246581\n",
            "Validation Set Precision before Tuning: 0.7527527527527528\n",
            "Validation Set Recall before Tuning: 0.6261448792672772\n"
          ]
        }
      ],
      "source": [
        "y_predicted = grid_search.predict(X_val_processed)\n",
        "\n",
        "\n",
        "cr = classification_report(y_val_processed, y_predicted)\n",
        "ac = accuracy_score(y_val_processed, y_predicted)\n",
        "pr = precision_score(y_val_processed, y_predicted)\n",
        "rc = recall_score(y_val_processed, y_predicted)\n",
        "\n",
        "print(f\"Validation Set Scoring after Tuning:\\n{cr}\")\n",
        "\n",
        "print(f\"Validation Set Accuracy before Tuning: {ac}\\nValidation Set Precision before Tuning: {pr}\\nValidation Set Recall before Tuning: {rc}\")"
      ]
    },
    {
      "cell_type": "markdown",
      "metadata": {
        "id": "A0TPRnQuwkQQ"
      },
      "source": [
        "# DECISION TREE"
      ]
    },
    {
      "cell_type": "code",
      "execution_count": 433,
      "metadata": {
        "colab": {
          "base_uri": "https://localhost:8080/",
          "height": 0
        },
        "id": "uJRRZvuuwpm9",
        "outputId": "fd10e275-b455-42ef-a937-2bdd9cf9f5e1"
      },
      "outputs": [
        {
          "output_type": "stream",
          "name": "stdout",
          "text": [
            "Training Set Scoring before Tuning:\n",
            "              precision    recall  f1-score   support\n",
            "\n",
            "           0       1.00      0.98      0.99     14781\n",
            "           1       0.93      0.99      0.96      4522\n",
            "\n",
            "    accuracy                           0.98     19303\n",
            "   macro avg       0.96      0.98      0.97     19303\n",
            "weighted avg       0.98      0.98      0.98     19303\n",
            "\n",
            "Training Set Accuracy before Tuning: 0.9791224162047351\n",
            "Training Set Precision before Tuning: 0.9286160249739854\n",
            "Training Set Recall before Tuning: 0.9867315347191509\n"
          ]
        }
      ],
      "source": [
        "import matplotlib.pyplot as plt\n",
        "from sklearn.tree import plot_tree\n",
        "\n",
        "\n",
        "clf = DecisionTreeClassifier(random_state=42)\n",
        "\n",
        "clf.fit(X_train_processed, y_train_processed)\n",
        "\n",
        "#plt.figure(figsize=(20,10))\n",
        "#plot_tree(clf, filled=True, feature_names=X_train.columns)\n",
        "#plt.show()\n",
        "\n",
        "y_prediction = clf.predict(X_train_processed)\n",
        "ac = accuracy_score(y_prediction, y_train_processed)\n",
        "pr = precision_score(y_prediction, y_train_processed)\n",
        "rc = recall_score(y_prediction, y_train_processed)\n",
        "\n",
        "cr = classification_report(y_prediction, y_train_processed)\n",
        "print(f\"Training Set Scoring before Tuning:\\n{cr}\")\n",
        "\n",
        "print(f\"Training Set Accuracy before Tuning: {ac}\\nTraining Set Precision before Tuning: {pr}\\nTraining Set Recall before Tuning: {rc}\")"
      ]
    },
    {
      "cell_type": "code",
      "execution_count": 434,
      "metadata": {
        "colab": {
          "base_uri": "https://localhost:8080/",
          "height": 0
        },
        "id": "XVhb0DmHxVPm",
        "outputId": "aa87ef71-9591-4e99-99d8-b948bd709195"
      },
      "outputs": [
        {
          "output_type": "stream",
          "name": "stdout",
          "text": [
            "Best hyperparameters: {'max_depth': 8, 'min_samples_leaf': 1, 'min_samples_split': 2}\n",
            "Mean cross-validation score: 0.8518407191666935\n"
          ]
        }
      ],
      "source": [
        "param_grid = {'max_depth': [2, 4, 6, 8, 10, None],\n",
        "              'min_samples_split': [2, 5, 10],\n",
        "              'min_samples_leaf': [1, 2, 4]}\n",
        "\n",
        "\n",
        "grid_search = GridSearchCV(clf, param_grid, cv=5, scoring='accuracy')\n",
        "grid_search.fit(X_val_processed, y_val_processed)\n",
        "\n",
        "print(f\"Best hyperparameters: {grid_search.best_params_}\")\n",
        "print(f\"Mean cross-validation score: {grid_search.best_score_}\")"
      ]
    },
    {
      "cell_type": "code",
      "execution_count": 435,
      "metadata": {
        "colab": {
          "base_uri": "https://localhost:8080/",
          "height": 0
        },
        "id": "SSMaIe9hxys_",
        "outputId": "275d9916-d5d5-4124-cb58-b5e52443cca1"
      },
      "outputs": [
        {
          "output_type": "stream",
          "name": "stdout",
          "text": [
            "Validation Set Scoring after Tuning:\n",
            "              precision    recall  f1-score   support\n",
            "\n",
            "           0       0.89      0.95      0.92      3625\n",
            "           1       0.81      0.65      0.72      1201\n",
            "\n",
            "    accuracy                           0.87      4826\n",
            "   macro avg       0.85      0.80      0.82      4826\n",
            "weighted avg       0.87      0.87      0.87      4826\n",
            "\n",
            "Validation Set Accuracy before Tuning: 0.8740157480314961\n",
            "Validation Set Precision before Tuning: 0.8085327783558793\n",
            "Validation Set Recall before Tuning: 0.6469608659450458\n"
          ]
        }
      ],
      "source": [
        "y_predicted = grid_search.predict(X_val_processed)\n",
        "\n",
        "cr = classification_report(y_val_processed, y_predicted)\n",
        "ac = accuracy_score(y_val_processed, y_predicted)\n",
        "pr = precision_score(y_val_processed, y_predicted)\n",
        "rc = recall_score(y_val_processed, y_predicted)\n",
        "\n",
        "print(f\"Validation Set Scoring after Tuning:\\n{cr}\")\n",
        "\n",
        "print(f\"Validation Set Accuracy before Tuning: {ac}\\nValidation Set Precision before Tuning: {pr}\\nValidation Set Recall before Tuning: {rc}\")"
      ]
    },
    {
      "cell_type": "markdown",
      "metadata": {
        "id": "xbx7kkmGz4xU"
      },
      "source": [
        "# DEEP LEARNING MODEL"
      ]
    },
    {
      "cell_type": "markdown",
      "metadata": {
        "id": "jZUdJS2d0hXd"
      },
      "source": [
        "# FEEDFORWARD NEURAL NETWORK"
      ]
    },
    {
      "cell_type": "code",
      "execution_count": 436,
      "metadata": {
        "colab": {
          "base_uri": "https://localhost:8080/",
          "height": 868
        },
        "id": "zLRt1xtDGfqc",
        "outputId": "56c48598-b55e-4747-fdb9-5e11cb82b475"
      },
      "outputs": [
        {
          "output_type": "stream",
          "name": "stdout",
          "text": [
            "Epoch 1/10\n",
            "194/194 [==============================] - 1s 3ms/step - loss: 0.4250 - accuracy: 0.8016\n",
            "Epoch 2/10\n",
            "194/194 [==============================] - 1s 3ms/step - loss: 0.3433 - accuracy: 0.8403\n",
            "Epoch 3/10\n",
            "194/194 [==============================] - 1s 3ms/step - loss: 0.3403 - accuracy: 0.8404\n",
            "Epoch 4/10\n",
            "194/194 [==============================] - 1s 3ms/step - loss: 0.3370 - accuracy: 0.8439\n",
            "Epoch 5/10\n",
            "194/194 [==============================] - 1s 3ms/step - loss: 0.3305 - accuracy: 0.8427\n",
            "Epoch 6/10\n",
            "194/194 [==============================] - 1s 3ms/step - loss: 0.3337 - accuracy: 0.8426\n",
            "Epoch 7/10\n",
            "194/194 [==============================] - 0s 3ms/step - loss: 0.3289 - accuracy: 0.8425\n",
            "Epoch 8/10\n",
            "194/194 [==============================] - 1s 3ms/step - loss: 0.3349 - accuracy: 0.8429\n",
            "Epoch 9/10\n",
            "194/194 [==============================] - 1s 3ms/step - loss: 0.3249 - accuracy: 0.8466\n",
            "Epoch 10/10\n",
            "194/194 [==============================] - 1s 3ms/step - loss: 0.3261 - accuracy: 0.8460\n",
            "604/604 [==============================] - 1s 2ms/step - loss: 0.3477 - accuracy: 0.8438\n",
            "151/151 [==============================] - 0s 2ms/step - loss: 1.9645 - accuracy: 0.7607\n",
            "Training accuracy: 0.8437548279762268\n",
            "Testing accuracy: 0.7606713771820068\n"
          ]
        },
        {
          "output_type": "display_data",
          "data": {
            "text/plain": [
              "<Figure size 640x480 with 1 Axes>"
            ],
            "image/png": "[encoded data removed]"
          },
          "metadata": {}
        }
      ],
      "source": [
        "hidden_units = 88     # how many neurons in the hidden layer\n",
        "activation = 'relu'   # activation function for hidden layer\n",
        "l2 = 0.01             # regularization - how much we penalize large parameter values\n",
        "learning_rate = 0.01  # how big our steps are in gradient descent\n",
        "epochs = 5            # how many epochs to train for\n",
        "batch_size = 100       # how many samples to use for each gradient descent update\n",
        "\n",
        "# create a sequential model\n",
        "model = models.Sequential()\n",
        "\n",
        "# add the hidden layer\n",
        "model.add(layers.Dense(input_dim=88,\n",
        "                       units=hidden_units, \n",
        "                       activation=activation))\n",
        "# add the hidden layer\n",
        "model.add(layers.Dense(input_dim=88,\n",
        "                       units=hidden_units, \n",
        "                       activation=activation))\n",
        "# add the hidden layer\n",
        "model.add(layers.Dense(input_dim=88,\n",
        "                       units=hidden_units, \n",
        "                       activation=activation))\n",
        "# add the hidden layer\n",
        "model.add(layers.Dense(input_dim=88,\n",
        "                       units=hidden_units, \n",
        "                       activation=activation))\n",
        "\n",
        "# add the output layer\n",
        "model.add(layers.Dense(input_dim=hidden_units,\n",
        "                       units=1,\n",
        "                       activation='sigmoid'))\n",
        "\n",
        "# define our loss function and optimizer\n",
        "model.compile(loss='binary_crossentropy',\n",
        "              # Adam is a kind of gradient descent\n",
        "              optimizer=optimizers.Adam(learning_rate=learning_rate),\n",
        "              metrics=['accuracy'])\n",
        "\n",
        "# train the parameters\n",
        "history = model.fit(X_train_processed, y_train_processed, epochs=10, batch_size=batch_size)\n",
        "\n",
        "# evaluate accuracy\n",
        "\n",
        "\n",
        "train_acc = model.evaluate(X_train_processed, y_train_processed, batch_size=32)[1]\n",
        "test_acc = model.evaluate(X_val_processed, y_val_processed, batch_size=32)[1]\n",
        "print('Training accuracy: %s' % train_acc)\n",
        "print('Testing accuracy: %s' % test_acc)\n",
        "\n",
        "losses = history.history['loss']\n",
        "plt.plot(range(len(losses)), losses, 'r')\n",
        "plt.show()"
      ]
    },
    {
      "cell_type": "code",
      "source": [
        "from imblearn.over_sampling import SMOTE\n",
        "\n",
        "sm = SMOTE(random_state=42)\n",
        "\n",
        "X_train_OS, y_train_OS = sm.fit_resample(X_train_processed, y_train_processed)"
      ],
      "metadata": {
        "id": "PULvG4IwG0fI"
      },
      "execution_count": 437,
      "outputs": []
    },
    {
      "cell_type": "code",
      "source": [
        "print(f'{y_train_processed.shape}\\n{y_train_OS.shape}')"
      ],
      "metadata": {
        "colab": {
          "base_uri": "https://localhost:8080/",
          "height": 0
        },
        "id": "qrSaeOg6qiYN",
        "outputId": "8f1fe689-61b3-46ad-a7b4-5c1afb724da8"
      },
      "execution_count": 438,
      "outputs": [
        {
          "output_type": "stream",
          "name": "stdout",
          "text": [
            "(19303,)\n",
            "(28996,)\n"
          ]
        }
      ]
    },
    {
      "cell_type": "code",
      "source": [
        "log_reg.fit(X_train_OS, y_train_OS)"
      ],
      "metadata": {
        "colab": {
          "base_uri": "https://localhost:8080/",
          "height": 221
        },
        "id": "q0sQC3nemhle",
        "outputId": "8d28b2c1-8036-421c-f3ff-11c85bf0b3d8"
      },
      "execution_count": 439,
      "outputs": [
        {
          "output_type": "stream",
          "name": "stderr",
          "text": [
            "/usr/local/lib/python3.10/dist-packages/sklearn/linear_model/_logistic.py:458: ConvergenceWarning: lbfgs failed to converge (status=1):\n",
            "STOP: TOTAL NO. of ITERATIONS REACHED LIMIT.\n",
            "\n",
            "Increase the number of iterations (max_iter) or scale the data as shown in:\n",
            "    https://scikit-learn.org/stable/modules/preprocessing.html\n",
            "Please also refer to the documentation for alternative solver options:\n",
            "    https://scikit-learn.org/stable/modules/linear_model.html#logistic-regression\n",
            "  n_iter_i = _check_optimize_result(\n"
          ]
        },
        {
          "output_type": "execute_result",
          "data": {
            "text/plain": [
              "LogisticRegression(max_iter=1000, random_state=42)"
            ],
            "text/html": [
              "<style>#sk-container-id-17 {color: black;background-color: white;}#sk-container-id-17 pre{padding: 0;}#sk-container-id-17 div.sk-toggleable {background-color: white;}#sk-container-id-17 label.sk-toggleable__label {cursor: pointer;display: block;width: 100%;margin-bottom: 0;padding: 0.3em;box-sizing: border-box;text-align: center;}#sk-container-id-17 label.sk-toggleable__label-arrow:before {content: \"▸\";float: left;margin-right: 0.25em;color: #696969;}#sk-container-id-17 label.sk-toggleable__label-arrow:hover:before {color: black;}#sk-container-id-17 div.sk-estimator:hover label.sk-toggleable__label-arrow:before {color: black;}#sk-container-id-17 div.sk-toggleable__content {max-height: 0;max-width: 0;overflow: hidden;text-align: left;background-color: #f0f8ff;}#sk-container-id-17 div.sk-toggleable__content pre {margin: 0.2em;color: black;border-radius: 0.25em;background-color: #f0f8ff;}#sk-container-id-17 input.sk-toggleable__control:checked~div.sk-toggleable__content {max-height: 200px;max-width: 100%;overflow: auto;}#sk-container-id-17 input.sk-toggleable__control:checked~label.sk-toggleable__label-arrow:before {content: \"▾\";}#sk-container-id-17 div.sk-estimator input.sk-toggleable__control:checked~label.sk-toggleable__label {background-color: #d4ebff;}#sk-container-id-17 div.sk-label input.sk-toggleable__control:checked~label.sk-toggleable__label {background-color: #d4ebff;}#sk-container-id-17 input.sk-hidden--visually {border: 0;clip: rect(1px 1px 1px 1px);clip: rect(1px, 1px, 1px, 1px);height: 1px;margin: -1px;overflow: hidden;padding: 0;position: absolute;width: 1px;}#sk-container-id-17 div.sk-estimator {font-family: monospace;background-color: #f0f8ff;border: 1px dotted black;border-radius: 0.25em;box-sizing: border-box;margin-bottom: 0.5em;}#sk-container-id-17 div.sk-estimator:hover {background-color: #d4ebff;}#sk-container-id-17 div.sk-parallel-item::after {content: \"\";width: 100%;border-bottom: 1px solid gray;flex-grow: 1;}#sk-container-id-17 div.sk-label:hover label.sk-toggleable__label {background-color: #d4ebff;}#sk-container-id-17 div.sk-serial::before {content: \"\";position: absolute;border-left: 1px solid gray;box-sizing: border-box;top: 0;bottom: 0;left: 50%;z-index: 0;}#sk-container-id-17 div.sk-serial {display: flex;flex-direction: column;align-items: center;background-color: white;padding-right: 0.2em;padding-left: 0.2em;position: relative;}#sk-container-id-17 div.sk-item {position: relative;z-index: 1;}#sk-container-id-17 div.sk-parallel {display: flex;align-items: stretch;justify-content: center;background-color: white;position: relative;}#sk-container-id-17 div.sk-item::before, #sk-container-id-17 div.sk-parallel-item::before {content: \"\";position: absolute;border-left: 1px solid gray;box-sizing: border-box;top: 0;bottom: 0;left: 50%;z-index: -1;}#sk-container-id-17 div.sk-parallel-item {display: flex;flex-direction: column;z-index: 1;position: relative;background-color: white;}#sk-container-id-17 div.sk-parallel-item:first-child::after {align-self: flex-end;width: 50%;}#sk-container-id-17 div.sk-parallel-item:last-child::after {align-self: flex-start;width: 50%;}#sk-container-id-17 div.sk-parallel-item:only-child::after {width: 0;}#sk-container-id-17 div.sk-dashed-wrapped {border: 1px dashed gray;margin: 0 0.4em 0.5em 0.4em;box-sizing: border-box;padding-bottom: 0.4em;background-color: white;}#sk-container-id-17 div.sk-label label {font-family: monospace;font-weight: bold;display: inline-block;line-height: 1.2em;}#sk-container-id-17 div.sk-label-container {text-align: center;}#sk-container-id-17 div.sk-container {/* jupyter's `normalize.less` sets `[hidden] { display: none; }` but bootstrap.min.css set `[hidden] { display: none !important; }` so we also need the `!important` here to be able to override the default hidden behavior on the sphinx rendered scikit-learn.org. See: https://github.com/scikit-learn/scikit-learn/issues/21755 */display: inline-block !important;position: relative;}#sk-container-id-17 div.sk-text-repr-fallback {display: none;}</style><div id=\"sk-container-id-17\" class=\"sk-top-container\"><div class=\"sk-text-repr-fallback\"><pre>LogisticRegression(max_iter=1000, random_state=42)</pre><b>In a Jupyter environment, please rerun this cell to show the HTML representation or trust the notebook. <br />On GitHub, the HTML representation is unable to render, please try loading this page with nbviewer.org.</b></div><div class=\"sk-container\" hidden><div class=\"sk-item\"><div class=\"sk-estimator sk-toggleable\"><input class=\"sk-toggleable__control sk-hidden--visually\" id=\"sk-estimator-id-17\" type=\"checkbox\" checked><label for=\"sk-estimator-id-17\" class=\"sk-toggleable__label sk-toggleable__label-arrow\">LogisticRegression</label><div class=\"sk-toggleable__content\"><pre>LogisticRegression(max_iter=1000, random_state=42)</pre></div></div></div></div></div>"
            ]
          },
          "metadata": {},
          "execution_count": 439
        }
      ]
    },
    {
      "cell_type": "code",
      "source": [
        "y_pred = log_reg.predict(X_train_OS)\n",
        "\n",
        "cr = classification_report(y_pred, y_train_OS)\n",
        "ac = accuracy_score(y_pred, y_train_OS)\n",
        "pr = precision_score(y_pred, y_train_OS)\n",
        "rc = recall_score(y_pred, y_train_OS)\n",
        "print(f\"Training Set Scoring before Tuning:\\n{cr}\")\n",
        "\n",
        "print(f\"Training Set Accuracy before Tuning: {ac}\\nTraining Set Precision before Tuning: {pr}\\nTraining Set Recall before Tuning: {rc}\")"
      ],
      "metadata": {
        "colab": {
          "base_uri": "https://localhost:8080/",
          "height": 0
        },
        "id": "5CmnIXMxnxp-",
        "outputId": "7e221625-97ca-42bd-de6b-dceda5143434"
      },
      "execution_count": 440,
      "outputs": [
        {
          "output_type": "stream",
          "name": "stdout",
          "text": [
            "Training Set Scoring before Tuning:\n",
            "              precision    recall  f1-score   support\n",
            "\n",
            "           0       0.80      0.85      0.82     13605\n",
            "           1       0.86      0.81      0.83     15391\n",
            "\n",
            "    accuracy                           0.83     28996\n",
            "   macro avg       0.83      0.83      0.83     28996\n",
            "weighted avg       0.83      0.83      0.83     28996\n",
            "\n",
            "Training Set Accuracy before Tuning: 0.8293212856945785\n",
            "Training Set Precision before Tuning: 0.8601186370533866\n",
            "Training Set Recall before Tuning: 0.8102137612890651\n"
          ]
        }
      ]
    },
    {
      "cell_type": "code",
      "source": [
        "param_grid = {'C': [0.1, 0.5, 1, 3, 6, 10],\n",
        "              'penalty': ['None', 'l1','l2']\n",
        "             }\n",
        "\n",
        "grid_search = GridSearchCV(log_reg, param_grid=param_grid, cv=5, scoring='accuracy')\n",
        "grid_search.fit(X_val_processed, y_val_processed)\n",
        "\n",
        "print(f\"Best hyperparameters: {grid_search.best_params_}\")\n",
        "print(f\"Mean cross-validation score: {grid_search.best_score_}\")"
      ],
      "metadata": {
        "colab": {
          "base_uri": "https://localhost:8080/",
          "height": 0
        },
        "id": "yXyDIvDInbUs",
        "outputId": "5bab3093-6790-4080-acef-ffaf6de8aa1e"
      },
      "execution_count": 441,
      "outputs": [
        {
          "output_type": "stream",
          "name": "stderr",
          "text": [
            "/usr/local/lib/python3.10/dist-packages/sklearn/linear_model/_logistic.py:458: ConvergenceWarning: lbfgs failed to converge (status=1):\n",
            "STOP: TOTAL NO. of ITERATIONS REACHED LIMIT.\n",
            "\n",
            "Increase the number of iterations (max_iter) or scale the data as shown in:\n",
            "    https://scikit-learn.org/stable/modules/preprocessing.html\n",
            "Please also refer to the documentation for alternative solver options:\n",
            "    https://scikit-learn.org/stable/modules/linear_model.html#logistic-regression\n",
            "  n_iter_i = _check_optimize_result(\n",
            "/usr/local/lib/python3.10/dist-packages/sklearn/linear_model/_logistic.py:458: ConvergenceWarning: lbfgs failed to converge (status=1):\n",
            "STOP: TOTAL NO. of ITERATIONS REACHED LIMIT.\n",
            "\n",
            "Increase the number of iterations (max_iter) or scale the data as shown in:\n",
            "    https://scikit-learn.org/stable/modules/preprocessing.html\n",
            "Please also refer to the documentation for alternative solver options:\n",
            "    https://scikit-learn.org/stable/modules/linear_model.html#logistic-regression\n",
            "  n_iter_i = _check_optimize_result(\n",
            "/usr/local/lib/python3.10/dist-packages/sklearn/linear_model/_logistic.py:458: ConvergenceWarning: lbfgs failed to converge (status=1):\n",
            "STOP: TOTAL NO. of ITERATIONS REACHED LIMIT.\n",
            "\n",
            "Increase the number of iterations (max_iter) or scale the data as shown in:\n",
            "    https://scikit-learn.org/stable/modules/preprocessing.html\n",
            "Please also refer to the documentation for alternative solver options:\n",
            "    https://scikit-learn.org/stable/modules/linear_model.html#logistic-regression\n",
            "  n_iter_i = _check_optimize_result(\n",
            "/usr/local/lib/python3.10/dist-packages/sklearn/linear_model/_logistic.py:458: ConvergenceWarning: lbfgs failed to converge (status=1):\n",
            "STOP: TOTAL NO. of ITERATIONS REACHED LIMIT.\n",
            "\n",
            "Increase the number of iterations (max_iter) or scale the data as shown in:\n",
            "    https://scikit-learn.org/stable/modules/preprocessing.html\n",
            "Please also refer to the documentation for alternative solver options:\n",
            "    https://scikit-learn.org/stable/modules/linear_model.html#logistic-regression\n",
            "  n_iter_i = _check_optimize_result(\n",
            "/usr/local/lib/python3.10/dist-packages/sklearn/linear_model/_logistic.py:458: ConvergenceWarning: lbfgs failed to converge (status=1):\n",
            "STOP: TOTAL NO. of ITERATIONS REACHED LIMIT.\n",
            "\n",
            "Increase the number of iterations (max_iter) or scale the data as shown in:\n",
            "    https://scikit-learn.org/stable/modules/preprocessing.html\n",
            "Please also refer to the documentation for alternative solver options:\n",
            "    https://scikit-learn.org/stable/modules/linear_model.html#logistic-regression\n",
            "  n_iter_i = _check_optimize_result(\n",
            "/usr/local/lib/python3.10/dist-packages/sklearn/linear_model/_logistic.py:458: ConvergenceWarning: lbfgs failed to converge (status=1):\n",
            "STOP: TOTAL NO. of ITERATIONS REACHED LIMIT.\n",
            "\n",
            "Increase the number of iterations (max_iter) or scale the data as shown in:\n",
            "    https://scikit-learn.org/stable/modules/preprocessing.html\n",
            "Please also refer to the documentation for alternative solver options:\n",
            "    https://scikit-learn.org/stable/modules/linear_model.html#logistic-regression\n",
            "  n_iter_i = _check_optimize_result(\n",
            "/usr/local/lib/python3.10/dist-packages/sklearn/linear_model/_logistic.py:458: ConvergenceWarning: lbfgs failed to converge (status=1):\n",
            "STOP: TOTAL NO. of ITERATIONS REACHED LIMIT.\n",
            "\n",
            "Increase the number of iterations (max_iter) or scale the data as shown in:\n",
            "    https://scikit-learn.org/stable/modules/preprocessing.html\n",
            "Please also refer to the documentation for alternative solver options:\n",
            "    https://scikit-learn.org/stable/modules/linear_model.html#logistic-regression\n",
            "  n_iter_i = _check_optimize_result(\n",
            "/usr/local/lib/python3.10/dist-packages/sklearn/linear_model/_logistic.py:458: ConvergenceWarning: lbfgs failed to converge (status=1):\n",
            "STOP: TOTAL NO. of ITERATIONS REACHED LIMIT.\n",
            "\n",
            "Increase the number of iterations (max_iter) or scale the data as shown in:\n",
            "    https://scikit-learn.org/stable/modules/preprocessing.html\n",
            "Please also refer to the documentation for alternative solver options:\n",
            "    https://scikit-learn.org/stable/modules/linear_model.html#logistic-regression\n",
            "  n_iter_i = _check_optimize_result(\n",
            "/usr/local/lib/python3.10/dist-packages/sklearn/linear_model/_logistic.py:458: ConvergenceWarning: lbfgs failed to converge (status=1):\n",
            "STOP: TOTAL NO. of ITERATIONS REACHED LIMIT.\n",
            "\n",
            "Increase the number of iterations (max_iter) or scale the data as shown in:\n",
            "    https://scikit-learn.org/stable/modules/preprocessing.html\n",
            "Please also refer to the documentation for alternative solver options:\n",
            "    https://scikit-learn.org/stable/modules/linear_model.html#logistic-regression\n",
            "  n_iter_i = _check_optimize_result(\n",
            "/usr/local/lib/python3.10/dist-packages/sklearn/linear_model/_logistic.py:458: ConvergenceWarning: lbfgs failed to converge (status=1):\n",
            "STOP: TOTAL NO. of ITERATIONS REACHED LIMIT.\n",
            "\n",
            "Increase the number of iterations (max_iter) or scale the data as shown in:\n",
            "    https://scikit-learn.org/stable/modules/preprocessing.html\n",
            "Please also refer to the documentation for alternative solver options:\n",
            "    https://scikit-learn.org/stable/modules/linear_model.html#logistic-regression\n",
            "  n_iter_i = _check_optimize_result(\n",
            "/usr/local/lib/python3.10/dist-packages/sklearn/linear_model/_logistic.py:458: ConvergenceWarning: lbfgs failed to converge (status=1):\n",
            "STOP: TOTAL NO. of ITERATIONS REACHED LIMIT.\n",
            "\n",
            "Increase the number of iterations (max_iter) or scale the data as shown in:\n",
            "    https://scikit-learn.org/stable/modules/preprocessing.html\n",
            "Please also refer to the documentation for alternative solver options:\n",
            "    https://scikit-learn.org/stable/modules/linear_model.html#logistic-regression\n",
            "  n_iter_i = _check_optimize_result(\n",
            "/usr/local/lib/python3.10/dist-packages/sklearn/linear_model/_logistic.py:458: ConvergenceWarning: lbfgs failed to converge (status=1):\n",
            "STOP: TOTAL NO. of ITERATIONS REACHED LIMIT.\n",
            "\n",
            "Increase the number of iterations (max_iter) or scale the data as shown in:\n",
            "    https://scikit-learn.org/stable/modules/preprocessing.html\n",
            "Please also refer to the documentation for alternative solver options:\n",
            "    https://scikit-learn.org/stable/modules/linear_model.html#logistic-regression\n",
            "  n_iter_i = _check_optimize_result(\n",
            "/usr/local/lib/python3.10/dist-packages/sklearn/linear_model/_logistic.py:458: ConvergenceWarning: lbfgs failed to converge (status=1):\n",
            "STOP: TOTAL NO. of ITERATIONS REACHED LIMIT.\n",
            "\n",
            "Increase the number of iterations (max_iter) or scale the data as shown in:\n",
            "    https://scikit-learn.org/stable/modules/preprocessing.html\n",
            "Please also refer to the documentation for alternative solver options:\n",
            "    https://scikit-learn.org/stable/modules/linear_model.html#logistic-regression\n",
            "  n_iter_i = _check_optimize_result(\n",
            "/usr/local/lib/python3.10/dist-packages/sklearn/linear_model/_logistic.py:458: ConvergenceWarning: lbfgs failed to converge (status=1):\n",
            "STOP: TOTAL NO. of ITERATIONS REACHED LIMIT.\n",
            "\n",
            "Increase the number of iterations (max_iter) or scale the data as shown in:\n",
            "    https://scikit-learn.org/stable/modules/preprocessing.html\n",
            "Please also refer to the documentation for alternative solver options:\n",
            "    https://scikit-learn.org/stable/modules/linear_model.html#logistic-regression\n",
            "  n_iter_i = _check_optimize_result(\n",
            "/usr/local/lib/python3.10/dist-packages/sklearn/linear_model/_logistic.py:458: ConvergenceWarning: lbfgs failed to converge (status=1):\n",
            "STOP: TOTAL NO. of ITERATIONS REACHED LIMIT.\n",
            "\n",
            "Increase the number of iterations (max_iter) or scale the data as shown in:\n",
            "    https://scikit-learn.org/stable/modules/preprocessing.html\n",
            "Please also refer to the documentation for alternative solver options:\n",
            "    https://scikit-learn.org/stable/modules/linear_model.html#logistic-regression\n",
            "  n_iter_i = _check_optimize_result(\n",
            "/usr/local/lib/python3.10/dist-packages/sklearn/model_selection/_validation.py:378: FitFailedWarning: \n",
            "60 fits failed out of a total of 90.\n",
            "The score on these train-test partitions for these parameters will be set to nan.\n",
            "If these failures are not expected, you can try to debug them by setting error_score='raise'.\n",
            "\n",
            "Below are more details about the failures:\n",
            "--------------------------------------------------------------------------------\n",
            "30 fits failed with the following error:\n",
            "Traceback (most recent call last):\n",
            "  File \"/usr/local/lib/python3.10/dist-packages/sklearn/model_selection/_validation.py\", line 686, in _fit_and_score\n",
            "    estimator.fit(X_train, y_train, **fit_params)\n",
            "  File \"/usr/local/lib/python3.10/dist-packages/sklearn/linear_model/_logistic.py\", line 1160, in fit\n",
            "    self._validate_params()\n",
            "  File \"/usr/local/lib/python3.10/dist-packages/sklearn/base.py\", line 600, in _validate_params\n",
            "    validate_parameter_constraints(\n",
            "  File \"/usr/local/lib/python3.10/dist-packages/sklearn/utils/_param_validation.py\", line 97, in validate_parameter_constraints\n",
            "    raise InvalidParameterError(\n",
            "sklearn.utils._param_validation.InvalidParameterError: The 'penalty' parameter of LogisticRegression must be a str among {'l2', 'l1', 'elasticnet', 'none' (deprecated)} or None. Got 'None' instead.\n",
            "\n",
            "--------------------------------------------------------------------------------\n",
            "30 fits failed with the following error:\n",
            "Traceback (most recent call last):\n",
            "  File \"/usr/local/lib/python3.10/dist-packages/sklearn/model_selection/_validation.py\", line 686, in _fit_and_score\n",
            "    estimator.fit(X_train, y_train, **fit_params)\n",
            "  File \"/usr/local/lib/python3.10/dist-packages/sklearn/linear_model/_logistic.py\", line 1162, in fit\n",
            "    solver = _check_solver(self.solver, self.penalty, self.dual)\n",
            "  File \"/usr/local/lib/python3.10/dist-packages/sklearn/linear_model/_logistic.py\", line 54, in _check_solver\n",
            "    raise ValueError(\n",
            "ValueError: Solver lbfgs supports only 'l2' or 'none' penalties, got l1 penalty.\n",
            "\n",
            "  warnings.warn(some_fits_failed_message, FitFailedWarning)\n",
            "/usr/local/lib/python3.10/dist-packages/sklearn/model_selection/_search.py:952: UserWarning: One or more of the test scores are non-finite: [       nan        nan 0.85225587        nan        nan 0.85287656\n",
            "        nan        nan 0.85225458        nan        nan 0.85121917\n",
            "        nan        nan 0.85204862        nan        nan 0.85018355]\n",
            "  warnings.warn(\n"
          ]
        },
        {
          "output_type": "stream",
          "name": "stdout",
          "text": [
            "Best hyperparameters: {'C': 0.5, 'penalty': 'l2'}\n",
            "Mean cross-validation score: 0.8528765594996728\n"
          ]
        }
      ]
    },
    {
      "cell_type": "code",
      "source": [
        "y_predicted = grid_search.predict(X_val_processed)\n",
        "\n",
        "\n",
        "cr = classification_report(y_val_processed, y_predicted)\n",
        "ac = accuracy_score(y_val_processed, y_predicted)\n",
        "pr = precision_score(y_val_processed, y_predicted)\n",
        "rc = recall_score(y_val_processed, y_predicted)\n",
        "\n",
        "print(f\"Validation Set Scoring after Tuning:\\n{cr}\")\n",
        "\n",
        "print(f\"Validation Set Accuracy before Tuning: {ac}\\nValidation Set Precision before Tuning: {pr}\\nValidation Set Recall before Tuning: {rc}\")"
      ],
      "metadata": {
        "colab": {
          "base_uri": "https://localhost:8080/",
          "height": 0
        },
        "id": "9_mmNF0CoNCH",
        "outputId": "77b0156f-270c-4663-a038-c7a67ca00de0"
      },
      "execution_count": 442,
      "outputs": [
        {
          "output_type": "stream",
          "name": "stdout",
          "text": [
            "Validation Set Scoring after Tuning:\n",
            "              precision    recall  f1-score   support\n",
            "\n",
            "           0       0.88      0.93      0.91      3625\n",
            "           1       0.75      0.63      0.68      1201\n",
            "\n",
            "    accuracy                           0.86      4826\n",
            "   macro avg       0.82      0.78      0.80      4826\n",
            "weighted avg       0.85      0.86      0.85      4826\n",
            "\n",
            "Validation Set Accuracy before Tuning: 0.855781185246581\n",
            "Validation Set Precision before Tuning: 0.7527527527527528\n",
            "Validation Set Recall before Tuning: 0.6261448792672772\n"
          ]
        }
      ]
    },
    {
      "cell_type": "code",
      "source": [
        "clf = DecisionTreeClassifier(random_state=42)\n",
        "clf.fit(X_train_OS, y_train_OS)\n",
        "\n",
        "#plt.figure(figsize=(20,10))\n",
        "#plot_tree(clf, filled=True, feature_names=X_train.columns)\n",
        "#plt.show()\n",
        "\n",
        "y_prediction = clf.predict(X_train_OS)\n",
        "ac = accuracy_score(y_prediction, y_train_OS)\n",
        "pr = precision_score(y_prediction, y_train_OS)\n",
        "rc = recall_score(y_prediction, y_train_OS)\n",
        "\n",
        "cr = classification_report(y_prediction, y_train_OS)\n",
        "print(f\"Training Set Scoring before Tuning:\\n{cr}\")\n",
        "\n",
        "print(f\"Training Set Accuracy before Tuning: {ac}\\nTraining Set Precision before Tuning: {pr}\\nTraining Set Recall before Tuning: {rc}\")"
      ],
      "metadata": {
        "colab": {
          "base_uri": "https://localhost:8080/",
          "height": 0
        },
        "id": "Mr6P5caqpSv0",
        "outputId": "829eebd2-ef5f-4f89-ef19-1ef8fd2df9e3"
      },
      "execution_count": 443,
      "outputs": [
        {
          "output_type": "stream",
          "name": "stdout",
          "text": [
            "Training Set Scoring before Tuning:\n",
            "              precision    recall  f1-score   support\n",
            "\n",
            "           0       0.99      0.98      0.99     14723\n",
            "           1       0.98      0.99      0.99     14273\n",
            "\n",
            "    accuracy                           0.99     28996\n",
            "   macro avg       0.99      0.99      0.99     28996\n",
            "weighted avg       0.99      0.99      0.99     28996\n",
            "\n",
            "Training Set Accuracy before Tuning: 0.9854117809353015\n",
            "Training Set Precision before Tuning: 0.9776520899434404\n",
            "Training Set Recall before Tuning: 0.9930638268058573\n"
          ]
        }
      ]
    },
    {
      "cell_type": "code",
      "source": [
        "param_grid = {'max_depth': [2, 4, 6, 8, 10, None],\n",
        "              'min_samples_split': [2, 5, 10],\n",
        "              'min_samples_leaf': [1, 2, 4]}\n",
        "\n",
        "\n",
        "grid_search = GridSearchCV(clf, param_grid, cv=5, scoring='accuracy')\n",
        "grid_search.fit(X_val_processed, y_val_processed)\n",
        "\n",
        "print(f\"Best hyperparameters: {grid_search.best_params_}\")\n",
        "print(f\"Mean cross-validation score: {grid_search.best_score_}\")"
      ],
      "metadata": {
        "colab": {
          "base_uri": "https://localhost:8080/",
          "height": 0
        },
        "id": "Bxflg5-0plrL",
        "outputId": "25d21a70-172c-4117-95c3-9941ebe33d86"
      },
      "execution_count": 444,
      "outputs": [
        {
          "output_type": "stream",
          "name": "stdout",
          "text": [
            "Best hyperparameters: {'max_depth': 8, 'min_samples_leaf': 1, 'min_samples_split': 2}\n",
            "Mean cross-validation score: 0.8518407191666935\n"
          ]
        }
      ]
    },
    {
      "cell_type": "code",
      "source": [
        "y_predicted = grid_search.predict(X_val_processed)\n",
        "\n",
        "cr = classification_report(y_val_processed, y_predicted)\n",
        "ac = accuracy_score(y_val_processed, y_predicted)\n",
        "pr = precision_score(y_val_processed, y_predicted)\n",
        "rc = recall_score(y_val_processed, y_predicted)\n",
        "\n",
        "print(f\"Validation Set Scoring after Tuning:\\n{cr}\")\n",
        "\n",
        "print(f\"Validation Set Accuracy before Tuning: {ac}\\nValidation Set Precision before Tuning: {pr}\\nValidation Set Recall before Tuning: {rc}\")"
      ],
      "metadata": {
        "colab": {
          "base_uri": "https://localhost:8080/",
          "height": 0
        },
        "id": "OLnrQsBipssM",
        "outputId": "303cfd03-056c-4e0a-883a-61fcc8654579"
      },
      "execution_count": 445,
      "outputs": [
        {
          "output_type": "stream",
          "name": "stdout",
          "text": [
            "Validation Set Scoring after Tuning:\n",
            "              precision    recall  f1-score   support\n",
            "\n",
            "           0       0.89      0.95      0.92      3625\n",
            "           1       0.81      0.65      0.72      1201\n",
            "\n",
            "    accuracy                           0.87      4826\n",
            "   macro avg       0.85      0.80      0.82      4826\n",
            "weighted avg       0.87      0.87      0.87      4826\n",
            "\n",
            "Validation Set Accuracy before Tuning: 0.8740157480314961\n",
            "Validation Set Precision before Tuning: 0.8085327783558793\n",
            "Validation Set Recall before Tuning: 0.6469608659450458\n"
          ]
        }
      ]
    },
    {
      "cell_type": "code",
      "source": [
        "def preprocess_w_names(feature_df):\n",
        "\n",
        "  \n",
        "  feature_df = feature_df.apply(lambda x: x.str.strip() if x.dtype == \"object\" else x)  # Remove whitespace from entries \n",
        "\n",
        "  # Combine similar education levels\n",
        "  education_map = {'Preschool': 'below-high-school', \n",
        "                   '1st-4th': 'below-high-school', \n",
        "                   '5th-6th': 'below-high-school',\n",
        "                   '7th-8th': 'below-high-school', \n",
        "                   '9th': 'below-high-school', \n",
        "                   '10th': 'high-school',\n",
        "                   '11th': 'high-school', \n",
        "                   '12th': 'high-school', \n",
        "                   'HS-grad': 'high-school-grad',\n",
        "                   'Some-college': 'some-college', \n",
        "                   'Assoc-voc': 'some-college', \n",
        "                   'Assoc-acdm': 'some-college',\n",
        "                   'Bachelors': 'bachelors', \n",
        "                   'Masters': 'graduate-and-above', \n",
        "                   'Prof-school': 'graduate-and-above',\n",
        "                   'Doctorate': 'graduate-and-above'\n",
        "  }\n",
        "  feature_df['education'] = feature_df['education'].replace(education_map)\n",
        "\n",
        "  # Combine similar work-classes\n",
        "  workclass_map = {'Federal-gov': 'gov_job',\n",
        "                   'State-gov': 'gov_job',\n",
        "                   'Local-gov': 'gov_job',\n",
        "                   'Self-emp-inc': 'selfemp',\n",
        "                   'Self-emp-not-inc': 'selfemp'\n",
        "  }\n",
        "  feature_df['workclass'] = feature_df['workclass'].replace(workclass_map)\n",
        "\n",
        "  # Occupation mapping\n",
        "  occupation_map = {' Adm-clerical': 'white-collar',\n",
        "                     'Armed-Forces' : 'blue-collar', \n",
        "                    ' Craft-repair': 'blue-collar', \n",
        "                    ' Exec-managerial': 'white-collar', \n",
        "                    ' Farming-fishing': 'blue-collar', \n",
        "                    ' Handlers-cleaners': 'blue-collar', \n",
        "                    ' Machine-op-inspct': 'blue-collar', \n",
        "                    ' Other-service': 'blue-collar', \n",
        "                    ' Priv-house-serv': 'blue-collar', \n",
        "                    ' Prof-specialty': 'white-collar', \n",
        "                    ' Protective-serv': 'white-collar', \n",
        "                    ' Sales': 'white-collar', \n",
        "                    ' Tech-support': 'white-collar', \n",
        "                    ' Transport-moving': 'blue-collar'\n",
        "  }\n",
        "  \n",
        "  feature_df['occupation'] = feature_df['occupation'].replace(occupation_map)\n",
        "\n",
        "  # Relationship mapping\n",
        "  relationship_map = {' Wife': 'spouse', \n",
        "                      ' Husband': 'spouse', \n",
        "                      ' Not-in-family': 'not-family', \n",
        "                      ' Own-child': 'family', \n",
        "                      ' Unmarried': 'not-family', \n",
        "                      ' Other-relative': 'family'\n",
        "  }\n",
        "  feature_df['relationship'] = feature_df['relationship'].replace(relationship_map)\n",
        "\n",
        "  # Marital status mapping\n",
        "  marital_status_map = {'Married-civ-spouse': 'married',\n",
        "                        'Married-AF-spouse': 'married',\n",
        "                        'Never-married': 'non-married',\n",
        "                        'Divorced': 'non-married',\n",
        "                        'Separated': 'non-married',\n",
        "                        'Widowed': 'non-married'\n",
        "  }\n",
        "  feature_df['marital-status'] = feature_df['marital-status'].replace(marital_status_map)\n",
        "\n",
        "  race_map = {'White':'White',\n",
        "              'Black':'Black',\n",
        "              'Asian-Pac-Islander':'Other',\n",
        "              'Amer-Indian-Eskimo':'Other',\n",
        "              'Other':'Other'\n",
        "  }\n",
        "  feature_df['race'] = feature_df['race'].replace(race_map)\n",
        "\n",
        "  native_country_map = {'United-States': 'US',\n",
        "                        'Mexico': 'Other',\n",
        "                        'Philippines':'Other',\n",
        "                        'Germany':'Other',\n",
        "                        'Canada':'Other',\n",
        "                        'Puerto-Rico':'Other',\n",
        "                        'Cuba':'Other',\n",
        "                        'El-Salvador':'Other',\n",
        "                        'India':'Other',\n",
        "                        'England':'Other',\n",
        "                        'Dominican-Republic':'Other',\n",
        "                        'Jamaica':'Other',\n",
        "                        'China':'Other',\n",
        "                        'South':'Other',\n",
        "                        'Guatemala':'Other',\n",
        "                        'Poland':'Other',\n",
        "                        'Italy':'Other',\n",
        "                        'Vietnam':'Other',\n",
        "                        'Columbia':'Other',\n",
        "                        'Japan':'Other',\n",
        "                        'Iran':'Other',\n",
        "                        'Haiti':'Other',\n",
        "                        'Portugal':'Other',\n",
        "                        'Taiwan':'Other',\n",
        "                        'Greece':'Other',\n",
        "                        'Nicaragua':'Other',\n",
        "                        'Ecuador':'Other',\n",
        "                        'France':'Other',\n",
        "                        'Ireland':'Other',\n",
        "                        'Peru':'Other',\n",
        "                        'Thailand':'Other',\n",
        "                        'Hong':'Other',\n",
        "                        'Cambodia':'Other',\n",
        "                        'Outlying-US(Guam-USVI-etc)':'Other',\n",
        "                        'Scotland':'Other',\n",
        "                        'Laos':'Other',\n",
        "                        'Trinadad&Tobago':'Other',\n",
        "                        'Honduras':'Other',\n",
        "                        'Hungary':'Other',\n",
        "                        'Yugoslavia':'Other',\n",
        "                        'Holand-Netherlands':'Other'\n",
        "  }\n",
        "  feature_df['native-country'] = feature_df['native-country'].replace(native_country_map)\n",
        "\n",
        "  ohe = OneHotEncoder(sparse=False, handle_unknown='ignore')\n",
        "  oe = OrdinalEncoder()\n",
        "  std = StandardScaler()\n",
        "  mms = MinMaxScaler()   \n",
        "  \n",
        "  ohe_attributes = ['workclass','occupation','relationship']\n",
        "  oe_attributes = ['education','sex','marital-status', 'native-country', 'race']\n",
        "  std_attributes = []\n",
        "  mms_attributes = ['capital-gain', 'capital-loss']\n",
        "  pass_through = ['age','education-num','hours-per-week'] \n",
        "  edu_levels = []\n",
        "  for level in range(len(pd.unique(feature_df['education']))):\n",
        "      edu_levels.append(level + 1 ) \n",
        "  ohe_names = ohe.fit(feature_df[ohe_attributes]).get_feature_names_out(ohe_attributes)\n",
        "  column_names = pass_through + oe_attributes + ohe_names.tolist() + mms_attributes + std_attributes  \n",
        "  preprocessing = ColumnTransformer(\n",
        "      transformers=[\n",
        "          ('passthrough', 'passthrough', pass_through),\n",
        "          ('OHE', ohe, ohe_attributes),\n",
        "          ('OE', oe, oe_attributes),\n",
        "          ('minMax', mms, mms_attributes),\n",
        "          ('std', std, std_attributes)\n",
        "      ], remainder='drop', n_jobs=-1\n",
        "  ) \n",
        "  pprocessed = preprocessing.fit_transform(feature_df)  \n",
        "  df_preprocessed = pd.DataFrame(pprocessed, columns=column_names) \n",
        "\n",
        "  return df_preprocessed"
      ],
      "metadata": {
        "id": "el3tzYSKvz1p"
      },
      "execution_count": 446,
      "outputs": []
    },
    {
      "cell_type": "code",
      "source": [
        "X_train_proc_2 = preprocess_w_names(orig_X_train)"
      ],
      "metadata": {
        "colab": {
          "base_uri": "https://localhost:8080/",
          "height": 0
        },
        "id": "n7PM0IOQwp4L",
        "outputId": "378c0d47-1a55-4968-fdcd-852684d1269e"
      },
      "execution_count": 447,
      "outputs": [
        {
          "output_type": "stream",
          "name": "stderr",
          "text": [
            "/usr/local/lib/python3.10/dist-packages/sklearn/preprocessing/_encoders.py:868: FutureWarning: `sparse` was renamed to `sparse_output` in version 1.2 and will be removed in 1.4. `sparse_output` is ignored unless you leave `sparse` to its default value.\n",
            "  warnings.warn(\n"
          ]
        }
      ]
    },
    {
      "cell_type": "code",
      "source": [
        "X_train_proc_2.head()\n",
        "\n",
        "new_X_train_OS, new_y_train_OS = sm.fit_resample(X_train_proc_2, target_preprocess(orig_y_train))"
      ],
      "metadata": {
        "id": "4ezq71Aw-945"
      },
      "execution_count": 448,
      "outputs": []
    },
    {
      "cell_type": "code",
      "source": [
        "lg = LogisticRegression(random_state=42)\n",
        "\n",
        "lg.fit(new_X_train_OS, new_y_train_OS)"
      ],
      "metadata": {
        "colab": {
          "base_uri": "https://localhost:8080/",
          "height": 221
        },
        "id": "lXitT-45AwO6",
        "outputId": "dbb84b9d-0bbf-40d7-8088-82cab38bab88"
      },
      "execution_count": 449,
      "outputs": [
        {
          "output_type": "stream",
          "name": "stderr",
          "text": [
            "/usr/local/lib/python3.10/dist-packages/sklearn/linear_model/_logistic.py:458: ConvergenceWarning: lbfgs failed to converge (status=1):\n",
            "STOP: TOTAL NO. of ITERATIONS REACHED LIMIT.\n",
            "\n",
            "Increase the number of iterations (max_iter) or scale the data as shown in:\n",
            "    https://scikit-learn.org/stable/modules/preprocessing.html\n",
            "Please also refer to the documentation for alternative solver options:\n",
            "    https://scikit-learn.org/stable/modules/linear_model.html#logistic-regression\n",
            "  n_iter_i = _check_optimize_result(\n"
          ]
        },
        {
          "output_type": "execute_result",
          "data": {
            "text/plain": [
              "LogisticRegression(random_state=42)"
            ],
            "text/html": [
              "<style>#sk-container-id-18 {color: black;background-color: white;}#sk-container-id-18 pre{padding: 0;}#sk-container-id-18 div.sk-toggleable {background-color: white;}#sk-container-id-18 label.sk-toggleable__label {cursor: pointer;display: block;width: 100%;margin-bottom: 0;padding: 0.3em;box-sizing: border-box;text-align: center;}#sk-container-id-18 label.sk-toggleable__label-arrow:before {content: \"▸\";float: left;margin-right: 0.25em;color: #696969;}#sk-container-id-18 label.sk-toggleable__label-arrow:hover:before {color: black;}#sk-container-id-18 div.sk-estimator:hover label.sk-toggleable__label-arrow:before {color: black;}#sk-container-id-18 div.sk-toggleable__content {max-height: 0;max-width: 0;overflow: hidden;text-align: left;background-color: #f0f8ff;}#sk-container-id-18 div.sk-toggleable__content pre {margin: 0.2em;color: black;border-radius: 0.25em;background-color: #f0f8ff;}#sk-container-id-18 input.sk-toggleable__control:checked~div.sk-toggleable__content {max-height: 200px;max-width: 100%;overflow: auto;}#sk-container-id-18 input.sk-toggleable__control:checked~label.sk-toggleable__label-arrow:before {content: \"▾\";}#sk-container-id-18 div.sk-estimator input.sk-toggleable__control:checked~label.sk-toggleable__label {background-color: #d4ebff;}#sk-container-id-18 div.sk-label input.sk-toggleable__control:checked~label.sk-toggleable__label {background-color: #d4ebff;}#sk-container-id-18 input.sk-hidden--visually {border: 0;clip: rect(1px 1px 1px 1px);clip: rect(1px, 1px, 1px, 1px);height: 1px;margin: -1px;overflow: hidden;padding: 0;position: absolute;width: 1px;}#sk-container-id-18 div.sk-estimator {font-family: monospace;background-color: #f0f8ff;border: 1px dotted black;border-radius: 0.25em;box-sizing: border-box;margin-bottom: 0.5em;}#sk-container-id-18 div.sk-estimator:hover {background-color: #d4ebff;}#sk-container-id-18 div.sk-parallel-item::after {content: \"\";width: 100%;border-bottom: 1px solid gray;flex-grow: 1;}#sk-container-id-18 div.sk-label:hover label.sk-toggleable__label {background-color: #d4ebff;}#sk-container-id-18 div.sk-serial::before {content: \"\";position: absolute;border-left: 1px solid gray;box-sizing: border-box;top: 0;bottom: 0;left: 50%;z-index: 0;}#sk-container-id-18 div.sk-serial {display: flex;flex-direction: column;align-items: center;background-color: white;padding-right: 0.2em;padding-left: 0.2em;position: relative;}#sk-container-id-18 div.sk-item {position: relative;z-index: 1;}#sk-container-id-18 div.sk-parallel {display: flex;align-items: stretch;justify-content: center;background-color: white;position: relative;}#sk-container-id-18 div.sk-item::before, #sk-container-id-18 div.sk-parallel-item::before {content: \"\";position: absolute;border-left: 1px solid gray;box-sizing: border-box;top: 0;bottom: 0;left: 50%;z-index: -1;}#sk-container-id-18 div.sk-parallel-item {display: flex;flex-direction: column;z-index: 1;position: relative;background-color: white;}#sk-container-id-18 div.sk-parallel-item:first-child::after {align-self: flex-end;width: 50%;}#sk-container-id-18 div.sk-parallel-item:last-child::after {align-self: flex-start;width: 50%;}#sk-container-id-18 div.sk-parallel-item:only-child::after {width: 0;}#sk-container-id-18 div.sk-dashed-wrapped {border: 1px dashed gray;margin: 0 0.4em 0.5em 0.4em;box-sizing: border-box;padding-bottom: 0.4em;background-color: white;}#sk-container-id-18 div.sk-label label {font-family: monospace;font-weight: bold;display: inline-block;line-height: 1.2em;}#sk-container-id-18 div.sk-label-container {text-align: center;}#sk-container-id-18 div.sk-container {/* jupyter's `normalize.less` sets `[hidden] { display: none; }` but bootstrap.min.css set `[hidden] { display: none !important; }` so we also need the `!important` here to be able to override the default hidden behavior on the sphinx rendered scikit-learn.org. See: https://github.com/scikit-learn/scikit-learn/issues/21755 */display: inline-block !important;position: relative;}#sk-container-id-18 div.sk-text-repr-fallback {display: none;}</style><div id=\"sk-container-id-18\" class=\"sk-top-container\"><div class=\"sk-text-repr-fallback\"><pre>LogisticRegression(random_state=42)</pre><b>In a Jupyter environment, please rerun this cell to show the HTML representation or trust the notebook. <br />On GitHub, the HTML representation is unable to render, please try loading this page with nbviewer.org.</b></div><div class=\"sk-container\" hidden><div class=\"sk-item\"><div class=\"sk-estimator sk-toggleable\"><input class=\"sk-toggleable__control sk-hidden--visually\" id=\"sk-estimator-id-18\" type=\"checkbox\" checked><label for=\"sk-estimator-id-18\" class=\"sk-toggleable__label sk-toggleable__label-arrow\">LogisticRegression</label><div class=\"sk-toggleable__content\"><pre>LogisticRegression(random_state=42)</pre></div></div></div></div></div>"
            ]
          },
          "metadata": {},
          "execution_count": 449
        }
      ]
    },
    {
      "cell_type": "code",
      "source": [
        "y_pred = lg.predict(new_X_train_OS)\n",
        "\n",
        "tr_cr = classification_report(y_pred, new_y_train_OS)\n",
        "tr_ac = accuracy_score(y_pred, new_y_train_OS)\n",
        "tr_pr = precision_score(y_pred, new_y_train_OS)\n",
        "tr_rc = recall_score(y_pred, new_y_train_OS)\n",
        "print(f\"Training Set Scoring before Tuning:\\n{tr_cr}\")\n",
        "\n",
        "print(f\"Training Set Accuracy before Tuning: {tr_ac}\\nTraining Set Precision before Tuning: {pr}\\nTraining Set Recall before Tuning: {tr_rc}\")"
      ],
      "metadata": {
        "colab": {
          "base_uri": "https://localhost:8080/",
          "height": 0
        },
        "id": "3UKOXX5EA64a",
        "outputId": "deace679-d1aa-43ff-d55c-0505d22f8bad"
      },
      "execution_count": 450,
      "outputs": [
        {
          "output_type": "stream",
          "name": "stdout",
          "text": [
            "Training Set Scoring before Tuning:\n",
            "              precision    recall  f1-score   support\n",
            "\n",
            "           0       0.77      0.85      0.81     13135\n",
            "           1       0.86      0.79      0.82     15861\n",
            "\n",
            "    accuracy                           0.82     28996\n",
            "   macro avg       0.82      0.82      0.81     28996\n",
            "weighted avg       0.82      0.82      0.82     28996\n",
            "\n",
            "Training Set Accuracy before Tuning: 0.8153883294247483\n",
            "Training Set Precision before Tuning: 0.8085327783558793\n",
            "Training Set Recall before Tuning: 0.7882857322993506\n"
          ]
        }
      ]
    },
    {
      "cell_type": "code",
      "source": [
        "param_grid = {'C': [0.1, 0.5, 1, 3, 6, 10],\n",
        "              'penalty': ['None', 'l1','l2'],\n",
        "              \n",
        "             }\n",
        "\n",
        "new_X_val = preprocess_w_names(X_val)\n",
        "\n",
        "gs_lg = GridSearchCV(lg, param_grid=param_grid, cv=5, scoring='accuracy')\n",
        "gs_lg.fit(new_X_train_OS, new_y_train_OS)\n",
        "\n",
        "print(f\"Best hyperparameters: {gs_lg.best_params_}\")\n",
        "print(f\"Mean cross-validation score: {gs_lg.best_score_}\")"
      ],
      "metadata": {
        "colab": {
          "base_uri": "https://localhost:8080/",
          "height": 0
        },
        "id": "PA4TGhsFGRnO",
        "outputId": "f6bca55e-6aa0-4007-cab9-4a368906b3d6"
      },
      "execution_count": 451,
      "outputs": [
        {
          "output_type": "stream",
          "name": "stderr",
          "text": [
            "/usr/local/lib/python3.10/dist-packages/sklearn/preprocessing/_encoders.py:868: FutureWarning: `sparse` was renamed to `sparse_output` in version 1.2 and will be removed in 1.4. `sparse_output` is ignored unless you leave `sparse` to its default value.\n",
            "  warnings.warn(\n",
            "/usr/local/lib/python3.10/dist-packages/sklearn/linear_model/_logistic.py:458: ConvergenceWarning: lbfgs failed to converge (status=1):\n",
            "STOP: TOTAL NO. of ITERATIONS REACHED LIMIT.\n",
            "\n",
            "Increase the number of iterations (max_iter) or scale the data as shown in:\n",
            "    https://scikit-learn.org/stable/modules/preprocessing.html\n",
            "Please also refer to the documentation for alternative solver options:\n",
            "    https://scikit-learn.org/stable/modules/linear_model.html#logistic-regression\n",
            "  n_iter_i = _check_optimize_result(\n",
            "/usr/local/lib/python3.10/dist-packages/sklearn/linear_model/_logistic.py:458: ConvergenceWarning: lbfgs failed to converge (status=1):\n",
            "STOP: TOTAL NO. of ITERATIONS REACHED LIMIT.\n",
            "\n",
            "Increase the number of iterations (max_iter) or scale the data as shown in:\n",
            "    https://scikit-learn.org/stable/modules/preprocessing.html\n",
            "Please also refer to the documentation for alternative solver options:\n",
            "    https://scikit-learn.org/stable/modules/linear_model.html#logistic-regression\n",
            "  n_iter_i = _check_optimize_result(\n",
            "/usr/local/lib/python3.10/dist-packages/sklearn/linear_model/_logistic.py:458: ConvergenceWarning: lbfgs failed to converge (status=1):\n",
            "STOP: TOTAL NO. of ITERATIONS REACHED LIMIT.\n",
            "\n",
            "Increase the number of iterations (max_iter) or scale the data as shown in:\n",
            "    https://scikit-learn.org/stable/modules/preprocessing.html\n",
            "Please also refer to the documentation for alternative solver options:\n",
            "    https://scikit-learn.org/stable/modules/linear_model.html#logistic-regression\n",
            "  n_iter_i = _check_optimize_result(\n",
            "/usr/local/lib/python3.10/dist-packages/sklearn/linear_model/_logistic.py:458: ConvergenceWarning: lbfgs failed to converge (status=1):\n",
            "STOP: TOTAL NO. of ITERATIONS REACHED LIMIT.\n",
            "\n",
            "Increase the number of iterations (max_iter) or scale the data as shown in:\n",
            "    https://scikit-learn.org/stable/modules/preprocessing.html\n",
            "Please also refer to the documentation for alternative solver options:\n",
            "    https://scikit-learn.org/stable/modules/linear_model.html#logistic-regression\n",
            "  n_iter_i = _check_optimize_result(\n",
            "/usr/local/lib/python3.10/dist-packages/sklearn/linear_model/_logistic.py:458: ConvergenceWarning: lbfgs failed to converge (status=1):\n",
            "STOP: TOTAL NO. of ITERATIONS REACHED LIMIT.\n",
            "\n",
            "Increase the number of iterations (max_iter) or scale the data as shown in:\n",
            "    https://scikit-learn.org/stable/modules/preprocessing.html\n",
            "Please also refer to the documentation for alternative solver options:\n",
            "    https://scikit-learn.org/stable/modules/linear_model.html#logistic-regression\n",
            "  n_iter_i = _check_optimize_result(\n",
            "/usr/local/lib/python3.10/dist-packages/sklearn/linear_model/_logistic.py:458: ConvergenceWarning: lbfgs failed to converge (status=1):\n",
            "STOP: TOTAL NO. of ITERATIONS REACHED LIMIT.\n",
            "\n",
            "Increase the number of iterations (max_iter) or scale the data as shown in:\n",
            "    https://scikit-learn.org/stable/modules/preprocessing.html\n",
            "Please also refer to the documentation for alternative solver options:\n",
            "    https://scikit-learn.org/stable/modules/linear_model.html#logistic-regression\n",
            "  n_iter_i = _check_optimize_result(\n",
            "/usr/local/lib/python3.10/dist-packages/sklearn/linear_model/_logistic.py:458: ConvergenceWarning: lbfgs failed to converge (status=1):\n",
            "STOP: TOTAL NO. of ITERATIONS REACHED LIMIT.\n",
            "\n",
            "Increase the number of iterations (max_iter) or scale the data as shown in:\n",
            "    https://scikit-learn.org/stable/modules/preprocessing.html\n",
            "Please also refer to the documentation for alternative solver options:\n",
            "    https://scikit-learn.org/stable/modules/linear_model.html#logistic-regression\n",
            "  n_iter_i = _check_optimize_result(\n",
            "/usr/local/lib/python3.10/dist-packages/sklearn/linear_model/_logistic.py:458: ConvergenceWarning: lbfgs failed to converge (status=1):\n",
            "STOP: TOTAL NO. of ITERATIONS REACHED LIMIT.\n",
            "\n",
            "Increase the number of iterations (max_iter) or scale the data as shown in:\n",
            "    https://scikit-learn.org/stable/modules/preprocessing.html\n",
            "Please also refer to the documentation for alternative solver options:\n",
            "    https://scikit-learn.org/stable/modules/linear_model.html#logistic-regression\n",
            "  n_iter_i = _check_optimize_result(\n",
            "/usr/local/lib/python3.10/dist-packages/sklearn/linear_model/_logistic.py:458: ConvergenceWarning: lbfgs failed to converge (status=1):\n",
            "STOP: TOTAL NO. of ITERATIONS REACHED LIMIT.\n",
            "\n",
            "Increase the number of iterations (max_iter) or scale the data as shown in:\n",
            "    https://scikit-learn.org/stable/modules/preprocessing.html\n",
            "Please also refer to the documentation for alternative solver options:\n",
            "    https://scikit-learn.org/stable/modules/linear_model.html#logistic-regression\n",
            "  n_iter_i = _check_optimize_result(\n",
            "/usr/local/lib/python3.10/dist-packages/sklearn/linear_model/_logistic.py:458: ConvergenceWarning: lbfgs failed to converge (status=1):\n",
            "STOP: TOTAL NO. of ITERATIONS REACHED LIMIT.\n",
            "\n",
            "Increase the number of iterations (max_iter) or scale the data as shown in:\n",
            "    https://scikit-learn.org/stable/modules/preprocessing.html\n",
            "Please also refer to the documentation for alternative solver options:\n",
            "    https://scikit-learn.org/stable/modules/linear_model.html#logistic-regression\n",
            "  n_iter_i = _check_optimize_result(\n",
            "/usr/local/lib/python3.10/dist-packages/sklearn/linear_model/_logistic.py:458: ConvergenceWarning: lbfgs failed to converge (status=1):\n",
            "STOP: TOTAL NO. of ITERATIONS REACHED LIMIT.\n",
            "\n",
            "Increase the number of iterations (max_iter) or scale the data as shown in:\n",
            "    https://scikit-learn.org/stable/modules/preprocessing.html\n",
            "Please also refer to the documentation for alternative solver options:\n",
            "    https://scikit-learn.org/stable/modules/linear_model.html#logistic-regression\n",
            "  n_iter_i = _check_optimize_result(\n",
            "/usr/local/lib/python3.10/dist-packages/sklearn/linear_model/_logistic.py:458: ConvergenceWarning: lbfgs failed to converge (status=1):\n",
            "STOP: TOTAL NO. of ITERATIONS REACHED LIMIT.\n",
            "\n",
            "Increase the number of iterations (max_iter) or scale the data as shown in:\n",
            "    https://scikit-learn.org/stable/modules/preprocessing.html\n",
            "Please also refer to the documentation for alternative solver options:\n",
            "    https://scikit-learn.org/stable/modules/linear_model.html#logistic-regression\n",
            "  n_iter_i = _check_optimize_result(\n",
            "/usr/local/lib/python3.10/dist-packages/sklearn/linear_model/_logistic.py:458: ConvergenceWarning: lbfgs failed to converge (status=1):\n",
            "STOP: TOTAL NO. of ITERATIONS REACHED LIMIT.\n",
            "\n",
            "Increase the number of iterations (max_iter) or scale the data as shown in:\n",
            "    https://scikit-learn.org/stable/modules/preprocessing.html\n",
            "Please also refer to the documentation for alternative solver options:\n",
            "    https://scikit-learn.org/stable/modules/linear_model.html#logistic-regression\n",
            "  n_iter_i = _check_optimize_result(\n",
            "/usr/local/lib/python3.10/dist-packages/sklearn/linear_model/_logistic.py:458: ConvergenceWarning: lbfgs failed to converge (status=1):\n",
            "STOP: TOTAL NO. of ITERATIONS REACHED LIMIT.\n",
            "\n",
            "Increase the number of iterations (max_iter) or scale the data as shown in:\n",
            "    https://scikit-learn.org/stable/modules/preprocessing.html\n",
            "Please also refer to the documentation for alternative solver options:\n",
            "    https://scikit-learn.org/stable/modules/linear_model.html#logistic-regression\n",
            "  n_iter_i = _check_optimize_result(\n",
            "/usr/local/lib/python3.10/dist-packages/sklearn/linear_model/_logistic.py:458: ConvergenceWarning: lbfgs failed to converge (status=1):\n",
            "STOP: TOTAL NO. of ITERATIONS REACHED LIMIT.\n",
            "\n",
            "Increase the number of iterations (max_iter) or scale the data as shown in:\n",
            "    https://scikit-learn.org/stable/modules/preprocessing.html\n",
            "Please also refer to the documentation for alternative solver options:\n",
            "    https://scikit-learn.org/stable/modules/linear_model.html#logistic-regression\n",
            "  n_iter_i = _check_optimize_result(\n",
            "/usr/local/lib/python3.10/dist-packages/sklearn/linear_model/_logistic.py:458: ConvergenceWarning: lbfgs failed to converge (status=1):\n",
            "STOP: TOTAL NO. of ITERATIONS REACHED LIMIT.\n",
            "\n",
            "Increase the number of iterations (max_iter) or scale the data as shown in:\n",
            "    https://scikit-learn.org/stable/modules/preprocessing.html\n",
            "Please also refer to the documentation for alternative solver options:\n",
            "    https://scikit-learn.org/stable/modules/linear_model.html#logistic-regression\n",
            "  n_iter_i = _check_optimize_result(\n",
            "/usr/local/lib/python3.10/dist-packages/sklearn/linear_model/_logistic.py:458: ConvergenceWarning: lbfgs failed to converge (status=1):\n",
            "STOP: TOTAL NO. of ITERATIONS REACHED LIMIT.\n",
            "\n",
            "Increase the number of iterations (max_iter) or scale the data as shown in:\n",
            "    https://scikit-learn.org/stable/modules/preprocessing.html\n",
            "Please also refer to the documentation for alternative solver options:\n",
            "    https://scikit-learn.org/stable/modules/linear_model.html#logistic-regression\n",
            "  n_iter_i = _check_optimize_result(\n",
            "/usr/local/lib/python3.10/dist-packages/sklearn/linear_model/_logistic.py:458: ConvergenceWarning: lbfgs failed to converge (status=1):\n",
            "STOP: TOTAL NO. of ITERATIONS REACHED LIMIT.\n",
            "\n",
            "Increase the number of iterations (max_iter) or scale the data as shown in:\n",
            "    https://scikit-learn.org/stable/modules/preprocessing.html\n",
            "Please also refer to the documentation for alternative solver options:\n",
            "    https://scikit-learn.org/stable/modules/linear_model.html#logistic-regression\n",
            "  n_iter_i = _check_optimize_result(\n",
            "/usr/local/lib/python3.10/dist-packages/sklearn/linear_model/_logistic.py:458: ConvergenceWarning: lbfgs failed to converge (status=1):\n",
            "STOP: TOTAL NO. of ITERATIONS REACHED LIMIT.\n",
            "\n",
            "Increase the number of iterations (max_iter) or scale the data as shown in:\n",
            "    https://scikit-learn.org/stable/modules/preprocessing.html\n",
            "Please also refer to the documentation for alternative solver options:\n",
            "    https://scikit-learn.org/stable/modules/linear_model.html#logistic-regression\n",
            "  n_iter_i = _check_optimize_result(\n",
            "/usr/local/lib/python3.10/dist-packages/sklearn/linear_model/_logistic.py:458: ConvergenceWarning: lbfgs failed to converge (status=1):\n",
            "STOP: TOTAL NO. of ITERATIONS REACHED LIMIT.\n",
            "\n",
            "Increase the number of iterations (max_iter) or scale the data as shown in:\n",
            "    https://scikit-learn.org/stable/modules/preprocessing.html\n",
            "Please also refer to the documentation for alternative solver options:\n",
            "    https://scikit-learn.org/stable/modules/linear_model.html#logistic-regression\n",
            "  n_iter_i = _check_optimize_result(\n",
            "/usr/local/lib/python3.10/dist-packages/sklearn/linear_model/_logistic.py:458: ConvergenceWarning: lbfgs failed to converge (status=1):\n",
            "STOP: TOTAL NO. of ITERATIONS REACHED LIMIT.\n",
            "\n",
            "Increase the number of iterations (max_iter) or scale the data as shown in:\n",
            "    https://scikit-learn.org/stable/modules/preprocessing.html\n",
            "Please also refer to the documentation for alternative solver options:\n",
            "    https://scikit-learn.org/stable/modules/linear_model.html#logistic-regression\n",
            "  n_iter_i = _check_optimize_result(\n",
            "/usr/local/lib/python3.10/dist-packages/sklearn/linear_model/_logistic.py:458: ConvergenceWarning: lbfgs failed to converge (status=1):\n",
            "STOP: TOTAL NO. of ITERATIONS REACHED LIMIT.\n",
            "\n",
            "Increase the number of iterations (max_iter) or scale the data as shown in:\n",
            "    https://scikit-learn.org/stable/modules/preprocessing.html\n",
            "Please also refer to the documentation for alternative solver options:\n",
            "    https://scikit-learn.org/stable/modules/linear_model.html#logistic-regression\n",
            "  n_iter_i = _check_optimize_result(\n",
            "/usr/local/lib/python3.10/dist-packages/sklearn/linear_model/_logistic.py:458: ConvergenceWarning: lbfgs failed to converge (status=1):\n",
            "STOP: TOTAL NO. of ITERATIONS REACHED LIMIT.\n",
            "\n",
            "Increase the number of iterations (max_iter) or scale the data as shown in:\n",
            "    https://scikit-learn.org/stable/modules/preprocessing.html\n",
            "Please also refer to the documentation for alternative solver options:\n",
            "    https://scikit-learn.org/stable/modules/linear_model.html#logistic-regression\n",
            "  n_iter_i = _check_optimize_result(\n",
            "/usr/local/lib/python3.10/dist-packages/sklearn/linear_model/_logistic.py:458: ConvergenceWarning: lbfgs failed to converge (status=1):\n",
            "STOP: TOTAL NO. of ITERATIONS REACHED LIMIT.\n",
            "\n",
            "Increase the number of iterations (max_iter) or scale the data as shown in:\n",
            "    https://scikit-learn.org/stable/modules/preprocessing.html\n",
            "Please also refer to the documentation for alternative solver options:\n",
            "    https://scikit-learn.org/stable/modules/linear_model.html#logistic-regression\n",
            "  n_iter_i = _check_optimize_result(\n",
            "/usr/local/lib/python3.10/dist-packages/sklearn/linear_model/_logistic.py:458: ConvergenceWarning: lbfgs failed to converge (status=1):\n",
            "STOP: TOTAL NO. of ITERATIONS REACHED LIMIT.\n",
            "\n",
            "Increase the number of iterations (max_iter) or scale the data as shown in:\n",
            "    https://scikit-learn.org/stable/modules/preprocessing.html\n",
            "Please also refer to the documentation for alternative solver options:\n",
            "    https://scikit-learn.org/stable/modules/linear_model.html#logistic-regression\n",
            "  n_iter_i = _check_optimize_result(\n",
            "/usr/local/lib/python3.10/dist-packages/sklearn/linear_model/_logistic.py:458: ConvergenceWarning: lbfgs failed to converge (status=1):\n",
            "STOP: TOTAL NO. of ITERATIONS REACHED LIMIT.\n",
            "\n",
            "Increase the number of iterations (max_iter) or scale the data as shown in:\n",
            "    https://scikit-learn.org/stable/modules/preprocessing.html\n",
            "Please also refer to the documentation for alternative solver options:\n",
            "    https://scikit-learn.org/stable/modules/linear_model.html#logistic-regression\n",
            "  n_iter_i = _check_optimize_result(\n",
            "/usr/local/lib/python3.10/dist-packages/sklearn/linear_model/_logistic.py:458: ConvergenceWarning: lbfgs failed to converge (status=1):\n",
            "STOP: TOTAL NO. of ITERATIONS REACHED LIMIT.\n",
            "\n",
            "Increase the number of iterations (max_iter) or scale the data as shown in:\n",
            "    https://scikit-learn.org/stable/modules/preprocessing.html\n",
            "Please also refer to the documentation for alternative solver options:\n",
            "    https://scikit-learn.org/stable/modules/linear_model.html#logistic-regression\n",
            "  n_iter_i = _check_optimize_result(\n",
            "/usr/local/lib/python3.10/dist-packages/sklearn/linear_model/_logistic.py:458: ConvergenceWarning: lbfgs failed to converge (status=1):\n",
            "STOP: TOTAL NO. of ITERATIONS REACHED LIMIT.\n",
            "\n",
            "Increase the number of iterations (max_iter) or scale the data as shown in:\n",
            "    https://scikit-learn.org/stable/modules/preprocessing.html\n",
            "Please also refer to the documentation for alternative solver options:\n",
            "    https://scikit-learn.org/stable/modules/linear_model.html#logistic-regression\n",
            "  n_iter_i = _check_optimize_result(\n",
            "/usr/local/lib/python3.10/dist-packages/sklearn/linear_model/_logistic.py:458: ConvergenceWarning: lbfgs failed to converge (status=1):\n",
            "STOP: TOTAL NO. of ITERATIONS REACHED LIMIT.\n",
            "\n",
            "Increase the number of iterations (max_iter) or scale the data as shown in:\n",
            "    https://scikit-learn.org/stable/modules/preprocessing.html\n",
            "Please also refer to the documentation for alternative solver options:\n",
            "    https://scikit-learn.org/stable/modules/linear_model.html#logistic-regression\n",
            "  n_iter_i = _check_optimize_result(\n",
            "/usr/local/lib/python3.10/dist-packages/sklearn/linear_model/_logistic.py:458: ConvergenceWarning: lbfgs failed to converge (status=1):\n",
            "STOP: TOTAL NO. of ITERATIONS REACHED LIMIT.\n",
            "\n",
            "Increase the number of iterations (max_iter) or scale the data as shown in:\n",
            "    https://scikit-learn.org/stable/modules/preprocessing.html\n",
            "Please also refer to the documentation for alternative solver options:\n",
            "    https://scikit-learn.org/stable/modules/linear_model.html#logistic-regression\n",
            "  n_iter_i = _check_optimize_result(\n",
            "/usr/local/lib/python3.10/dist-packages/sklearn/model_selection/_validation.py:378: FitFailedWarning: \n",
            "60 fits failed out of a total of 90.\n",
            "The score on these train-test partitions for these parameters will be set to nan.\n",
            "If these failures are not expected, you can try to debug them by setting error_score='raise'.\n",
            "\n",
            "Below are more details about the failures:\n",
            "--------------------------------------------------------------------------------\n",
            "30 fits failed with the following error:\n",
            "Traceback (most recent call last):\n",
            "  File \"/usr/local/lib/python3.10/dist-packages/sklearn/model_selection/_validation.py\", line 686, in _fit_and_score\n",
            "    estimator.fit(X_train, y_train, **fit_params)\n",
            "  File \"/usr/local/lib/python3.10/dist-packages/sklearn/linear_model/_logistic.py\", line 1160, in fit\n",
            "    self._validate_params()\n",
            "  File \"/usr/local/lib/python3.10/dist-packages/sklearn/base.py\", line 600, in _validate_params\n",
            "    validate_parameter_constraints(\n",
            "  File \"/usr/local/lib/python3.10/dist-packages/sklearn/utils/_param_validation.py\", line 97, in validate_parameter_constraints\n",
            "    raise InvalidParameterError(\n",
            "sklearn.utils._param_validation.InvalidParameterError: The 'penalty' parameter of LogisticRegression must be a str among {'l2', 'l1', 'elasticnet', 'none' (deprecated)} or None. Got 'None' instead.\n",
            "\n",
            "--------------------------------------------------------------------------------\n",
            "30 fits failed with the following error:\n",
            "Traceback (most recent call last):\n",
            "  File \"/usr/local/lib/python3.10/dist-packages/sklearn/model_selection/_validation.py\", line 686, in _fit_and_score\n",
            "    estimator.fit(X_train, y_train, **fit_params)\n",
            "  File \"/usr/local/lib/python3.10/dist-packages/sklearn/linear_model/_logistic.py\", line 1162, in fit\n",
            "    solver = _check_solver(self.solver, self.penalty, self.dual)\n",
            "  File \"/usr/local/lib/python3.10/dist-packages/sklearn/linear_model/_logistic.py\", line 54, in _check_solver\n",
            "    raise ValueError(\n",
            "ValueError: Solver lbfgs supports only 'l2' or 'none' penalties, got l1 penalty.\n",
            "\n",
            "  warnings.warn(some_fits_failed_message, FitFailedWarning)\n",
            "/usr/local/lib/python3.10/dist-packages/sklearn/model_selection/_search.py:952: UserWarning: One or more of the test scores are non-finite: [       nan        nan 0.81025026        nan        nan 0.81204364\n",
            "        nan        nan 0.81011226        nan        nan 0.81328513\n",
            "        nan        nan 0.81273344        nan        nan 0.81107789]\n",
            "  warnings.warn(\n"
          ]
        },
        {
          "output_type": "stream",
          "name": "stdout",
          "text": [
            "Best hyperparameters: {'C': 3, 'penalty': 'l2'}\n",
            "Mean cross-validation score: 0.8132851323950027\n"
          ]
        },
        {
          "output_type": "stream",
          "name": "stderr",
          "text": [
            "/usr/local/lib/python3.10/dist-packages/sklearn/linear_model/_logistic.py:458: ConvergenceWarning: lbfgs failed to converge (status=1):\n",
            "STOP: TOTAL NO. of ITERATIONS REACHED LIMIT.\n",
            "\n",
            "Increase the number of iterations (max_iter) or scale the data as shown in:\n",
            "    https://scikit-learn.org/stable/modules/preprocessing.html\n",
            "Please also refer to the documentation for alternative solver options:\n",
            "    https://scikit-learn.org/stable/modules/linear_model.html#logistic-regression\n",
            "  n_iter_i = _check_optimize_result(\n"
          ]
        }
      ]
    },
    {
      "cell_type": "code",
      "source": [
        "y_pred = gs_lg.predict(new_X_val)\n",
        "\n",
        "cr = classification_report(y_pred, y_val_processed)\n",
        "ac = accuracy_score(y_pred, y_val_processed)\n",
        "pr = precision_score(y_pred, y_val_processed)\n",
        "rc = recall_score(y_pred, y_val_processed)\n",
        "print(f\"Validation Set Scoring after Tuning:\\n{cr}\")\n",
        "\n",
        "print(f\"Training Set Accuracy before Tuning: {tr_ac} ... Validation Set After Tuning: {ac}\\nTraining Set Precision before Tuning: {tr_pr} ... Validation Set After Tuning: {pr}\\nTraining Set Recall before Tuning: {tr_rc} ... Validation Set After Tuning: {rc}\")"
      ],
      "metadata": {
        "colab": {
          "base_uri": "https://localhost:8080/",
          "height": 0
        },
        "id": "7TFvX-nAGf0e",
        "outputId": "a2c6cd45-a5fc-4f41-b8c8-1eb3631c92eb"
      },
      "execution_count": 452,
      "outputs": [
        {
          "output_type": "stream",
          "name": "stdout",
          "text": [
            "Validation Set Scoring after Tuning:\n",
            "              precision    recall  f1-score   support\n",
            "\n",
            "           0       0.78      0.94      0.85      3026\n",
            "           1       0.84      0.56      0.67      1800\n",
            "\n",
            "    accuracy                           0.80      4826\n",
            "   macro avg       0.81      0.75      0.76      4826\n",
            "weighted avg       0.81      0.80      0.79      4826\n",
            "\n",
            "Training Set Accuracy before Tuning: 0.8153883294247483 ... Validation Set After Tuning: 0.7975549108992955\n",
            "Training Set Precision before Tuning: 0.8623948130776659 ... Validation Set After Tuning: 0.8426311407160699\n",
            "Training Set Recall before Tuning: 0.7882857322993506 ... Validation Set After Tuning: 0.5622222222222222\n"
          ]
        }
      ]
    },
    {
      "cell_type": "code",
      "source": [
        "clf = DecisionTreeClassifier(random_state=42)\n",
        "clf.fit(new_X_train_OS, new_y_train_OS)\n",
        "\n",
        "#plt.figure(figsize=(15,15))\n",
        "#plot_tree(clf, filled=True, feature_names=new_X_train_OS.columns)\n",
        "#plt.show()\n",
        "\n",
        "y_prediction = clf.predict(new_X_train_OS)\n",
        "tr_ac = accuracy_score(y_prediction, new_y_train_OS)\n",
        "tr_pr = precision_score(y_prediction, new_y_train_OS)\n",
        "tr_rc = recall_score(y_prediction, new_y_train_OS)\n",
        "\n",
        "cr = classification_report(y_prediction, new_y_train_OS)\n",
        "print(f\"Training Set Scoring before Tuning:\\n{cr}\")\n",
        "\n",
        "print(f\"Training Set Accuracy before Tuning: {tr_ac}\\nTraining Set Precision before Tuning: {tr_pr}\\nTraining Set Recall before Tuning: {tr_rc}\")\n"
      ],
      "metadata": {
        "colab": {
          "base_uri": "https://localhost:8080/",
          "height": 0
        },
        "id": "pS3A67tQSAfh",
        "outputId": "d9ee7bef-d96c-45c5-87d4-3ef9b844bf71"
      },
      "execution_count": 453,
      "outputs": [
        {
          "output_type": "stream",
          "name": "stdout",
          "text": [
            "Training Set Scoring before Tuning:\n",
            "              precision    recall  f1-score   support\n",
            "\n",
            "           0       0.99      0.98      0.98     14753\n",
            "           1       0.98      0.99      0.98     14243\n",
            "\n",
            "    accuracy                           0.98     28996\n",
            "   macro avg       0.98      0.98      0.98     28996\n",
            "weighted avg       0.98      0.98      0.98     28996\n",
            "\n",
            "Training Set Accuracy before Tuning: 0.9839633052834874\n",
            "Training Set Precision before Tuning: 0.975168988826045\n",
            "Training Set Recall before Tuning: 0.9926279575932037\n"
          ]
        }
      ]
    },
    {
      "cell_type": "code",
      "source": [
        "param_grid = {'max_depth': [16, 20, 24],\n",
        "              'min_samples_split': [2, 4, 6],\n",
        "              'min_samples_leaf': [4, 6, 9, 12, 15], \n",
        "              'max_features': ['sqrt', 'log2']}\n",
        "\n",
        "\n",
        "gs_clf = GridSearchCV(clf, param_grid, cv=5, scoring='accuracy')\n",
        "gs_clf.fit(new_X_train_OS, new_y_train_OS)\n",
        "\n",
        "print(f\"Best hyperparameters: {gs_clf.best_params_}\")\n",
        "print(f\"Mean cross-validation score: {gs_clf.best_score_}\")\n",
        "\n",
        "\n",
        "y_prediction = gs_clf.predict(new_X_train_OS)\n",
        "tr_ac = accuracy_score(y_prediction, new_y_train_OS)\n",
        "tr_pr = precision_score(y_prediction, new_y_train_OS)\n",
        "tr_rc = recall_score(y_prediction, new_y_train_OS)\n",
        "\n",
        "cr = classification_report(y_prediction, new_y_train_OS)\n",
        "print(f\"Training Set Scoring before Tuning:\\n{cr}\")\n",
        "\n",
        "print(f\"Training Set Accuracy before Tuning: {tr_ac}\\nTraining Set Precision before Tuning: {tr_pr}\\nTraining Set Recall before Tuning: {tr_rc}\")"
      ],
      "metadata": {
        "colab": {
          "base_uri": "https://localhost:8080/",
          "height": 0
        },
        "id": "59Xeleg6SkUr",
        "outputId": "dbaaaafa-7857-47c7-e7cd-87addc9eb716"
      },
      "execution_count": 454,
      "outputs": [
        {
          "output_type": "stream",
          "name": "stdout",
          "text": [
            "Best hyperparameters: {'max_depth': 20, 'max_features': 'sqrt', 'min_samples_leaf': 6, 'min_samples_split': 2}\n",
            "Mean cross-validation score: 0.8544305379643339\n",
            "Training Set Scoring before Tuning:\n",
            "              precision    recall  f1-score   support\n",
            "\n",
            "           0       0.87      0.88      0.88     14245\n",
            "           1       0.89      0.87      0.88     14751\n",
            "\n",
            "    accuracy                           0.88     28996\n",
            "   macro avg       0.88      0.88      0.88     28996\n",
            "weighted avg       0.88      0.88      0.88     28996\n",
            "\n",
            "Training Set Accuracy before Tuning: 0.8776727824527522\n",
            "Training Set Precision before Tuning: 0.8863981238791557\n",
            "Training Set Recall before Tuning: 0.8711951732085961\n"
          ]
        }
      ]
    },
    {
      "cell_type": "code",
      "source": [
        "y_predicted = gs_clf.predict(new_X_val)\n",
        "\n",
        "cr = classification_report(y_val_processed, y_predicted)\n",
        "ac = accuracy_score(y_val_processed, y_predicted)\n",
        "pr = precision_score(y_val_processed, y_predicted)\n",
        "rc = recall_score(y_val_processed, y_predicted)\n",
        "\n",
        "print(f\"Validation Set Scoring after Tuning:\\n{cr}\")\n",
        "\n",
        "print(f\"Training Set Accuracy before Tuning: {tr_ac} ... Validation Set After Tuning: {ac}\\nTraining Set Precision before Tuning: {tr_pr} ... Validation Set After Tuning: {pr}\\nTraining Set Recall before Tuning: {tr_rc} ... Validation Set After Tuning: {rc}\")"
      ],
      "metadata": {
        "colab": {
          "base_uri": "https://localhost:8080/",
          "height": 0
        },
        "id": "fux6frc9TNEh",
        "outputId": "33e99a29-6a81-4471-b188-ed4043996689"
      },
      "execution_count": 455,
      "outputs": [
        {
          "output_type": "stream",
          "name": "stdout",
          "text": [
            "Validation Set Scoring after Tuning:\n",
            "              precision    recall  f1-score   support\n",
            "\n",
            "           0       0.90      0.86      0.88      3625\n",
            "           1       0.62      0.72      0.67      1201\n",
            "\n",
            "    accuracy                           0.82      4826\n",
            "   macro avg       0.76      0.79      0.77      4826\n",
            "weighted avg       0.83      0.82      0.83      4826\n",
            "\n",
            "Training Set Accuracy before Tuning: 0.8776727824527522 ... Validation Set After Tuning: 0.8213841690841276\n",
            "Training Set Precision before Tuning: 0.8863981238791557 ... Validation Set After Tuning: 0.6222062004325883\n",
            "Training Set Recall before Tuning: 0.8711951732085961 ... Validation Set After Tuning: 0.7185678601165695\n"
          ]
        }
      ]
    },
    {
      "cell_type": "code",
      "source": [
        "model_list = []\n",
        "for i in range(10):\n",
        "  hidden_units = 34     # how many neurons in the hidden layer\n",
        "  activation = 'relu'   # activation function for hidden layer\n",
        "  l2 = 0.01             # regularization - how much we penalize large parameter values\n",
        "  learning_rate = 0.01  # how big our steps are in gradient descent\n",
        "  epochs = 5            # how many epochs to train for\n",
        "  batch_size = 100       # how many samples to use for each gradient descent update\n",
        "\n",
        "  # create a sequential model\n",
        "  model = models.Sequential()\n",
        "\n",
        "  for j in range(i+1):\n",
        "    # add the hidden layer\n",
        "    model.add(layers.Dense(input_dim=34,\n",
        "                           units=hidden_units, \n",
        "                           activation=activation))\n",
        "\n",
        "  # add the output layer\n",
        "  model.add(layers.Dense(input_dim=hidden_units,\n",
        "                         units=1,\n",
        "                         activation='sigmoid'))\n",
        "\n",
        "  # define our loss function and optimizer\n",
        "  model.compile(loss='binary_crossentropy',\n",
        "                # Adam is a kind of gradient descent\n",
        "                optimizer=optimizers.Adam(learning_rate=learning_rate),\n",
        "                metrics=['accuracy'])\n",
        "\n",
        "  # train the parameters\n",
        "  history = model.fit(new_X_train_OS, new_y_train_OS, epochs=10, batch_size=batch_size)\n",
        "\n",
        "  train_acc = model.evaluate(new_X_train_OS, new_y_train_OS, batch_size=32)[1]\n",
        "  print('Training accuracy: %s' % train_acc)\n",
        "  \n",
        "\n",
        "  model_list.append((train_acc, model))\n",
        "  losses = history.history['loss']\n",
        "  plt.plot(range(len(losses)), losses, 'r')\n",
        "  plt.show()"
      ],
      "metadata": {
        "colab": {
          "base_uri": "https://localhost:8080/",
          "height": 8084
        },
        "id": "HrgYRGDqPhQN",
        "outputId": "ef62e878-9b87-4737-de13-6fd9103f95dc"
      },
      "execution_count": 456,
      "outputs": [
        {
          "output_type": "stream",
          "name": "stdout",
          "text": [
            "Epoch 1/10\n",
            "290/290 [==============================] - 1s 2ms/step - loss: 0.5358 - accuracy: 0.7686\n",
            "Epoch 2/10\n",
            "290/290 [==============================] - 1s 2ms/step - loss: 0.4058 - accuracy: 0.8117\n",
            "Epoch 3/10\n",
            "290/290 [==============================] - 1s 2ms/step - loss: 0.4000 - accuracy: 0.8144\n",
            "Epoch 4/10\n",
            "290/290 [==============================] - 1s 2ms/step - loss: 0.3876 - accuracy: 0.8204\n",
            "Epoch 5/10\n",
            "290/290 [==============================] - 1s 2ms/step - loss: 0.3800 - accuracy: 0.8253\n",
            "Epoch 6/10\n",
            "290/290 [==============================] - 1s 2ms/step - loss: 0.3829 - accuracy: 0.8212\n",
            "Epoch 7/10\n",
            "290/290 [==============================] - 1s 2ms/step - loss: 0.3737 - accuracy: 0.8271\n",
            "Epoch 8/10\n",
            "290/290 [==============================] - 1s 2ms/step - loss: 0.3741 - accuracy: 0.8266\n",
            "Epoch 9/10\n",
            "290/290 [==============================] - 1s 2ms/step - loss: 0.3748 - accuracy: 0.8271\n",
            "Epoch 10/10\n",
            "290/290 [==============================] - 1s 2ms/step - loss: 0.3666 - accuracy: 0.8311\n",
            "907/907 [==============================] - 2s 2ms/step - loss: 0.3736 - accuracy: 0.8263\n",
            "Training accuracy: 0.8262519240379333\n"
          ]
        },
        {
          "output_type": "display_data",
          "data": {
            "text/plain": [
              "<Figure size 640x480 with 1 Axes>"
            ],
            "image/png": "[encoded data removed]"
          },
          "metadata": {}
        },
        {
          "output_type": "stream",
          "name": "stdout",
          "text": [
            "Epoch 1/10\n",
            "290/290 [==============================] - 1s 2ms/step - loss: 0.4721 - accuracy: 0.7726\n",
            "Epoch 2/10\n",
            "290/290 [==============================] - 1s 2ms/step - loss: 0.3975 - accuracy: 0.8155\n",
            "Epoch 3/10\n",
            "290/290 [==============================] - 1s 2ms/step - loss: 0.3852 - accuracy: 0.8229\n",
            "Epoch 4/10\n",
            "290/290 [==============================] - 1s 2ms/step - loss: 0.3910 - accuracy: 0.8188\n",
            "Epoch 5/10\n",
            "290/290 [==============================] - 1s 2ms/step - loss: 0.3779 - accuracy: 0.8266\n",
            "Epoch 6/10\n",
            "290/290 [==============================] - 1s 2ms/step - loss: 0.3731 - accuracy: 0.8280\n",
            "Epoch 7/10\n",
            "290/290 [==============================] - 1s 2ms/step - loss: 0.3683 - accuracy: 0.8313\n",
            "Epoch 8/10\n",
            "290/290 [==============================] - 1s 2ms/step - loss: 0.3721 - accuracy: 0.8301\n",
            "Epoch 9/10\n",
            "290/290 [==============================] - 1s 2ms/step - loss: 0.3644 - accuracy: 0.8344\n",
            "Epoch 10/10\n",
            "290/290 [==============================] - 1s 2ms/step - loss: 0.3639 - accuracy: 0.8328\n",
            "907/907 [==============================] - 2s 2ms/step - loss: 0.3506 - accuracy: 0.8403\n",
            "Training accuracy: 0.8402883410453796\n"
          ]
        },
        {
          "output_type": "display_data",
          "data": {
            "text/plain": [
              "<Figure size 640x480 with 1 Axes>"
            ],
            "image/png": "[encoded data removed]"
          },
          "metadata": {}
        },
        {
          "output_type": "stream",
          "name": "stdout",
          "text": [
            "Epoch 1/10\n",
            "290/290 [==============================] - 1s 2ms/step - loss: 0.4518 - accuracy: 0.7845\n",
            "Epoch 2/10\n",
            "290/290 [==============================] - 1s 2ms/step - loss: 0.4008 - accuracy: 0.8138\n",
            "Epoch 3/10\n",
            "290/290 [==============================] - 1s 2ms/step - loss: 0.3930 - accuracy: 0.8163\n",
            "Epoch 4/10\n",
            "290/290 [==============================] - 1s 2ms/step - loss: 0.3850 - accuracy: 0.8216\n",
            "Epoch 5/10\n",
            "290/290 [==============================] - 1s 2ms/step - loss: 0.3803 - accuracy: 0.8245\n",
            "Epoch 6/10\n",
            "290/290 [==============================] - 1s 2ms/step - loss: 0.3772 - accuracy: 0.8259\n",
            "Epoch 7/10\n",
            "290/290 [==============================] - 1s 2ms/step - loss: 0.3739 - accuracy: 0.8273\n",
            "Epoch 8/10\n",
            "290/290 [==============================] - 1s 2ms/step - loss: 0.3705 - accuracy: 0.8290\n",
            "Epoch 9/10\n",
            "290/290 [==============================] - 1s 2ms/step - loss: 0.3699 - accuracy: 0.8307\n",
            "Epoch 10/10\n",
            "290/290 [==============================] - 1s 2ms/step - loss: 0.3635 - accuracy: 0.8328\n",
            "907/907 [==============================] - 2s 2ms/step - loss: 0.3620 - accuracy: 0.8305\n",
            "Training accuracy: 0.8305283784866333\n"
          ]
        },
        {
          "output_type": "display_data",
          "data": {
            "text/plain": [
              "<Figure size 640x480 with 1 Axes>"
            ],
            "image/png": "[encoded data removed]"
          },
          "metadata": {}
        },
        {
          "output_type": "stream",
          "name": "stdout",
          "text": [
            "Epoch 1/10\n",
            "290/290 [==============================] - 1s 3ms/step - loss: 0.4652 - accuracy: 0.7740\n",
            "Epoch 2/10\n",
            "290/290 [==============================] - 1s 3ms/step - loss: 0.4041 - accuracy: 0.8138\n",
            "Epoch 3/10\n",
            "290/290 [==============================] - 1s 3ms/step - loss: 0.3942 - accuracy: 0.8183\n",
            "Epoch 4/10\n",
            "290/290 [==============================] - 1s 3ms/step - loss: 0.3907 - accuracy: 0.8211\n",
            "Epoch 5/10\n",
            "290/290 [==============================] - 1s 3ms/step - loss: 0.3804 - accuracy: 0.8234\n",
            "Epoch 6/10\n",
            "290/290 [==============================] - 1s 3ms/step - loss: 0.3826 - accuracy: 0.8245\n",
            "Epoch 7/10\n",
            "290/290 [==============================] - 1s 3ms/step - loss: 0.3773 - accuracy: 0.8268\n",
            "Epoch 8/10\n",
            "290/290 [==============================] - 1s 3ms/step - loss: 0.3724 - accuracy: 0.8310\n",
            "Epoch 9/10\n",
            "290/290 [==============================] - 1s 3ms/step - loss: 0.3673 - accuracy: 0.8326\n",
            "Epoch 10/10\n",
            "290/290 [==============================] - 1s 3ms/step - loss: 0.3696 - accuracy: 0.8303\n",
            "907/907 [==============================] - 2s 2ms/step - loss: 0.3789 - accuracy: 0.8231\n",
            "Training accuracy: 0.8231480121612549\n"
          ]
        },
        {
          "output_type": "display_data",
          "data": {
            "text/plain": [
              "<Figure size 640x480 with 1 Axes>"
            ],
            "image/png": "[encoded data removed]"
          },
          "metadata": {}
        },
        {
          "output_type": "stream",
          "name": "stdout",
          "text": [
            "Epoch 1/10\n",
            "290/290 [==============================] - 1s 3ms/step - loss: 0.4685 - accuracy: 0.7710\n",
            "Epoch 2/10\n",
            "290/290 [==============================] - 1s 3ms/step - loss: 0.4039 - accuracy: 0.8136\n",
            "Epoch 3/10\n",
            "290/290 [==============================] - 1s 3ms/step - loss: 0.4013 - accuracy: 0.8160\n",
            "Epoch 4/10\n",
            "290/290 [==============================] - 1s 3ms/step - loss: 0.3876 - accuracy: 0.8199\n",
            "Epoch 5/10\n",
            "290/290 [==============================] - 1s 3ms/step - loss: 0.3838 - accuracy: 0.8229\n",
            "Epoch 6/10\n",
            "290/290 [==============================] - 1s 3ms/step - loss: 0.3752 - accuracy: 0.8276\n",
            "Epoch 7/10\n",
            "290/290 [==============================] - 1s 3ms/step - loss: 0.3760 - accuracy: 0.8255\n",
            "Epoch 8/10\n",
            "290/290 [==============================] - 1s 3ms/step - loss: 0.3708 - accuracy: 0.8305\n",
            "Epoch 9/10\n",
            "290/290 [==============================] - 1s 3ms/step - loss: 0.3743 - accuracy: 0.8300\n",
            "Epoch 10/10\n",
            "290/290 [==============================] - 1s 3ms/step - loss: 0.3684 - accuracy: 0.8326\n",
            "907/907 [==============================] - 2s 2ms/step - loss: 0.3589 - accuracy: 0.8373\n",
            "Training accuracy: 0.8372533917427063\n"
          ]
        },
        {
          "output_type": "display_data",
          "data": {
            "text/plain": [
              "<Figure size 640x480 with 1 Axes>"
            ],
            "image/png": "[encoded data removed]"
          },
          "metadata": {}
        },
        {
          "output_type": "stream",
          "name": "stdout",
          "text": [
            "Epoch 1/10\n",
            "290/290 [==============================] - 2s 3ms/step - loss: 0.4694 - accuracy: 0.7710\n",
            "Epoch 2/10\n",
            "290/290 [==============================] - 1s 3ms/step - loss: 0.3997 - accuracy: 0.8177\n",
            "Epoch 3/10\n",
            "290/290 [==============================] - 1s 3ms/step - loss: 0.3951 - accuracy: 0.8167\n",
            "Epoch 4/10\n",
            "290/290 [==============================] - 1s 3ms/step - loss: 0.3903 - accuracy: 0.8190\n",
            "Epoch 5/10\n",
            "290/290 [==============================] - 1s 3ms/step - loss: 0.3863 - accuracy: 0.8225\n",
            "Epoch 6/10\n",
            "290/290 [==============================] - 1s 3ms/step - loss: 0.3837 - accuracy: 0.8233\n",
            "Epoch 7/10\n",
            "290/290 [==============================] - 1s 3ms/step - loss: 0.3824 - accuracy: 0.8252\n",
            "Epoch 8/10\n",
            "290/290 [==============================] - 1s 3ms/step - loss: 0.3765 - accuracy: 0.8283\n",
            "Epoch 9/10\n",
            "290/290 [==============================] - 1s 3ms/step - loss: 0.3751 - accuracy: 0.8288\n",
            "Epoch 10/10\n",
            "290/290 [==============================] - 1s 3ms/step - loss: 0.3691 - accuracy: 0.8323\n",
            "907/907 [==============================] - 2s 2ms/step - loss: 0.3602 - accuracy: 0.8345\n",
            "Training accuracy: 0.8344599008560181\n"
          ]
        },
        {
          "output_type": "display_data",
          "data": {
            "text/plain": [
              "<Figure size 640x480 with 1 Axes>"
            ],
            "image/png": "[encoded data removed]"
          },
          "metadata": {}
        },
        {
          "output_type": "stream",
          "name": "stdout",
          "text": [
            "Epoch 1/10\n",
            "290/290 [==============================] - 2s 3ms/step - loss: 0.4715 - accuracy: 0.7651\n",
            "Epoch 2/10\n",
            "290/290 [==============================] - 1s 3ms/step - loss: 0.4051 - accuracy: 0.8133\n",
            "Epoch 3/10\n",
            "290/290 [==============================] - 1s 3ms/step - loss: 0.3939 - accuracy: 0.8188\n",
            "Epoch 4/10\n",
            "290/290 [==============================] - 1s 3ms/step - loss: 0.3924 - accuracy: 0.8196\n",
            "Epoch 5/10\n",
            "290/290 [==============================] - 1s 3ms/step - loss: 0.3821 - accuracy: 0.8238\n",
            "Epoch 6/10\n",
            "290/290 [==============================] - 1s 3ms/step - loss: 0.3802 - accuracy: 0.8254\n",
            "Epoch 7/10\n",
            "290/290 [==============================] - 1s 3ms/step - loss: 0.3799 - accuracy: 0.8267\n",
            "Epoch 8/10\n",
            "290/290 [==============================] - 1s 3ms/step - loss: 0.3802 - accuracy: 0.8243\n",
            "Epoch 9/10\n",
            "290/290 [==============================] - 1s 3ms/step - loss: 0.3698 - accuracy: 0.8303\n",
            "Epoch 10/10\n",
            "290/290 [==============================] - 1s 3ms/step - loss: 0.3675 - accuracy: 0.8321\n",
            "907/907 [==============================] - 2s 2ms/step - loss: 0.3564 - accuracy: 0.8358\n",
            "Training accuracy: 0.8358049392700195\n"
          ]
        },
        {
          "output_type": "display_data",
          "data": {
            "text/plain": [
              "<Figure size 640x480 with 1 Axes>"
            ],
            "image/png": "[encoded data removed]"
          },
          "metadata": {}
        },
        {
          "output_type": "stream",
          "name": "stdout",
          "text": [
            "Epoch 1/10\n",
            "290/290 [==============================] - 2s 3ms/step - loss: 0.4628 - accuracy: 0.7746\n",
            "Epoch 2/10\n",
            "290/290 [==============================] - 1s 3ms/step - loss: 0.4027 - accuracy: 0.8169\n",
            "Epoch 3/10\n",
            "290/290 [==============================] - 1s 3ms/step - loss: 0.3971 - accuracy: 0.8191\n",
            "Epoch 4/10\n",
            "290/290 [==============================] - 1s 3ms/step - loss: 0.3893 - accuracy: 0.8202\n",
            "Epoch 5/10\n",
            "290/290 [==============================] - 1s 3ms/step - loss: 0.3872 - accuracy: 0.8243\n",
            "Epoch 6/10\n",
            "290/290 [==============================] - 1s 3ms/step - loss: 0.3876 - accuracy: 0.8228\n",
            "Epoch 7/10\n",
            "290/290 [==============================] - 1s 3ms/step - loss: 0.3744 - accuracy: 0.8286\n",
            "Epoch 8/10\n",
            "290/290 [==============================] - 1s 3ms/step - loss: 0.3760 - accuracy: 0.8285\n",
            "Epoch 9/10\n",
            "290/290 [==============================] - 1s 3ms/step - loss: 0.3767 - accuracy: 0.8258\n",
            "Epoch 10/10\n",
            "290/290 [==============================] - 1s 3ms/step - loss: 0.3703 - accuracy: 0.8306\n",
            "907/907 [==============================] - 2s 2ms/step - loss: 0.3615 - accuracy: 0.8358\n",
            "Training accuracy: 0.8358394503593445\n"
          ]
        },
        {
          "output_type": "display_data",
          "data": {
            "text/plain": [
              "<Figure size 640x480 with 1 Axes>"
            ],
            "image/png": "[encoded data removed]"
          },
          "metadata": {}
        },
        {
          "output_type": "stream",
          "name": "stdout",
          "text": [
            "Epoch 1/10\n",
            "290/290 [==============================] - 2s 3ms/step - loss: 0.4668 - accuracy: 0.7670\n",
            "Epoch 2/10\n",
            "290/290 [==============================] - 1s 3ms/step - loss: 0.4054 - accuracy: 0.8153\n",
            "Epoch 3/10\n",
            "290/290 [==============================] - 1s 3ms/step - loss: 0.3938 - accuracy: 0.8177\n",
            "Epoch 4/10\n",
            "290/290 [==============================] - 1s 3ms/step - loss: 0.3919 - accuracy: 0.8194\n",
            "Epoch 5/10\n",
            "290/290 [==============================] - 1s 3ms/step - loss: 0.3841 - accuracy: 0.8222\n",
            "Epoch 6/10\n",
            "290/290 [==============================] - 1s 3ms/step - loss: 0.3811 - accuracy: 0.8248\n",
            "Epoch 7/10\n",
            "290/290 [==============================] - 1s 3ms/step - loss: 0.3786 - accuracy: 0.8262\n",
            "Epoch 8/10\n",
            "290/290 [==============================] - 1s 3ms/step - loss: 0.3775 - accuracy: 0.8271\n",
            "Epoch 9/10\n",
            "290/290 [==============================] - 1s 3ms/step - loss: 0.3709 - accuracy: 0.8294\n",
            "Epoch 10/10\n",
            "290/290 [==============================] - 1s 3ms/step - loss: 0.3741 - accuracy: 0.8291\n",
            "907/907 [==============================] - 2s 2ms/step - loss: 0.3607 - accuracy: 0.8326\n",
            "Training accuracy: 0.8326320648193359\n"
          ]
        },
        {
          "output_type": "display_data",
          "data": {
            "text/plain": [
              "<Figure size 640x480 with 1 Axes>"
            ],
            "image/png": "[encoded data removed]"
          },
          "metadata": {}
        },
        {
          "output_type": "stream",
          "name": "stdout",
          "text": [
            "Epoch 1/10\n",
            "290/290 [==============================] - 2s 3ms/step - loss: 0.4719 - accuracy: 0.7655\n",
            "Epoch 2/10\n",
            "290/290 [==============================] - 1s 3ms/step - loss: 0.4150 - accuracy: 0.8081\n",
            "Epoch 3/10\n",
            "290/290 [==============================] - 1s 3ms/step - loss: 0.4027 - accuracy: 0.8152\n",
            "Epoch 4/10\n",
            "290/290 [==============================] - 1s 3ms/step - loss: 0.4079 - accuracy: 0.8064\n",
            "Epoch 5/10\n",
            "290/290 [==============================] - 1s 3ms/step - loss: 0.3912 - accuracy: 0.8182\n",
            "Epoch 6/10\n",
            "290/290 [==============================] - 1s 3ms/step - loss: 0.3952 - accuracy: 0.8191\n",
            "Epoch 7/10\n",
            "290/290 [==============================] - 1s 3ms/step - loss: 0.3866 - accuracy: 0.8226\n",
            "Epoch 8/10\n",
            "290/290 [==============================] - 1s 3ms/step - loss: 0.3784 - accuracy: 0.8251\n",
            "Epoch 9/10\n",
            "290/290 [==============================] - 1s 3ms/step - loss: 0.3828 - accuracy: 0.8240\n",
            "Epoch 10/10\n",
            "290/290 [==============================] - 1s 3ms/step - loss: 0.3745 - accuracy: 0.8301\n",
            "907/907 [==============================] - 2s 2ms/step - loss: 0.3617 - accuracy: 0.8356\n",
            "Training accuracy: 0.8356325030326843\n"
          ]
        },
        {
          "output_type": "display_data",
          "data": {
            "text/plain": [
              "<Figure size 640x480 with 1 Axes>"
            ],
            "image/png": "[encoded data removed]"
          },
          "metadata": {}
        }
      ]
    },
    {
      "cell_type": "code",
      "source": [
        "model = max(model_list)\n",
        "train_acc = model[1].evaluate(new_X_train_OS, new_y_train_OS, batch_size=32)[1]\n",
        "print('Training accuracy: %s' % train_acc)\n",
        "ffnn_test_pred = model[1].predict(new_X_train_OS)\n",
        "\n",
        "for i in range(len(ffnn_test_pred)): \n",
        "  if ffnn_test_pred[i] > 0.50:\n",
        "    ffnn_test_pred[i] = 1\n",
        "  else:\n",
        "    ffnn_test_pred[i] = 0\n",
        "\n",
        "cr = classification_report(ffnn_test_pred, new_y_train_OS)\n",
        "print(f'{ffnn_test_pred}\\n\\n{cr}')\n",
        "\n",
        "val_acc = model[1].evaluate(new_X_val, y_val_processed, batch_size=32)[1]\n",
        "print('Testing accuracy: %s' % val_acc)\n",
        "ffnn_test_pred = model[1].predict(new_X_val)\n",
        "\n",
        "for i in range(len(ffnn_test_pred)): \n",
        "  if ffnn_test_pred[i] > 0.50:\n",
        "    ffnn_test_pred[i] = 1\n",
        "  else:\n",
        "    ffnn_test_pred[i] = 0\n",
        "\n",
        "cr = classification_report(ffnn_test_pred, y_val_processed)\n",
        "print(f'{ffnn_test_pred}\\n\\n{cr}')"
      ],
      "metadata": {
        "colab": {
          "base_uri": "https://localhost:8080/",
          "height": 0
        },
        "id": "XI0q7KaIXaBr",
        "outputId": "5f744682-c3a6-43bc-8caa-ac445703ee53"
      },
      "execution_count": 458,
      "outputs": [
        {
          "output_type": "stream",
          "name": "stdout",
          "text": [
            "907/907 [==============================] - 2s 2ms/step - loss: 0.3506 - accuracy: 0.8403\n",
            "Training accuracy: 0.8402883410453796\n",
            "907/907 [==============================] - 1s 1ms/step\n",
            "[[0.]\n",
            " [0.]\n",
            " [0.]\n",
            " ...\n",
            " [1.]\n",
            " [1.]\n",
            " [1.]]\n",
            "\n",
            "              precision    recall  f1-score   support\n",
            "\n",
            "         0.0       0.80      0.87      0.83     13239\n",
            "         1.0       0.88      0.81      0.85     15757\n",
            "\n",
            "    accuracy                           0.84     28996\n",
            "   macro avg       0.84      0.84      0.84     28996\n",
            "weighted avg       0.84      0.84      0.84     28996\n",
            "\n",
            "151/151 [==============================] - 0s 2ms/step - loss: 0.3801 - accuracy: 0.8094\n",
            "Testing accuracy: 0.8093659281730652\n",
            "151/151 [==============================] - 0s 1ms/step\n",
            "[[1.]\n",
            " [0.]\n",
            " [1.]\n",
            " ...\n",
            " [0.]\n",
            " [0.]\n",
            " [0.]]\n",
            "\n",
            "              precision    recall  f1-score   support\n",
            "\n",
            "         0.0       0.80      0.94      0.86      3073\n",
            "         1.0       0.85      0.58      0.69      1753\n",
            "\n",
            "    accuracy                           0.81      4826\n",
            "   macro avg       0.82      0.76      0.78      4826\n",
            "weighted avg       0.82      0.81      0.80      4826\n",
            "\n"
          ]
        }
      ]
    },
    {
      "cell_type": "code",
      "source": [
        "new_X_train_OS['target'] = new_y_train_OS\n",
        "new_X_val['target'] = y_val_processed\n",
        "X_final_training = pd.concat([new_X_train_OS, new_X_val])"
      ],
      "metadata": {
        "id": "XCCvKzLkZmLl"
      },
      "execution_count": 459,
      "outputs": []
    },
    {
      "cell_type": "code",
      "source": [
        "y_final_training = X_final_training['target']\n",
        "X_final_training = X_final_training.drop('target', axis=1)"
      ],
      "metadata": {
        "id": "Jrg7l-IIgt8l"
      },
      "execution_count": 460,
      "outputs": []
    },
    {
      "cell_type": "code",
      "source": [
        "X_final_training.head()"
      ],
      "metadata": {
        "colab": {
          "base_uri": "https://localhost:8080/",
          "height": 305
        },
        "id": "TIJKL03qi8uE",
        "outputId": "f69b106b-44ca-4d39-824f-33f9b9f1d651"
      },
      "execution_count": 461,
      "outputs": [
        {
          "output_type": "execute_result",
          "data": {
            "text/plain": [
              "    age  education-num  hours-per-week  education  sex  marital-status  \\\n",
              "0  21.0           10.0            45.0        1.0  0.0             0.0   \n",
              "1  44.0           10.0            40.0        1.0  0.0             0.0   \n",
              "2  31.0            5.0            40.0        1.0  0.0             0.0   \n",
              "3  59.0           10.0            40.0        1.0  0.0             0.0   \n",
              "4  63.0            6.0            50.0        0.0  0.0             0.0   \n",
              "\n",
              "   native-country  race  workclass_Private  workclass_Without-pay  \\\n",
              "0             0.0   0.0                0.0                    0.0   \n",
              "1             0.0   0.0                0.0                    0.0   \n",
              "2             0.0   0.0                0.0                    0.0   \n",
              "3             0.0   0.0                0.0                    0.0   \n",
              "4             1.0   0.0                0.0                    0.0   \n",
              "\n",
              "   workclass_gov_job  workclass_selfemp  occupation_Adm-clerical  \\\n",
              "0                0.0                0.0                      0.0   \n",
              "1                0.0                0.0                      0.0   \n",
              "2                0.0                0.0                      1.0   \n",
              "3                0.0                0.0                      0.0   \n",
              "4                1.0                0.0                      0.0   \n",
              "\n",
              "   occupation_Craft-repair  occupation_Exec-managerial  \\\n",
              "0                      0.0                         0.0   \n",
              "1                      0.0                         0.0   \n",
              "2                      0.0                         0.0   \n",
              "3                      0.0                         0.0   \n",
              "4                      0.0                         0.0   \n",
              "\n",
              "   occupation_Farming-fishing  occupation_Handlers-cleaners  \\\n",
              "0                         0.0                           0.0   \n",
              "1                         1.0                           0.0   \n",
              "2                         0.0                           0.0   \n",
              "3                         0.0                           0.0   \n",
              "4                         0.0                           0.0   \n",
              "\n",
              "   occupation_Machine-op-inspct  occupation_Other-service  \\\n",
              "0                           1.0                       0.0   \n",
              "1                           0.0                       0.0   \n",
              "2                           0.0                       0.0   \n",
              "3                           0.0                       1.0   \n",
              "4                           0.0                       0.0   \n",
              "\n",
              "   occupation_Priv-house-serv  occupation_Prof-specialty  \\\n",
              "0                         0.0                        0.0   \n",
              "1                         0.0                        0.0   \n",
              "2                         0.0                        0.0   \n",
              "3                         0.0                        0.0   \n",
              "4                         0.0                        0.0   \n",
              "\n",
              "   occupation_Protective-serv  occupation_Sales  occupation_Tech-support  \\\n",
              "0                         0.0               0.0                      0.0   \n",
              "1                         0.0               0.0                      0.0   \n",
              "2                         0.0               1.0                      0.0   \n",
              "3                         1.0               0.0                      0.0   \n",
              "4                         1.0               0.0                      0.0   \n",
              "\n",
              "   occupation_Transport-moving  occupation_blue-collar  relationship_Husband  \\\n",
              "0                          1.0                     0.0                   0.0   \n",
              "1                          0.0                     1.0                   0.0   \n",
              "2                          0.0                     0.0                   0.0   \n",
              "3                          0.0                     0.0                   0.0   \n",
              "4                          0.0                     0.0                   0.0   \n",
              "\n",
              "   relationship_Not-in-family  relationship_Other-relative  \\\n",
              "0                         5.0                          1.0   \n",
              "1                         5.0                          0.0   \n",
              "2                         1.0                          1.0   \n",
              "3                         5.0                          1.0   \n",
              "4                         3.0                          1.0   \n",
              "\n",
              "   relationship_Own-child  relationship_Unmarried  relationship_Wife  \\\n",
              "0                     2.0                     1.0                2.0   \n",
              "1                     2.0                     1.0                0.0   \n",
              "2                     2.0                     1.0                2.0   \n",
              "3                     1.0                     1.0                2.0   \n",
              "4                     1.0                     1.0                2.0   \n",
              "\n",
              "   capital-gain  capital-loss  \n",
              "0           0.0           0.0  \n",
              "1           0.0           0.0  \n",
              "2           0.0           0.0  \n",
              "3           0.0           0.0  \n",
              "4           0.0           0.0  "
            ],
            "text/html": [
              "\n",
              "  <div id=\"df-03a38f7b-57fd-4676-8118-b5df2504c07a\">\n",
              "    <div class=\"colab-df-container\">\n",
              "      <div>\n",
              "<style scoped>\n",
              "    .dataframe tbody tr th:only-of-type {\n",
              "        vertical-align: middle;\n",
              "    }\n",
              "\n",
              "    .dataframe tbody tr th {\n",
              "        vertical-align: top;\n",
              "    }\n",
              "\n",
              "    .dataframe thead th {\n",
              "        text-align: right;\n",
              "    }\n",
              "</style>\n",
              "<table border=\"1\" class=\"dataframe\">\n",
              "  <thead>\n",
              "    <tr style=\"text-align: right;\">\n",
              "      <th></th>\n",
              "      <th>age</th>\n",
              "      <th>education-num</th>\n",
              "      <th>hours-per-week</th>\n",
              "      <th>education</th>\n",
              "      <th>sex</th>\n",
              "      <th>marital-status</th>\n",
              "      <th>native-country</th>\n",
              "      <th>race</th>\n",
              "      <th>workclass_Private</th>\n",
              "      <th>workclass_Without-pay</th>\n",
              "      <th>workclass_gov_job</th>\n",
              "      <th>workclass_selfemp</th>\n",
              "      <th>occupation_Adm-clerical</th>\n",
              "      <th>occupation_Craft-repair</th>\n",
              "      <th>occupation_Exec-managerial</th>\n",
              "      <th>occupation_Farming-fishing</th>\n",
              "      <th>occupation_Handlers-cleaners</th>\n",
              "      <th>occupation_Machine-op-inspct</th>\n",
              "      <th>occupation_Other-service</th>\n",
              "      <th>occupation_Priv-house-serv</th>\n",
              "      <th>occupation_Prof-specialty</th>\n",
              "      <th>occupation_Protective-serv</th>\n",
              "      <th>occupation_Sales</th>\n",
              "      <th>occupation_Tech-support</th>\n",
              "      <th>occupation_Transport-moving</th>\n",
              "      <th>occupation_blue-collar</th>\n",
              "      <th>relationship_Husband</th>\n",
              "      <th>relationship_Not-in-family</th>\n",
              "      <th>relationship_Other-relative</th>\n",
              "      <th>relationship_Own-child</th>\n",
              "      <th>relationship_Unmarried</th>\n",
              "      <th>relationship_Wife</th>\n",
              "      <th>capital-gain</th>\n",
              "      <th>capital-loss</th>\n",
              "    </tr>\n",
              "  </thead>\n",
              "  <tbody>\n",
              "    <tr>\n",
              "      <th>0</th>\n",
              "      <td>21.0</td>\n",
              "      <td>10.0</td>\n",
              "      <td>45.0</td>\n",
              "      <td>1.0</td>\n",
              "      <td>0.0</td>\n",
              "      <td>0.0</td>\n",
              "      <td>0.0</td>\n",
              "      <td>0.0</td>\n",
              "      <td>0.0</td>\n",
              "      <td>0.0</td>\n",
              "      <td>0.0</td>\n",
              "      <td>0.0</td>\n",
              "      <td>0.0</td>\n",
              "      <td>0.0</td>\n",
              "      <td>0.0</td>\n",
              "      <td>0.0</td>\n",
              "      <td>0.0</td>\n",
              "      <td>1.0</td>\n",
              "      <td>0.0</td>\n",
              "      <td>0.0</td>\n",
              "      <td>0.0</td>\n",
              "      <td>0.0</td>\n",
              "      <td>0.0</td>\n",
              "      <td>0.0</td>\n",
              "      <td>1.0</td>\n",
              "      <td>0.0</td>\n",
              "      <td>0.0</td>\n",
              "      <td>5.0</td>\n",
              "      <td>1.0</td>\n",
              "      <td>2.0</td>\n",
              "      <td>1.0</td>\n",
              "      <td>2.0</td>\n",
              "      <td>0.0</td>\n",
              "      <td>0.0</td>\n",
              "    </tr>\n",
              "    <tr>\n",
              "      <th>1</th>\n",
              "      <td>44.0</td>\n",
              "      <td>10.0</td>\n",
              "      <td>40.0</td>\n",
              "      <td>1.0</td>\n",
              "      <td>0.0</td>\n",
              "      <td>0.0</td>\n",
              "      <td>0.0</td>\n",
              "      <td>0.0</td>\n",
              "      <td>0.0</td>\n",
              "      <td>0.0</td>\n",
              "      <td>0.0</td>\n",
              "      <td>0.0</td>\n",
              "      <td>0.0</td>\n",
              "      <td>0.0</td>\n",
              "      <td>0.0</td>\n",
              "      <td>1.0</td>\n",
              "      <td>0.0</td>\n",
              "      <td>0.0</td>\n",
              "      <td>0.0</td>\n",
              "      <td>0.0</td>\n",
              "      <td>0.0</td>\n",
              "      <td>0.0</td>\n",
              "      <td>0.0</td>\n",
              "      <td>0.0</td>\n",
              "      <td>0.0</td>\n",
              "      <td>1.0</td>\n",
              "      <td>0.0</td>\n",
              "      <td>5.0</td>\n",
              "      <td>0.0</td>\n",
              "      <td>2.0</td>\n",
              "      <td>1.0</td>\n",
              "      <td>0.0</td>\n",
              "      <td>0.0</td>\n",
              "      <td>0.0</td>\n",
              "    </tr>\n",
              "    <tr>\n",
              "      <th>2</th>\n",
              "      <td>31.0</td>\n",
              "      <td>5.0</td>\n",
              "      <td>40.0</td>\n",
              "      <td>1.0</td>\n",
              "      <td>0.0</td>\n",
              "      <td>0.0</td>\n",
              "      <td>0.0</td>\n",
              "      <td>0.0</td>\n",
              "      <td>0.0</td>\n",
              "      <td>0.0</td>\n",
              "      <td>0.0</td>\n",
              "      <td>0.0</td>\n",
              "      <td>1.0</td>\n",
              "      <td>0.0</td>\n",
              "      <td>0.0</td>\n",
              "      <td>0.0</td>\n",
              "      <td>0.0</td>\n",
              "      <td>0.0</td>\n",
              "      <td>0.0</td>\n",
              "      <td>0.0</td>\n",
              "      <td>0.0</td>\n",
              "      <td>0.0</td>\n",
              "      <td>1.0</td>\n",
              "      <td>0.0</td>\n",
              "      <td>0.0</td>\n",
              "      <td>0.0</td>\n",
              "      <td>0.0</td>\n",
              "      <td>1.0</td>\n",
              "      <td>1.0</td>\n",
              "      <td>2.0</td>\n",
              "      <td>1.0</td>\n",
              "      <td>2.0</td>\n",
              "      <td>0.0</td>\n",
              "      <td>0.0</td>\n",
              "    </tr>\n",
              "    <tr>\n",
              "      <th>3</th>\n",
              "      <td>59.0</td>\n",
              "      <td>10.0</td>\n",
              "      <td>40.0</td>\n",
              "      <td>1.0</td>\n",
              "      <td>0.0</td>\n",
              "      <td>0.0</td>\n",
              "      <td>0.0</td>\n",
              "      <td>0.0</td>\n",
              "      <td>0.0</td>\n",
              "      <td>0.0</td>\n",
              "      <td>0.0</td>\n",
              "      <td>0.0</td>\n",
              "      <td>0.0</td>\n",
              "      <td>0.0</td>\n",
              "      <td>0.0</td>\n",
              "      <td>0.0</td>\n",
              "      <td>0.0</td>\n",
              "      <td>0.0</td>\n",
              "      <td>1.0</td>\n",
              "      <td>0.0</td>\n",
              "      <td>0.0</td>\n",
              "      <td>1.0</td>\n",
              "      <td>0.0</td>\n",
              "      <td>0.0</td>\n",
              "      <td>0.0</td>\n",
              "      <td>0.0</td>\n",
              "      <td>0.0</td>\n",
              "      <td>5.0</td>\n",
              "      <td>1.0</td>\n",
              "      <td>1.0</td>\n",
              "      <td>1.0</td>\n",
              "      <td>2.0</td>\n",
              "      <td>0.0</td>\n",
              "      <td>0.0</td>\n",
              "    </tr>\n",
              "    <tr>\n",
              "      <th>4</th>\n",
              "      <td>63.0</td>\n",
              "      <td>6.0</td>\n",
              "      <td>50.0</td>\n",
              "      <td>0.0</td>\n",
              "      <td>0.0</td>\n",
              "      <td>0.0</td>\n",
              "      <td>1.0</td>\n",
              "      <td>0.0</td>\n",
              "      <td>0.0</td>\n",
              "      <td>0.0</td>\n",
              "      <td>1.0</td>\n",
              "      <td>0.0</td>\n",
              "      <td>0.0</td>\n",
              "      <td>0.0</td>\n",
              "      <td>0.0</td>\n",
              "      <td>0.0</td>\n",
              "      <td>0.0</td>\n",
              "      <td>0.0</td>\n",
              "      <td>0.0</td>\n",
              "      <td>0.0</td>\n",
              "      <td>0.0</td>\n",
              "      <td>1.0</td>\n",
              "      <td>0.0</td>\n",
              "      <td>0.0</td>\n",
              "      <td>0.0</td>\n",
              "      <td>0.0</td>\n",
              "      <td>0.0</td>\n",
              "      <td>3.0</td>\n",
              "      <td>1.0</td>\n",
              "      <td>1.0</td>\n",
              "      <td>1.0</td>\n",
              "      <td>2.0</td>\n",
              "      <td>0.0</td>\n",
              "      <td>0.0</td>\n",
              "    </tr>\n",
              "  </tbody>\n",
              "</table>\n",
              "</div>\n",
              "      <button class=\"colab-df-convert\" onclick=\"convertToInteractive('df-03a38f7b-57fd-4676-8118-b5df2504c07a')\"\n",
              "              title=\"Convert this dataframe to an interactive table.\"\n",
              "              style=\"display:none;\">\n",
              "        \n",
              "  <svg xmlns=\"http://www.w3.org/2000/svg\" height=\"24px\"viewBox=\"0 0 24 24\"\n",
              "       width=\"24px\">\n",
              "    <path d=\"M0 0h24v24H0V0z\" fill=\"none\"/>\n",
              "    <path d=\"M18.56 5.44l.94 2.06.94-2.06 2.06-.94-2.06-.94-.94-2.06-.94 2.06-2.06.94zm-11 1L8.5 8.5l.94-2.06 2.06-.94-2.06-.94L8.5 2.5l-.94 2.06-2.06.94zm10 10l.94 2.06.94-2.06 2.06-.94-2.06-.94-.94-2.06-.94 2.06-2.06.94z\"/><path d=\"M17.41 7.96l-1.37-1.37c-.4-.4-.92-.59-1.43-.59-.52 0-1.04.2-1.43.59L10.3 9.45l-7.72 7.72c-.78.78-.78 2.05 0 2.83L4 21.41c.39.39.9.59 1.41.59.51 0 1.02-.2 1.41-.59l7.78-7.78 2.81-2.81c.8-.78.8-2.07 0-2.86zM5.41 20L4 18.59l7.72-7.72 1.47 1.35L5.41 20z\"/>\n",
              "  </svg>\n",
              "      </button>\n",
              "      \n",
              "  <style>\n",
              "    .colab-df-container {\n",
              "      display:flex;\n",
              "      flex-wrap:wrap;\n",
              "      gap: 12px;\n",
              "    }\n",
              "\n",
              "    .colab-df-convert {\n",
              "      background-color: #E8F0FE;\n",
              "      border: none;\n",
              "      border-radius: 50%;\n",
              "      cursor: pointer;\n",
              "      display: none;\n",
              "      fill: #1967D2;\n",
              "      height: 32px;\n",
              "      padding: 0 0 0 0;\n",
              "      width: 32px;\n",
              "    }\n",
              "\n",
              "    .colab-df-convert:hover {\n",
              "      background-color: #E2EBFA;\n",
              "      box-shadow: 0px 1px 2px rgba(60, 64, 67, 0.3), 0px 1px 3px 1px rgba(60, 64, 67, 0.15);\n",
              "      fill: #174EA6;\n",
              "    }\n",
              "\n",
              "    [theme=dark] .colab-df-convert {\n",
              "      background-color: #3B4455;\n",
              "      fill: #D2E3FC;\n",
              "    }\n",
              "\n",
              "    [theme=dark] .colab-df-convert:hover {\n",
              "      background-color: #434B5C;\n",
              "      box-shadow: 0px 1px 3px 1px rgba(0, 0, 0, 0.15);\n",
              "      filter: drop-shadow(0px 1px 2px rgba(0, 0, 0, 0.3));\n",
              "      fill: #FFFFFF;\n",
              "    }\n",
              "  </style>\n",
              "\n",
              "      <script>\n",
              "        const buttonEl =\n",
              "          document.querySelector('#df-03a38f7b-57fd-4676-8118-b5df2504c07a button.colab-df-convert');\n",
              "        buttonEl.style.display =\n",
              "          google.colab.kernel.accessAllowed ? 'block' : 'none';\n",
              "\n",
              "        async function convertToInteractive(key) {\n",
              "          const element = document.querySelector('#df-03a38f7b-57fd-4676-8118-b5df2504c07a');\n",
              "          const dataTable =\n",
              "            await google.colab.kernel.invokeFunction('convertToInteractive',\n",
              "                                                     [key], {});\n",
              "          if (!dataTable) return;\n",
              "\n",
              "          const docLinkHtml = 'Like what you see? Visit the ' +\n",
              "            '<a target=\"_blank\" href=https://colab.research.google.com/notebooks/data_table.ipynb>data table notebook</a>'\n",
              "            + ' to learn more about interactive tables.';\n",
              "          element.innerHTML = '';\n",
              "          dataTable['output_type'] = 'display_data';\n",
              "          await google.colab.output.renderOutput(dataTable, element);\n",
              "          const docLink = document.createElement('div');\n",
              "          docLink.innerHTML = docLinkHtml;\n",
              "          element.appendChild(docLink);\n",
              "        }\n",
              "      </script>\n",
              "    </div>\n",
              "  </div>\n",
              "  "
            ]
          },
          "metadata": {},
          "execution_count": 461
        }
      ]
    },
    {
      "cell_type": "code",
      "source": [
        "gs_lg.fit(X_final_training, y_final_training)\n",
        "gs_clf.fit(X_final_training, y_final_training)\n",
        "model[1].fit(X_final_training, y_final_training)"
      ],
      "metadata": {
        "colab": {
          "base_uri": "https://localhost:8080/",
          "height": 0
        },
        "id": "KR61jJU9hBJu",
        "outputId": "8dcf7993-e51b-45ae-8a31-9d88a3c5aa30"
      },
      "execution_count": 462,
      "outputs": [
        {
          "output_type": "stream",
          "name": "stderr",
          "text": [
            "/usr/local/lib/python3.10/dist-packages/sklearn/linear_model/_logistic.py:458: ConvergenceWarning: lbfgs failed to converge (status=1):\n",
            "STOP: TOTAL NO. of ITERATIONS REACHED LIMIT.\n",
            "\n",
            "Increase the number of iterations (max_iter) or scale the data as shown in:\n",
            "    https://scikit-learn.org/stable/modules/preprocessing.html\n",
            "Please also refer to the documentation for alternative solver options:\n",
            "    https://scikit-learn.org/stable/modules/linear_model.html#logistic-regression\n",
            "  n_iter_i = _check_optimize_result(\n",
            "/usr/local/lib/python3.10/dist-packages/sklearn/linear_model/_logistic.py:458: ConvergenceWarning: lbfgs failed to converge (status=1):\n",
            "STOP: TOTAL NO. of ITERATIONS REACHED LIMIT.\n",
            "\n",
            "Increase the number of iterations (max_iter) or scale the data as shown in:\n",
            "    https://scikit-learn.org/stable/modules/preprocessing.html\n",
            "Please also refer to the documentation for alternative solver options:\n",
            "    https://scikit-learn.org/stable/modules/linear_model.html#logistic-regression\n",
            "  n_iter_i = _check_optimize_result(\n",
            "/usr/local/lib/python3.10/dist-packages/sklearn/linear_model/_logistic.py:458: ConvergenceWarning: lbfgs failed to converge (status=1):\n",
            "STOP: TOTAL NO. of ITERATIONS REACHED LIMIT.\n",
            "\n",
            "Increase the number of iterations (max_iter) or scale the data as shown in:\n",
            "    https://scikit-learn.org/stable/modules/preprocessing.html\n",
            "Please also refer to the documentation for alternative solver options:\n",
            "    https://scikit-learn.org/stable/modules/linear_model.html#logistic-regression\n",
            "  n_iter_i = _check_optimize_result(\n",
            "/usr/local/lib/python3.10/dist-packages/sklearn/linear_model/_logistic.py:458: ConvergenceWarning: lbfgs failed to converge (status=1):\n",
            "STOP: TOTAL NO. of ITERATIONS REACHED LIMIT.\n",
            "\n",
            "Increase the number of iterations (max_iter) or scale the data as shown in:\n",
            "    https://scikit-learn.org/stable/modules/preprocessing.html\n",
            "Please also refer to the documentation for alternative solver options:\n",
            "    https://scikit-learn.org/stable/modules/linear_model.html#logistic-regression\n",
            "  n_iter_i = _check_optimize_result(\n",
            "/usr/local/lib/python3.10/dist-packages/sklearn/linear_model/_logistic.py:458: ConvergenceWarning: lbfgs failed to converge (status=1):\n",
            "STOP: TOTAL NO. of ITERATIONS REACHED LIMIT.\n",
            "\n",
            "Increase the number of iterations (max_iter) or scale the data as shown in:\n",
            "    https://scikit-learn.org/stable/modules/preprocessing.html\n",
            "Please also refer to the documentation for alternative solver options:\n",
            "    https://scikit-learn.org/stable/modules/linear_model.html#logistic-regression\n",
            "  n_iter_i = _check_optimize_result(\n",
            "/usr/local/lib/python3.10/dist-packages/sklearn/linear_model/_logistic.py:458: ConvergenceWarning: lbfgs failed to converge (status=1):\n",
            "STOP: TOTAL NO. of ITERATIONS REACHED LIMIT.\n",
            "\n",
            "Increase the number of iterations (max_iter) or scale the data as shown in:\n",
            "    https://scikit-learn.org/stable/modules/preprocessing.html\n",
            "Please also refer to the documentation for alternative solver options:\n",
            "    https://scikit-learn.org/stable/modules/linear_model.html#logistic-regression\n",
            "  n_iter_i = _check_optimize_result(\n",
            "/usr/local/lib/python3.10/dist-packages/sklearn/linear_model/_logistic.py:458: ConvergenceWarning: lbfgs failed to converge (status=1):\n",
            "STOP: TOTAL NO. of ITERATIONS REACHED LIMIT.\n",
            "\n",
            "Increase the number of iterations (max_iter) or scale the data as shown in:\n",
            "    https://scikit-learn.org/stable/modules/preprocessing.html\n",
            "Please also refer to the documentation for alternative solver options:\n",
            "    https://scikit-learn.org/stable/modules/linear_model.html#logistic-regression\n",
            "  n_iter_i = _check_optimize_result(\n",
            "/usr/local/lib/python3.10/dist-packages/sklearn/linear_model/_logistic.py:458: ConvergenceWarning: lbfgs failed to converge (status=1):\n",
            "STOP: TOTAL NO. of ITERATIONS REACHED LIMIT.\n",
            "\n",
            "Increase the number of iterations (max_iter) or scale the data as shown in:\n",
            "    https://scikit-learn.org/stable/modules/preprocessing.html\n",
            "Please also refer to the documentation for alternative solver options:\n",
            "    https://scikit-learn.org/stable/modules/linear_model.html#logistic-regression\n",
            "  n_iter_i = _check_optimize_result(\n",
            "/usr/local/lib/python3.10/dist-packages/sklearn/linear_model/_logistic.py:458: ConvergenceWarning: lbfgs failed to converge (status=1):\n",
            "STOP: TOTAL NO. of ITERATIONS REACHED LIMIT.\n",
            "\n",
            "Increase the number of iterations (max_iter) or scale the data as shown in:\n",
            "    https://scikit-learn.org/stable/modules/preprocessing.html\n",
            "Please also refer to the documentation for alternative solver options:\n",
            "    https://scikit-learn.org/stable/modules/linear_model.html#logistic-regression\n",
            "  n_iter_i = _check_optimize_result(\n",
            "/usr/local/lib/python3.10/dist-packages/sklearn/linear_model/_logistic.py:458: ConvergenceWarning: lbfgs failed to converge (status=1):\n",
            "STOP: TOTAL NO. of ITERATIONS REACHED LIMIT.\n",
            "\n",
            "Increase the number of iterations (max_iter) or scale the data as shown in:\n",
            "    https://scikit-learn.org/stable/modules/preprocessing.html\n",
            "Please also refer to the documentation for alternative solver options:\n",
            "    https://scikit-learn.org/stable/modules/linear_model.html#logistic-regression\n",
            "  n_iter_i = _check_optimize_result(\n",
            "/usr/local/lib/python3.10/dist-packages/sklearn/linear_model/_logistic.py:458: ConvergenceWarning: lbfgs failed to converge (status=1):\n",
            "STOP: TOTAL NO. of ITERATIONS REACHED LIMIT.\n",
            "\n",
            "Increase the number of iterations (max_iter) or scale the data as shown in:\n",
            "    https://scikit-learn.org/stable/modules/preprocessing.html\n",
            "Please also refer to the documentation for alternative solver options:\n",
            "    https://scikit-learn.org/stable/modules/linear_model.html#logistic-regression\n",
            "  n_iter_i = _check_optimize_result(\n",
            "/usr/local/lib/python3.10/dist-packages/sklearn/linear_model/_logistic.py:458: ConvergenceWarning: lbfgs failed to converge (status=1):\n",
            "STOP: TOTAL NO. of ITERATIONS REACHED LIMIT.\n",
            "\n",
            "Increase the number of iterations (max_iter) or scale the data as shown in:\n",
            "    https://scikit-learn.org/stable/modules/preprocessing.html\n",
            "Please also refer to the documentation for alternative solver options:\n",
            "    https://scikit-learn.org/stable/modules/linear_model.html#logistic-regression\n",
            "  n_iter_i = _check_optimize_result(\n",
            "/usr/local/lib/python3.10/dist-packages/sklearn/linear_model/_logistic.py:458: ConvergenceWarning: lbfgs failed to converge (status=1):\n",
            "STOP: TOTAL NO. of ITERATIONS REACHED LIMIT.\n",
            "\n",
            "Increase the number of iterations (max_iter) or scale the data as shown in:\n",
            "    https://scikit-learn.org/stable/modules/preprocessing.html\n",
            "Please also refer to the documentation for alternative solver options:\n",
            "    https://scikit-learn.org/stable/modules/linear_model.html#logistic-regression\n",
            "  n_iter_i = _check_optimize_result(\n",
            "/usr/local/lib/python3.10/dist-packages/sklearn/linear_model/_logistic.py:458: ConvergenceWarning: lbfgs failed to converge (status=1):\n",
            "STOP: TOTAL NO. of ITERATIONS REACHED LIMIT.\n",
            "\n",
            "Increase the number of iterations (max_iter) or scale the data as shown in:\n",
            "    https://scikit-learn.org/stable/modules/preprocessing.html\n",
            "Please also refer to the documentation for alternative solver options:\n",
            "    https://scikit-learn.org/stable/modules/linear_model.html#logistic-regression\n",
            "  n_iter_i = _check_optimize_result(\n",
            "/usr/local/lib/python3.10/dist-packages/sklearn/linear_model/_logistic.py:458: ConvergenceWarning: lbfgs failed to converge (status=1):\n",
            "STOP: TOTAL NO. of ITERATIONS REACHED LIMIT.\n",
            "\n",
            "Increase the number of iterations (max_iter) or scale the data as shown in:\n",
            "    https://scikit-learn.org/stable/modules/preprocessing.html\n",
            "Please also refer to the documentation for alternative solver options:\n",
            "    https://scikit-learn.org/stable/modules/linear_model.html#logistic-regression\n",
            "  n_iter_i = _check_optimize_result(\n",
            "/usr/local/lib/python3.10/dist-packages/sklearn/linear_model/_logistic.py:458: ConvergenceWarning: lbfgs failed to converge (status=1):\n",
            "STOP: TOTAL NO. of ITERATIONS REACHED LIMIT.\n",
            "\n",
            "Increase the number of iterations (max_iter) or scale the data as shown in:\n",
            "    https://scikit-learn.org/stable/modules/preprocessing.html\n",
            "Please also refer to the documentation for alternative solver options:\n",
            "    https://scikit-learn.org/stable/modules/linear_model.html#logistic-regression\n",
            "  n_iter_i = _check_optimize_result(\n",
            "/usr/local/lib/python3.10/dist-packages/sklearn/linear_model/_logistic.py:458: ConvergenceWarning: lbfgs failed to converge (status=1):\n",
            "STOP: TOTAL NO. of ITERATIONS REACHED LIMIT.\n",
            "\n",
            "Increase the number of iterations (max_iter) or scale the data as shown in:\n",
            "    https://scikit-learn.org/stable/modules/preprocessing.html\n",
            "Please also refer to the documentation for alternative solver options:\n",
            "    https://scikit-learn.org/stable/modules/linear_model.html#logistic-regression\n",
            "  n_iter_i = _check_optimize_result(\n",
            "/usr/local/lib/python3.10/dist-packages/sklearn/linear_model/_logistic.py:458: ConvergenceWarning: lbfgs failed to converge (status=1):\n",
            "STOP: TOTAL NO. of ITERATIONS REACHED LIMIT.\n",
            "\n",
            "Increase the number of iterations (max_iter) or scale the data as shown in:\n",
            "    https://scikit-learn.org/stable/modules/preprocessing.html\n",
            "Please also refer to the documentation for alternative solver options:\n",
            "    https://scikit-learn.org/stable/modules/linear_model.html#logistic-regression\n",
            "  n_iter_i = _check_optimize_result(\n",
            "/usr/local/lib/python3.10/dist-packages/sklearn/linear_model/_logistic.py:458: ConvergenceWarning: lbfgs failed to converge (status=1):\n",
            "STOP: TOTAL NO. of ITERATIONS REACHED LIMIT.\n",
            "\n",
            "Increase the number of iterations (max_iter) or scale the data as shown in:\n",
            "    https://scikit-learn.org/stable/modules/preprocessing.html\n",
            "Please also refer to the documentation for alternative solver options:\n",
            "    https://scikit-learn.org/stable/modules/linear_model.html#logistic-regression\n",
            "  n_iter_i = _check_optimize_result(\n",
            "/usr/local/lib/python3.10/dist-packages/sklearn/linear_model/_logistic.py:458: ConvergenceWarning: lbfgs failed to converge (status=1):\n",
            "STOP: TOTAL NO. of ITERATIONS REACHED LIMIT.\n",
            "\n",
            "Increase the number of iterations (max_iter) or scale the data as shown in:\n",
            "    https://scikit-learn.org/stable/modules/preprocessing.html\n",
            "Please also refer to the documentation for alternative solver options:\n",
            "    https://scikit-learn.org/stable/modules/linear_model.html#logistic-regression\n",
            "  n_iter_i = _check_optimize_result(\n",
            "/usr/local/lib/python3.10/dist-packages/sklearn/linear_model/_logistic.py:458: ConvergenceWarning: lbfgs failed to converge (status=1):\n",
            "STOP: TOTAL NO. of ITERATIONS REACHED LIMIT.\n",
            "\n",
            "Increase the number of iterations (max_iter) or scale the data as shown in:\n",
            "    https://scikit-learn.org/stable/modules/preprocessing.html\n",
            "Please also refer to the documentation for alternative solver options:\n",
            "    https://scikit-learn.org/stable/modules/linear_model.html#logistic-regression\n",
            "  n_iter_i = _check_optimize_result(\n",
            "/usr/local/lib/python3.10/dist-packages/sklearn/linear_model/_logistic.py:458: ConvergenceWarning: lbfgs failed to converge (status=1):\n",
            "STOP: TOTAL NO. of ITERATIONS REACHED LIMIT.\n",
            "\n",
            "Increase the number of iterations (max_iter) or scale the data as shown in:\n",
            "    https://scikit-learn.org/stable/modules/preprocessing.html\n",
            "Please also refer to the documentation for alternative solver options:\n",
            "    https://scikit-learn.org/stable/modules/linear_model.html#logistic-regression\n",
            "  n_iter_i = _check_optimize_result(\n",
            "/usr/local/lib/python3.10/dist-packages/sklearn/linear_model/_logistic.py:458: ConvergenceWarning: lbfgs failed to converge (status=1):\n",
            "STOP: TOTAL NO. of ITERATIONS REACHED LIMIT.\n",
            "\n",
            "Increase the number of iterations (max_iter) or scale the data as shown in:\n",
            "    https://scikit-learn.org/stable/modules/preprocessing.html\n",
            "Please also refer to the documentation for alternative solver options:\n",
            "    https://scikit-learn.org/stable/modules/linear_model.html#logistic-regression\n",
            "  n_iter_i = _check_optimize_result(\n",
            "/usr/local/lib/python3.10/dist-packages/sklearn/linear_model/_logistic.py:458: ConvergenceWarning: lbfgs failed to converge (status=1):\n",
            "STOP: TOTAL NO. of ITERATIONS REACHED LIMIT.\n",
            "\n",
            "Increase the number of iterations (max_iter) or scale the data as shown in:\n",
            "    https://scikit-learn.org/stable/modules/preprocessing.html\n",
            "Please also refer to the documentation for alternative solver options:\n",
            "    https://scikit-learn.org/stable/modules/linear_model.html#logistic-regression\n",
            "  n_iter_i = _check_optimize_result(\n",
            "/usr/local/lib/python3.10/dist-packages/sklearn/linear_model/_logistic.py:458: ConvergenceWarning: lbfgs failed to converge (status=1):\n",
            "STOP: TOTAL NO. of ITERATIONS REACHED LIMIT.\n",
            "\n",
            "Increase the number of iterations (max_iter) or scale the data as shown in:\n",
            "    https://scikit-learn.org/stable/modules/preprocessing.html\n",
            "Please also refer to the documentation for alternative solver options:\n",
            "    https://scikit-learn.org/stable/modules/linear_model.html#logistic-regression\n",
            "  n_iter_i = _check_optimize_result(\n",
            "/usr/local/lib/python3.10/dist-packages/sklearn/linear_model/_logistic.py:458: ConvergenceWarning: lbfgs failed to converge (status=1):\n",
            "STOP: TOTAL NO. of ITERATIONS REACHED LIMIT.\n",
            "\n",
            "Increase the number of iterations (max_iter) or scale the data as shown in:\n",
            "    https://scikit-learn.org/stable/modules/preprocessing.html\n",
            "Please also refer to the documentation for alternative solver options:\n",
            "    https://scikit-learn.org/stable/modules/linear_model.html#logistic-regression\n",
            "  n_iter_i = _check_optimize_result(\n",
            "/usr/local/lib/python3.10/dist-packages/sklearn/linear_model/_logistic.py:458: ConvergenceWarning: lbfgs failed to converge (status=1):\n",
            "STOP: TOTAL NO. of ITERATIONS REACHED LIMIT.\n",
            "\n",
            "Increase the number of iterations (max_iter) or scale the data as shown in:\n",
            "    https://scikit-learn.org/stable/modules/preprocessing.html\n",
            "Please also refer to the documentation for alternative solver options:\n",
            "    https://scikit-learn.org/stable/modules/linear_model.html#logistic-regression\n",
            "  n_iter_i = _check_optimize_result(\n",
            "/usr/local/lib/python3.10/dist-packages/sklearn/linear_model/_logistic.py:458: ConvergenceWarning: lbfgs failed to converge (status=1):\n",
            "STOP: TOTAL NO. of ITERATIONS REACHED LIMIT.\n",
            "\n",
            "Increase the number of iterations (max_iter) or scale the data as shown in:\n",
            "    https://scikit-learn.org/stable/modules/preprocessing.html\n",
            "Please also refer to the documentation for alternative solver options:\n",
            "    https://scikit-learn.org/stable/modules/linear_model.html#logistic-regression\n",
            "  n_iter_i = _check_optimize_result(\n",
            "/usr/local/lib/python3.10/dist-packages/sklearn/linear_model/_logistic.py:458: ConvergenceWarning: lbfgs failed to converge (status=1):\n",
            "STOP: TOTAL NO. of ITERATIONS REACHED LIMIT.\n",
            "\n",
            "Increase the number of iterations (max_iter) or scale the data as shown in:\n",
            "    https://scikit-learn.org/stable/modules/preprocessing.html\n",
            "Please also refer to the documentation for alternative solver options:\n",
            "    https://scikit-learn.org/stable/modules/linear_model.html#logistic-regression\n",
            "  n_iter_i = _check_optimize_result(\n",
            "/usr/local/lib/python3.10/dist-packages/sklearn/linear_model/_logistic.py:458: ConvergenceWarning: lbfgs failed to converge (status=1):\n",
            "STOP: TOTAL NO. of ITERATIONS REACHED LIMIT.\n",
            "\n",
            "Increase the number of iterations (max_iter) or scale the data as shown in:\n",
            "    https://scikit-learn.org/stable/modules/preprocessing.html\n",
            "Please also refer to the documentation for alternative solver options:\n",
            "    https://scikit-learn.org/stable/modules/linear_model.html#logistic-regression\n",
            "  n_iter_i = _check_optimize_result(\n",
            "/usr/local/lib/python3.10/dist-packages/sklearn/model_selection/_validation.py:378: FitFailedWarning: \n",
            "60 fits failed out of a total of 90.\n",
            "The score on these train-test partitions for these parameters will be set to nan.\n",
            "If these failures are not expected, you can try to debug them by setting error_score='raise'.\n",
            "\n",
            "Below are more details about the failures:\n",
            "--------------------------------------------------------------------------------\n",
            "30 fits failed with the following error:\n",
            "Traceback (most recent call last):\n",
            "  File \"/usr/local/lib/python3.10/dist-packages/sklearn/model_selection/_validation.py\", line 686, in _fit_and_score\n",
            "    estimator.fit(X_train, y_train, **fit_params)\n",
            "  File \"/usr/local/lib/python3.10/dist-packages/sklearn/linear_model/_logistic.py\", line 1160, in fit\n",
            "    self._validate_params()\n",
            "  File \"/usr/local/lib/python3.10/dist-packages/sklearn/base.py\", line 600, in _validate_params\n",
            "    validate_parameter_constraints(\n",
            "  File \"/usr/local/lib/python3.10/dist-packages/sklearn/utils/_param_validation.py\", line 97, in validate_parameter_constraints\n",
            "    raise InvalidParameterError(\n",
            "sklearn.utils._param_validation.InvalidParameterError: The 'penalty' parameter of LogisticRegression must be a str among {'l2', 'l1', 'elasticnet', 'none' (deprecated)} or None. Got 'None' instead.\n",
            "\n",
            "--------------------------------------------------------------------------------\n",
            "30 fits failed with the following error:\n",
            "Traceback (most recent call last):\n",
            "  File \"/usr/local/lib/python3.10/dist-packages/sklearn/model_selection/_validation.py\", line 686, in _fit_and_score\n",
            "    estimator.fit(X_train, y_train, **fit_params)\n",
            "  File \"/usr/local/lib/python3.10/dist-packages/sklearn/linear_model/_logistic.py\", line 1162, in fit\n",
            "    solver = _check_solver(self.solver, self.penalty, self.dual)\n",
            "  File \"/usr/local/lib/python3.10/dist-packages/sklearn/linear_model/_logistic.py\", line 54, in _check_solver\n",
            "    raise ValueError(\n",
            "ValueError: Solver lbfgs supports only 'l2' or 'none' penalties, got l1 penalty.\n",
            "\n",
            "  warnings.warn(some_fits_failed_message, FitFailedWarning)\n",
            "/usr/local/lib/python3.10/dist-packages/sklearn/model_selection/_search.py:952: UserWarning: One or more of the test scores are non-finite: [       nan        nan 0.81201624        nan        nan 0.81228249\n",
            "        nan        nan 0.81290334        nan        nan 0.81435196\n",
            "        nan        nan 0.81322843        nan        nan 0.81210504]\n",
            "  warnings.warn(\n",
            "/usr/local/lib/python3.10/dist-packages/sklearn/linear_model/_logistic.py:458: ConvergenceWarning: lbfgs failed to converge (status=1):\n",
            "STOP: TOTAL NO. of ITERATIONS REACHED LIMIT.\n",
            "\n",
            "Increase the number of iterations (max_iter) or scale the data as shown in:\n",
            "    https://scikit-learn.org/stable/modules/preprocessing.html\n",
            "Please also refer to the documentation for alternative solver options:\n",
            "    https://scikit-learn.org/stable/modules/linear_model.html#logistic-regression\n",
            "  n_iter_i = _check_optimize_result(\n"
          ]
        },
        {
          "output_type": "stream",
          "name": "stdout",
          "text": [
            "1057/1057 [==============================] - 4s 3ms/step - loss: 0.3893 - accuracy: 0.8180\n"
          ]
        },
        {
          "output_type": "execute_result",
          "data": {
            "text/plain": [
              "<keras.callbacks.History at 0x7f3296f01180>"
            ]
          },
          "metadata": {},
          "execution_count": 462
        }
      ]
    },
    {
      "cell_type": "code",
      "source": [
        "X_test = preprocess_w_names(X_test)\n",
        "y_test = target_preprocess(y_test)\n",
        "\n",
        "lg_test_pred = gs_lg.predict(X_test)\n",
        "dt_test_pred = gs_clf.predict(X_test)\n",
        "\n",
        "lg_metrics = classification_report(y_test, lg_test_pred)\n",
        "lg_acc = accuracy_score(y_test, lg_test_pred)\n",
        "lg_prec = precision_score(y_test, lg_test_pred)\n",
        "lg_rec = recall_score(y_test, lg_test_pred)\n",
        "\n",
        "print(f'Logistic Regression:\\n:{lg_metrics}\\nAccuracy:{lg_acc}\\nPrecision:{lg_prec}\\nRecall{lg_rec}\\n')\n",
        "\n",
        "dt_metrics = classification_report(y_test, dt_test_pred)\n",
        "dt_acc = accuracy_score(y_test, dt_test_pred)\n",
        "dt_prec = precision_score(y_test, dt_test_pred)\n",
        "dt_rec = recall_score(y_test, dt_test_pred)\n",
        "\n",
        "print(f'Decision Tree:\\n:{dt_metrics}\\nAccuracy:{dt_acc}\\nPrecision:{dt_prec}\\nRecall{dt_rec}\\n')"
      ],
      "metadata": {
        "colab": {
          "base_uri": "https://localhost:8080/",
          "height": 0
        },
        "id": "hY6g1LVijqpZ",
        "outputId": "dc93b903-8aa8-4219-98e8-c0d4b33a0083"
      },
      "execution_count": 463,
      "outputs": [
        {
          "output_type": "stream",
          "name": "stderr",
          "text": [
            "/usr/local/lib/python3.10/dist-packages/sklearn/preprocessing/_encoders.py:868: FutureWarning: `sparse` was renamed to `sparse_output` in version 1.2 and will be removed in 1.4. `sparse_output` is ignored unless you leave `sparse` to its default value.\n",
            "  warnings.warn(\n"
          ]
        },
        {
          "output_type": "stream",
          "name": "stdout",
          "text": [
            "Logistic Regression:\n",
            ":              precision    recall  f1-score   support\n",
            "\n",
            "           0       0.92      0.78      0.85      4531\n",
            "           1       0.55      0.80      0.65      1502\n",
            "\n",
            "    accuracy                           0.79      6033\n",
            "   macro avg       0.74      0.79      0.75      6033\n",
            "weighted avg       0.83      0.79      0.80      6033\n",
            "\n",
            "Accuracy:0.7881650919940328\n",
            "Precision:0.5513761467889908\n",
            "Recall0.800266311584554\n",
            "\n",
            "Decision Tree:\n",
            ":              precision    recall  f1-score   support\n",
            "\n",
            "           0       0.90      0.86      0.88      4531\n",
            "           1       0.63      0.71      0.67      1502\n",
            "\n",
            "    accuracy                           0.82      6033\n",
            "   macro avg       0.76      0.78      0.77      6033\n",
            "weighted avg       0.83      0.82      0.83      6033\n",
            "\n",
            "Accuracy:0.8226421349245815\n",
            "Precision:0.627208480565371\n",
            "Recall0.7090545938748336\n",
            "\n"
          ]
        }
      ]
    },
    {
      "cell_type": "code",
      "source": [
        "ffnn_test_pred = model[1].predict(X_test)\n",
        "\n",
        "for i in range(len(ffnn_test_pred)): \n",
        "  if ffnn_test_pred[i] > 0.50:\n",
        "    ffnn_test_pred[i] = 1\n",
        "  else:\n",
        "    ffnn_test_pred[i] = 0\n",
        "\n",
        "cr = classification_report(ffnn_test_pred, y_test)\n",
        "print(f'{ffnn_test_pred}\\n\\n{cr}')"
      ],
      "metadata": {
        "colab": {
          "base_uri": "https://localhost:8080/",
          "height": 0
        },
        "id": "7jrd5XnhkMNw",
        "outputId": "77d7e8a3-ff41-491d-cd77-7eec6b1c3eec"
      },
      "execution_count": 464,
      "outputs": [
        {
          "output_type": "stream",
          "name": "stdout",
          "text": [
            "189/189 [==============================] - 0s 1ms/step\n",
            "[[1.]\n",
            " [0.]\n",
            " [1.]\n",
            " ...\n",
            " [0.]\n",
            " [0.]\n",
            " [0.]]\n",
            "\n",
            "              precision    recall  f1-score   support\n",
            "\n",
            "         0.0       0.75      0.94      0.83      3606\n",
            "         1.0       0.86      0.53      0.65      2427\n",
            "\n",
            "    accuracy                           0.78      6033\n",
            "   macro avg       0.80      0.73      0.74      6033\n",
            "weighted avg       0.79      0.78      0.76      6033\n",
            "\n"
          ]
        }
      ]
    }
  ],
  "metadata": {
    "colab": {
      "provenance": [],
      "machine_shape": "hm",
      "gpuType": "A100",
      "include_colab_link": true
    },
    "kernelspec": {
      "display_name": "Python 3",
      "name": "python3"
    },
    "language_info": {
      "name": "python"
    },
    "accelerator": "GPU",
    "gpuClass": "standard"
  },
  "nbformat": 4,
  "nbformat_minor": 0
}